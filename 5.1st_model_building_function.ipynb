{
 "cells": [
  {
   "cell_type": "markdown",
   "metadata": {},
   "source": [
    "### AS the data is huge we are building separate models by splitting w.r.t to city"
   ]
  },
  {
   "cell_type": "code",
   "execution_count": 1,
   "metadata": {},
   "outputs": [],
   "source": [
    "import numpy as np\n",
    "import pandas as pd\n",
    "import warnings\n",
    "import os\n",
    "warnings.filterwarnings('ignore')\n",
    "from xgboost.sklearn import XGBRegressor"
   ]
  },
  {
   "cell_type": "code",
   "execution_count": 2,
   "metadata": {},
   "outputs": [
    {
     "data": {
      "text/plain": [
       "'C:\\\\Users\\\\jayam\\\\Downloads\\\\7879phd'"
      ]
     },
     "execution_count": 2,
     "metadata": {},
     "output_type": "execute_result"
    }
   ],
   "source": [
    "path=os.getcwd()\n",
    "path"
   ]
  },
  {
   "cell_type": "code",
   "execution_count": 7,
   "metadata": {},
   "outputs": [],
   "source": [
    "#Approach:-\n",
    "#1) split the train_data, test_data with respect to city into seperate files\n",
    "\n",
    "#model1: sales contribution model\n",
    "#3) make copy of train_1 as train_1_contri, test_1 as test_contri\n",
    "#6) create sales_contribution column in train_1_contri(groupby date)\n",
    "#7) predict sales contribution for train_contri and test_1_contri using xgboost\n",
    "#8) store the predictions into new train_contri_predictions df and test_contri_predictions df\n",
    "#9) creating test sales contribution sum by grouping w.r.t to date and getting sales contribution sum per day \n",
    "#10) so, basically we are creating new dataframe test_sale_contri_sum \n",
    "#11)  merge with test_contri_predictions to get actual sales contribution in test dataset\n",
    "\n",
    "#model2: footfall model\n",
    "#8) create a model for predicting footfall data\n",
    "#9) use xgboost to predict footfall for test_1_total_sales data\n",
    "#10) make foofall_1_test df from the prediction for test_1_total_sales\n",
    "\n",
    "#model3: total sales model\n",
    "#11) make a copy of train_1 as train_1_total_sales and test_1 as test_1_total_sales\n",
    "#12) groupby the train_1_total_sales wrt to year,month,day and aggregate the sales\n",
    "#13) merge train_1_total_sales with footfall_1\n",
    "#14) merge test_1_total_sales with footfall_1_test\n",
    "#15) predict total sales for train_1_total_sales and test_1_total_sales using xgboost\n",
    "#16) store the predictions into new train_1_total_sales_prediction df and test_1_total_sales_prediciton df\n",
    "\n",
    "#output generator\n",
    "#create a sales column in the train_contri_predictions by multiplying each row's sales contribution \n",
    "#to the total sales for that day taken from the train_1_total_sale_prediction \n",
    "#create a sales column in the test_contri_predictions by multiplying each row's sales contribution \n",
    "#to the total sales for that day taken from the test_1_total_sale_prediction \n",
    "\n",
    "#done "
   ]
  },
  {
   "cell_type": "code",
   "execution_count": 8,
   "metadata": {},
   "outputs": [],
   "source": [
    "def mean_absolute_percentage_error(y_true, y_pred): # function for getting mape value\n",
    "    y_true, y_pred = np.array(y_true), np.array(y_pred)\n",
    "    return np.mean(np.abs((y_true - y_pred) / y_true)) * 100"
   ]
  },
  {
   "cell_type": "code",
   "execution_count": 9,
   "metadata": {},
   "outputs": [],
   "source": [
    "# creation a function which takes X_train,y_train and X_test as inputs \n",
    "def model(X_train,y_train,X_test):# creating a function for modelling which returns test predictions and its mape value\n",
    "    clf=XGBRegressor(njobs=-1,seed=123)# we are experimenting only with 1 model xgboost as base model\n",
    "    clf = clf.fit(X_train, y_train)\n",
    "    train_pred = clf.predict(X_train)\n",
    "    test_pred = clf.predict(X_test)\n",
    "    mape=mean_absolute_percentage_error(y_train, train_pred)# calculate mape\n",
    "    return test_pred,mape"
   ]
  },
  {
   "cell_type": "code",
   "execution_count": 10,
   "metadata": {},
   "outputs": [],
   "source": [
    "def merge_fun(df1,df2,cols,join_type):# function for merging\n",
    "    return df1.merge(df2,on=cols,how=join_type)"
   ]
  },
  {
   "cell_type": "code",
   "execution_count": 11,
   "metadata": {},
   "outputs": [],
   "source": [
    "def model_function(files):\n",
    "    df=pd.DataFrame()\n",
    "    for file in files:\n",
    "        # fixing the columns for sales contribution prediction for modelling\n",
    "        sales_contri_cols=[\"year\",\"month\",\"day\",\"medicine\",\"discounted\",\"week\"]\n",
    "        file=str(file)\n",
    "        city=file\n",
    "        train=pd.read_csv(\"train_\"+file+\".csv\")# read each train file\n",
    "        test=pd.read_csv(\"test_\"+file+\".csv\")# read each test file\n",
    "        train[\"discounted\"]=train[\"discounted\"].fillna(0)# fill na values for discounted column\n",
    "        train_contri=train.copy()# creating a copy of train dataset\n",
    "        test_contri=test.copy()# creating a copy of test dataset\n",
    "        # creating sales sum dataframe\n",
    "        sale_sum=train_contri.groupby(\"date\")[\"sales\"].sum().reset_index()# grouping with date and take sum of  sales\n",
    "        sale_sum.rename(columns={\"sales\":\"sales_sum\"},inplace=True)# renaming sales column as salesum\n",
    "        # merging sales sum with train dataset\n",
    "        train_contri=merge_fun(train_contri,sale_sum,[\"date\"],\"left\")# merge sales with with train_contri\n",
    "        # creating sales contribution\n",
    "        train_contri[\"sales_contribution\"]=train_contri[\"sales\"]/train_contri[\"sales_sum\"]\n",
    "        # passing to data to model \n",
    "        sales_contri=model(train_contri[sales_contri_cols],train_contri[\"sales_contribution\"],test_contri[sales_contri_cols])\n",
    "        print(\"sales contribution mape of city-\",file,\"is\",sales_contri[1])\n",
    "        # storing test sales_contribution in test_contri_predictions\n",
    "        test_contri_predictions=test_contri[[\"date\",\"id\"]]\n",
    "        test_contri_predictions[\"sales_contribution\"]=sales_contri[0]\n",
    "        \n",
    "        # creating test sales conrribution sum by grouping w.r.t to date and getting sales contribution sum per day \n",
    "        # basically we are creating new dataframe test_sale_contri_sum \n",
    "        # merge with test_contri_predictions to get actual sales contribution in test dataset\n",
    "        \n",
    "        test_sale_contri_sum=test_contri_predictions.groupby([\"date\"])[\"sales_contribution\"].sum().reset_index()\n",
    "        #creating sales contribution sum dataframe\n",
    "        test_sale_contri_sum.rename(columns={\"sales_contribution\":\"sales_contribution_sumperday\"},inplace=True)\n",
    "        #merge with test contri predictions\n",
    "        test_contri_predictions=test_contri_predictions.merge(test_sale_contri_sum,on=[\"date\"],how=\"left\")\n",
    "        \n",
    "        # creating a column sales contributions contribution by dividing sales contribution with sum of sales contribution per day \n",
    "        # we are creating this column because sum of sales contribution is not 1 per day\n",
    "        \n",
    "        test_contri_predictions[\"sales_contributions_contribution\"]=test_contri_predictions[\"sales_contribution\"]/test_contri_predictions[\"sales_contribution_sumperday\"]\n",
    "        # drop sales_contribution_sumperday and sales_contribution\n",
    "        test_contri_predictions.drop([\"sales_contribution_sumperday\",\"sales_contribution\"],axis=1,inplace=True)\n",
    "        \n",
    "        # build model for predicting footfall \n",
    "        # creating x_train,y_train and x_test for footfall model\n",
    "        X_train_footfall=train_contri[[\"year\",\"month\",\"week\",\"day\"]].drop_duplicates().reset_index(drop=True)\n",
    "        X_test_footfall=test_contri[[\"year\",\"month\",\"week\",\"day\"]].drop_duplicates().reset_index(drop=True)\n",
    "        y_train_footfall=train_contri[[\"date\",\"footfall\"]].drop_duplicates().reset_index(drop=True)\n",
    "        y_train_footfall=y_train_footfall[\"footfall\"]\n",
    "        \n",
    "        #print( X_train_footfall.shape,X_train_footfall.head(2))\n",
    "        #print( X_test_footfall.shape)\n",
    "        #print( y_train_footfall.shape)\n",
    "        # pass the data to footfall model\n",
    "        \n",
    "        footfall_model=model(X_train_footfall,y_train_footfall,X_test_footfall)\n",
    "        print(\"footfall mape of city-\",file,\"is\",footfall_model[1])\n",
    "        # storing footfall predictions\n",
    "        test_footfall_predictions=test_contri[[\"year\",\"month\",\"week\",\"day\"]].drop_duplicates().reset_index(drop=True)\n",
    "        test_footfall_predictions[\"footfall\"]=np.round(footfall_model[0])\n",
    "        \n",
    "        # build a model for predicting total sales\n",
    "        # create a dataframe for storing sum of sales\n",
    "        train_total_sales=train.groupby([\"date\"])[\"sales\"].sum().reset_index()\n",
    "        # storing footfall data only for train data set\n",
    "        footfall=train[[\"date\",\"year\",\"month\",\"week\",\"day\",\"footfall\"]].drop_duplicates().reset_index(drop=True)\n",
    "        \n",
    "        #merge the total sales data with footfall\n",
    "        train_total_sales=merge_fun(train_total_sales,footfall,[\"date\"],\"left\")\n",
    "        \n",
    "        # creating a dataset for test data for total sales\n",
    "        test_total_sales=test[[\"date\",\"year\",\"month\",\"week\",\"day\"]].drop_duplicates().reset_index(drop=True)\n",
    "        \n",
    "        # merge test total sales with footfall\n",
    "        test_total_sales=merge_fun(test_total_sales,test_footfall_predictions,[\"year\",\"month\",\"week\",\"day\"],\"left\")\n",
    "        \n",
    "        # creating x_train,y_train and x_test for total sales model\n",
    "        \n",
    "        X_train_sales=train_total_sales.drop([\"date\",\"sales\"],axis=1)\n",
    "        X_test_sales=test_total_sales.drop([\"date\"],axis=1)\n",
    "        X_train_sales= X_train_sales[['footfall', 'year', 'month', 'week', 'day']]\n",
    "        X_test_sales=X_test_sales[['footfall', 'year', 'month', 'week', 'day']]\n",
    "        y_train_sales=train_total_sales[\"sales\"]\n",
    "        \n",
    "        # pass the data to sales_model for getting total sales predictions\n",
    "        sales_model=model(X_train_sales,y_train_sales,X_test_sales)\n",
    "        print(\"total sales  mape of city-\",file,\"is\",sales_model[1])\n",
    "        \n",
    "        test_total_sales_prediciton=test_total_sales[[\"date\"]]\n",
    "        test_total_sales_prediciton[\"total_sales\"]=sales_model[0]\n",
    "        \n",
    "        # now we have total sales data and sales contribution data\n",
    "        # sales contribution= sales /total sales\n",
    "        # so, sales = total sales *sales contribution\n",
    "        \n",
    "        test_contri_predictions=merge_fun(test_contri_predictions,test_total_sales_prediciton,[\"date\"],\"left\")\n",
    "        test_contri_predictions[\"sales\"]=test_contri_predictions[\"sales_contributions_contribution\"]*test_contri_predictions[\"total_sales\"]\n",
    "        \n",
    "        # drop total_sales,sales_contributions and store test predictions\n",
    "        test_contri_predictions.drop([\"total_sales\",\"sales_contributions_contribution\"],axis=1,inplace=True)\n",
    "        \n",
    "        # concat all the test predictions for all the cities\n",
    "        df=pd.concat([df,test_contri_predictions])\n",
    "        \n",
    "    return df\n",
    "        "
   ]
  },
  {
   "cell_type": "code",
   "execution_count": 17,
   "metadata": {},
   "outputs": [
    {
     "data": {
      "text/plain": [
       "[1, 2, 3, 4, 5, 6, 7, 8, 9, 10]"
      ]
     },
     "execution_count": 17,
     "metadata": {},
     "output_type": "execute_result"
    }
   ],
   "source": [
    "list(range(1,11))"
   ]
  },
  {
   "cell_type": "code",
   "execution_count": 18,
   "metadata": {
    "scrolled": true
   },
   "outputs": [
    {
     "name": "stdout",
     "output_type": "stream",
     "text": [
      "[09:28:51] WARNING: C:/Jenkins/workspace/xgboost-win64_release_0.90/src/objective/regression_obj.cu:152: reg:linear is now deprecated in favor of reg:squarederror.\n",
      "sales contribution mape of city- 1 is 255.2120242646947\n",
      "[09:31:15] WARNING: C:/Jenkins/workspace/xgboost-win64_release_0.90/src/objective/regression_obj.cu:152: reg:linear is now deprecated in favor of reg:squarederror.\n",
      "footfall mape of city- 1 is 8.128923716249714\n",
      "[09:31:16] WARNING: C:/Jenkins/workspace/xgboost-win64_release_0.90/src/objective/regression_obj.cu:152: reg:linear is now deprecated in favor of reg:squarederror.\n",
      "total sales  mape of city- 1 is 9.258750554745195\n",
      "[09:31:20] WARNING: C:/Jenkins/workspace/xgboost-win64_release_0.90/src/objective/regression_obj.cu:152: reg:linear is now deprecated in favor of reg:squarederror.\n",
      "sales contribution mape of city- 2 is 183.21571828035536\n",
      "[09:32:44] WARNING: C:/Jenkins/workspace/xgboost-win64_release_0.90/src/objective/regression_obj.cu:152: reg:linear is now deprecated in favor of reg:squarederror.\n",
      "footfall mape of city- 2 is 10.575923747070505\n",
      "[09:32:44] WARNING: C:/Jenkins/workspace/xgboost-win64_release_0.90/src/objective/regression_obj.cu:152: reg:linear is now deprecated in favor of reg:squarederror.\n",
      "total sales  mape of city- 2 is 8.945374280644893\n",
      "[09:32:49] WARNING: C:/Jenkins/workspace/xgboost-win64_release_0.90/src/objective/regression_obj.cu:152: reg:linear is now deprecated in favor of reg:squarederror.\n",
      "sales contribution mape of city- 3 is 204.7793853157811\n",
      "[09:34:16] WARNING: C:/Jenkins/workspace/xgboost-win64_release_0.90/src/objective/regression_obj.cu:152: reg:linear is now deprecated in favor of reg:squarederror.\n",
      "footfall mape of city- 3 is 5.2439109982074505\n",
      "[09:34:17] WARNING: C:/Jenkins/workspace/xgboost-win64_release_0.90/src/objective/regression_obj.cu:152: reg:linear is now deprecated in favor of reg:squarederror.\n",
      "total sales  mape of city- 3 is 13.956482998551046\n",
      "[09:34:22] WARNING: C:/Jenkins/workspace/xgboost-win64_release_0.90/src/objective/regression_obj.cu:152: reg:linear is now deprecated in favor of reg:squarederror.\n",
      "sales contribution mape of city- 4 is 270.78856706930253\n",
      "[09:36:01] WARNING: C:/Jenkins/workspace/xgboost-win64_release_0.90/src/objective/regression_obj.cu:152: reg:linear is now deprecated in favor of reg:squarederror.\n",
      "footfall mape of city- 4 is 10.28397904454916\n",
      "[09:36:02] WARNING: C:/Jenkins/workspace/xgboost-win64_release_0.90/src/objective/regression_obj.cu:152: reg:linear is now deprecated in favor of reg:squarederror.\n",
      "total sales  mape of city- 4 is 10.401373604394621\n",
      "[09:36:07] WARNING: C:/Jenkins/workspace/xgboost-win64_release_0.90/src/objective/regression_obj.cu:152: reg:linear is now deprecated in favor of reg:squarederror.\n",
      "sales contribution mape of city- 5 is 245.52419510005308\n",
      "[09:37:51] WARNING: C:/Jenkins/workspace/xgboost-win64_release_0.90/src/objective/regression_obj.cu:152: reg:linear is now deprecated in favor of reg:squarederror.\n",
      "footfall mape of city- 5 is 12.385442606055374\n",
      "[09:37:52] WARNING: C:/Jenkins/workspace/xgboost-win64_release_0.90/src/objective/regression_obj.cu:152: reg:linear is now deprecated in favor of reg:squarederror.\n",
      "total sales  mape of city- 5 is 9.329228828846372\n",
      "[09:38:01] WARNING: C:/Jenkins/workspace/xgboost-win64_release_0.90/src/objective/regression_obj.cu:152: reg:linear is now deprecated in favor of reg:squarederror.\n",
      "sales contribution mape of city- 6 is 234.27344655100478\n",
      "[09:39:41] WARNING: C:/Jenkins/workspace/xgboost-win64_release_0.90/src/objective/regression_obj.cu:152: reg:linear is now deprecated in favor of reg:squarederror.\n",
      "footfall mape of city- 6 is 16.645978371550786\n",
      "[09:39:42] WARNING: C:/Jenkins/workspace/xgboost-win64_release_0.90/src/objective/regression_obj.cu:152: reg:linear is now deprecated in favor of reg:squarederror.\n",
      "total sales  mape of city- 6 is 7.923083338872772\n",
      "[09:39:47] WARNING: C:/Jenkins/workspace/xgboost-win64_release_0.90/src/objective/regression_obj.cu:152: reg:linear is now deprecated in favor of reg:squarederror.\n",
      "sales contribution mape of city- 7 is 238.80910003395798\n",
      "[09:41:20] WARNING: C:/Jenkins/workspace/xgboost-win64_release_0.90/src/objective/regression_obj.cu:152: reg:linear is now deprecated in favor of reg:squarederror.\n",
      "footfall mape of city- 7 is 12.474947721084797\n",
      "[09:41:20] WARNING: C:/Jenkins/workspace/xgboost-win64_release_0.90/src/objective/regression_obj.cu:152: reg:linear is now deprecated in favor of reg:squarederror.\n",
      "total sales  mape of city- 7 is 8.821649207587857\n",
      "[09:41:25] WARNING: C:/Jenkins/workspace/xgboost-win64_release_0.90/src/objective/regression_obj.cu:152: reg:linear is now deprecated in favor of reg:squarederror.\n",
      "sales contribution mape of city- 8 is 224.68107586899038\n",
      "[09:42:48] WARNING: C:/Jenkins/workspace/xgboost-win64_release_0.90/src/objective/regression_obj.cu:152: reg:linear is now deprecated in favor of reg:squarederror.\n",
      "footfall mape of city- 8 is 18.908061328250504\n",
      "[09:42:49] WARNING: C:/Jenkins/workspace/xgboost-win64_release_0.90/src/objective/regression_obj.cu:152: reg:linear is now deprecated in favor of reg:squarederror.\n",
      "total sales  mape of city- 8 is 7.480783566458371\n",
      "[09:42:53] WARNING: C:/Jenkins/workspace/xgboost-win64_release_0.90/src/objective/regression_obj.cu:152: reg:linear is now deprecated in favor of reg:squarederror.\n",
      "sales contribution mape of city- 9 is 244.04766742820718\n",
      "[09:44:26] WARNING: C:/Jenkins/workspace/xgboost-win64_release_0.90/src/objective/regression_obj.cu:152: reg:linear is now deprecated in favor of reg:squarederror.\n",
      "footfall mape of city- 9 is 11.3729152607617\n",
      "[09:44:27] WARNING: C:/Jenkins/workspace/xgboost-win64_release_0.90/src/objective/regression_obj.cu:152: reg:linear is now deprecated in favor of reg:squarederror.\n",
      "total sales  mape of city- 9 is 10.031714539139411\n",
      "[09:44:31] WARNING: C:/Jenkins/workspace/xgboost-win64_release_0.90/src/objective/regression_obj.cu:152: reg:linear is now deprecated in favor of reg:squarederror.\n",
      "sales contribution mape of city- 10 is 196.35541920153645\n",
      "[09:46:02] WARNING: C:/Jenkins/workspace/xgboost-win64_release_0.90/src/objective/regression_obj.cu:152: reg:linear is now deprecated in favor of reg:squarederror.\n",
      "footfall mape of city- 10 is 13.638984613241236\n",
      "[09:46:02] WARNING: C:/Jenkins/workspace/xgboost-win64_release_0.90/src/objective/regression_obj.cu:152: reg:linear is now deprecated in favor of reg:squarederror.\n",
      "total sales  mape of city- 10 is 8.153208272764841\n"
     ]
    }
   ],
   "source": [
    "pred=model_function(list(range(1,11)))"
   ]
  },
  {
   "cell_type": "code",
   "execution_count": 19,
   "metadata": {},
   "outputs": [],
   "source": [
    "pred.to_csv(\"predictions_ver3.csv\",index=False)"
   ]
  },
  {
   "cell_type": "markdown",
   "metadata": {},
   "source": [
    "#### Conclusion"
   ]
  },
  {
   "cell_type": "markdown",
   "metadata": {},
   "source": [
    "####  This model is giving score of 76.54 in sct so, this is not a good approach, may be model is missing relationship between cities, so let us build a model on the entire dataset "
   ]
  }
 ],
 "metadata": {
  "kernelspec": {
   "display_name": "Python 3",
   "language": "python",
   "name": "python3"
  },
  "language_info": {
   "codemirror_mode": {
    "name": "ipython",
    "version": 3
   },
   "file_extension": ".py",
   "mimetype": "text/x-python",
   "name": "python",
   "nbconvert_exporter": "python",
   "pygments_lexer": "ipython3",
   "version": "3.7.3"
  }
 },
 "nbformat": 4,
 "nbformat_minor": 4
}
