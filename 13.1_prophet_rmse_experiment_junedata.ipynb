{
 "cells": [
  {
   "cell_type": "code",
   "execution_count": null,
   "metadata": {
    "id": "KnsJwjKie15m"
   },
   "outputs": [],
   "source": [
    "#top10kcity_meds"
   ]
  },
  {
   "cell_type": "code",
   "execution_count": 1,
   "metadata": {
    "colab": {
     "base_uri": "https://localhost:8080/",
     "height": 34
    },
    "id": "ctbJM9aRe4jI",
    "outputId": "49637d7a-2ecd-4ee0-85d9-6ed1df8659a4"
   },
   "outputs": [
    {
     "name": "stdout",
     "output_type": "stream",
     "text": [
      "Mounted at /content/drive\n"
     ]
    }
   ],
   "source": [
    "from google.colab import drive\n",
    "drive.mount('/content/drive')"
   ]
  },
  {
   "cell_type": "code",
   "execution_count": 4,
   "metadata": {
    "id": "s9I7L_xCe15v",
    "scrolled": true
   },
   "outputs": [],
   "source": [
    "import numpy as np\n",
    "import pandas as pd\n",
    "from sklearn.linear_model import LinearRegression\n",
    "from sklearn.preprocessing import StandardScaler\n",
    "import json\n",
    "import math\n",
    "import os\n",
    "from fbprophet import Prophet\n",
    "import warnings\n",
    "warnings.filterwarnings(\"ignore\")\n",
    "from sklearn.metrics import mean_squared_error\n"
   ]
  },
  {
   "cell_type": "code",
   "execution_count": 5,
   "metadata": {
    "colab": {
     "base_uri": "https://localhost:8080/",
     "height": 35
    },
    "id": "5hnN6FrQe153",
    "outputId": "b08e4bab-13cd-418e-a1e5-5529518ebb28"
   },
   "outputs": [
    {
     "data": {
      "application/vnd.google.colaboratory.intrinsic+json": {
       "type": "string"
      },
      "text/plain": [
       "'/content'"
      ]
     },
     "execution_count": 5,
     "metadata": {
      "tags": []
     },
     "output_type": "execute_result"
    }
   ],
   "source": [
    "path=os.getcwd()\n",
    "path"
   ]
  },
  {
   "cell_type": "code",
   "execution_count": 6,
   "metadata": {
    "id": "Gwm2-5AHe159"
   },
   "outputs": [],
   "source": [
    "test=pd.read_csv(path +\"/drive/My Drive/7879phd/test_final.csv\", sep=\",\", na_values=[\"?\",\",\",\"#\",\"NaN\",\"unknown\",\"\"],usecols=[\"city_medicine\",\"date\",\"id\",\"year\"])\n",
    "train=pd.read_csv(path +\"/drive/My Drive/7879phd/train_final.csv\", sep=\",\", na_values=[\"?\",\",\",\"#\",\"NaN\",\"unknown\",\"\"],usecols=[\"city_medicine\",\"date\",\"sales\",\"year\"])"
   ]
  },
  {
   "cell_type": "code",
   "execution_count": 7,
   "metadata": {
    "colab": {
     "base_uri": "https://localhost:8080/",
     "height": 195
    },
    "id": "c1GyBJdNe16E",
    "outputId": "bf794d6b-d9f1-404e-f1ae-eeb904338f60"
   },
   "outputs": [
    {
     "data": {
      "text/html": [
       "<div>\n",
       "<style scoped>\n",
       "    .dataframe tbody tr th:only-of-type {\n",
       "        vertical-align: middle;\n",
       "    }\n",
       "\n",
       "    .dataframe tbody tr th {\n",
       "        vertical-align: top;\n",
       "    }\n",
       "\n",
       "    .dataframe thead th {\n",
       "        text-align: right;\n",
       "    }\n",
       "</style>\n",
       "<table border=\"1\" class=\"dataframe\">\n",
       "  <thead>\n",
       "    <tr style=\"text-align: right;\">\n",
       "      <th></th>\n",
       "      <th>year</th>\n",
       "      <th>date</th>\n",
       "      <th>sales</th>\n",
       "      <th>city_medicine</th>\n",
       "    </tr>\n",
       "  </thead>\n",
       "  <tbody>\n",
       "    <tr>\n",
       "      <th>0</th>\n",
       "      <td>2015</td>\n",
       "      <td>2015-01-02</td>\n",
       "      <td>24.0</td>\n",
       "      <td>1_1</td>\n",
       "    </tr>\n",
       "    <tr>\n",
       "      <th>1</th>\n",
       "      <td>2015</td>\n",
       "      <td>2015-01-02</td>\n",
       "      <td>144.0</td>\n",
       "      <td>1_2</td>\n",
       "    </tr>\n",
       "    <tr>\n",
       "      <th>2</th>\n",
       "      <td>2015</td>\n",
       "      <td>2015-01-02</td>\n",
       "      <td>84.0</td>\n",
       "      <td>1_3</td>\n",
       "    </tr>\n",
       "    <tr>\n",
       "      <th>3</th>\n",
       "      <td>2015</td>\n",
       "      <td>2015-01-02</td>\n",
       "      <td>24.0</td>\n",
       "      <td>1_4</td>\n",
       "    </tr>\n",
       "    <tr>\n",
       "      <th>4</th>\n",
       "      <td>2015</td>\n",
       "      <td>2015-01-02</td>\n",
       "      <td>8.0</td>\n",
       "      <td>1_5</td>\n",
       "    </tr>\n",
       "  </tbody>\n",
       "</table>\n",
       "</div>"
      ],
      "text/plain": [
       "   year        date  sales city_medicine\n",
       "0  2015  2015-01-02   24.0           1_1\n",
       "1  2015  2015-01-02  144.0           1_2\n",
       "2  2015  2015-01-02   84.0           1_3\n",
       "3  2015  2015-01-02   24.0           1_4\n",
       "4  2015  2015-01-02    8.0           1_5"
      ]
     },
     "execution_count": 7,
     "metadata": {
      "tags": []
     },
     "output_type": "execute_result"
    }
   ],
   "source": [
    "train.head()"
   ]
  },
  {
   "cell_type": "code",
   "execution_count": 14,
   "metadata": {
    "id": "psrAC3Dye17G"
   },
   "outputs": [],
   "source": [
    "trn=train[train[\"year\"]>=2017]# subset from 2017 only"
   ]
  },
  {
   "cell_type": "code",
   "execution_count": 24,
   "metadata": {
    "id": "GplH4Evxe19M"
   },
   "outputs": [],
   "source": [
    "sub_set=trn[[\"date\",\"sales\",\"city_medicine\"]]"
   ]
  },
  {
   "cell_type": "code",
   "execution_count": 25,
   "metadata": {
    "id": "j9HAyRkAe19R"
   },
   "outputs": [],
   "source": [
    "lst=list(trn[\"city_medicine\"].value_counts().index)"
   ]
  },
  {
   "cell_type": "code",
   "execution_count": 26,
   "metadata": {
    "id": "gzwd25wIe19X"
   },
   "outputs": [],
   "source": [
    "sub_set.reset_index(inplace=True,drop=True)"
   ]
  },
  {
   "cell_type": "code",
   "execution_count": 28,
   "metadata": {
    "colab": {
     "base_uri": "https://localhost:8080/",
     "height": 34
    },
    "id": "vSHshkome19b",
    "outputId": "a594a634-8d84-43c9-8fd5-2f86d381a3f6"
   },
   "outputs": [
    {
     "data": {
      "text/plain": [
       "(11719423, 3)"
      ]
     },
     "execution_count": 28,
     "metadata": {
      "tags": []
     },
     "output_type": "execute_result"
    }
   ],
   "source": [
    "sub_set.shape"
   ]
  },
  {
   "cell_type": "code",
   "execution_count": null,
   "metadata": {
    "id": "fHZGbhrwe19f"
   },
   "outputs": [],
   "source": [
    "def add_dates(lst):#adding missing dates\n",
    "    final=pd.DataFrame()\n",
    "    for med in lst:\n",
    "        df=sub_set[sub_set[\"city_medicine\"]==med]\n",
    "        df[\"date\"]=pd.to_datetime(df[\"date\"])\n",
    "        start_date1=pd.to_datetime(\"2017-01-02\")\n",
    "        end_date = pd.to_datetime(\"2018-06-30\")\n",
    "        dates=pd.DataFrame()\n",
    "        dates[\"date\"]=pd.date_range(start=start_date1,end=end_date,freq=\"d\")\n",
    "        dates=dates.merge(df,on=[\"date\"],how=\"left\")\n",
    "        dates[\"city_medicine\"]=med\n",
    "        dates[\"sales\"]=dates[\"sales\"].fillna(0)\n",
    "        #print(dates.head())\n",
    "        final=pd.concat([final,dates])\n",
    "    return final"
   ]
  },
  {
   "cell_type": "code",
   "execution_count": 4,
   "metadata": {
    "id": "Cphb4Je2e19p"
   },
   "outputs": [],
   "source": [
    "new_trn_df=add_dates(lst)# let us save the train df"
   ]
  },
  {
   "cell_type": "code",
   "execution_count": 5,
   "metadata": {
    "id": "aXnPEE44e19u"
   },
   "outputs": [],
   "source": [
    "new_trn_df.to_csv(\"new_trn_df.csv\",index=False)"
   ]
  },
  {
   "cell_type": "code",
   "execution_count": 6,
   "metadata": {
    "id": "X6EbpYVae192"
   },
   "outputs": [],
   "source": [
    "new_trn_df=pd.read_csv(path +\"/drive/My Drive/7879phd/new_trn_df.csv\")"
   ]
  },
  {
   "cell_type": "code",
   "execution_count": null,
   "metadata": {
    "colab": {
     "base_uri": "https://localhost:8080/",
     "height": 195
    },
    "id": "ljKQEY40e197",
    "outputId": "90cebc23-c3f7-486b-e057-7424b9e61593"
   },
   "outputs": [
    {
     "data": {
      "text/html": [
       "<div>\n",
       "<style scoped>\n",
       "    .dataframe tbody tr th:only-of-type {\n",
       "        vertical-align: middle;\n",
       "    }\n",
       "\n",
       "    .dataframe tbody tr th {\n",
       "        vertical-align: top;\n",
       "    }\n",
       "\n",
       "    .dataframe thead th {\n",
       "        text-align: right;\n",
       "    }\n",
       "</style>\n",
       "<table border=\"1\" class=\"dataframe\">\n",
       "  <thead>\n",
       "    <tr style=\"text-align: right;\">\n",
       "      <th></th>\n",
       "      <th>date</th>\n",
       "      <th>sales</th>\n",
       "      <th>city_medicine</th>\n",
       "    </tr>\n",
       "  </thead>\n",
       "  <tbody>\n",
       "    <tr>\n",
       "      <th>0</th>\n",
       "      <td>2017-01-02</td>\n",
       "      <td>144.0</td>\n",
       "      <td>4_21</td>\n",
       "    </tr>\n",
       "    <tr>\n",
       "      <th>1</th>\n",
       "      <td>2017-01-03</td>\n",
       "      <td>160.0</td>\n",
       "      <td>4_21</td>\n",
       "    </tr>\n",
       "    <tr>\n",
       "      <th>2</th>\n",
       "      <td>2017-01-04</td>\n",
       "      <td>300.0</td>\n",
       "      <td>4_21</td>\n",
       "    </tr>\n",
       "    <tr>\n",
       "      <th>3</th>\n",
       "      <td>2017-01-05</td>\n",
       "      <td>152.0</td>\n",
       "      <td>4_21</td>\n",
       "    </tr>\n",
       "    <tr>\n",
       "      <th>4</th>\n",
       "      <td>2017-01-06</td>\n",
       "      <td>136.0</td>\n",
       "      <td>4_21</td>\n",
       "    </tr>\n",
       "  </tbody>\n",
       "</table>\n",
       "</div>"
      ],
      "text/plain": [
       "         date  sales city_medicine\n",
       "0  2017-01-02  144.0          4_21\n",
       "1  2017-01-03  160.0          4_21\n",
       "2  2017-01-04  300.0          4_21\n",
       "3  2017-01-05  152.0          4_21\n",
       "4  2017-01-06  136.0          4_21"
      ]
     },
     "execution_count": 7,
     "metadata": {
      "tags": []
     },
     "output_type": "execute_result"
    }
   ],
   "source": [
    "new_trn_df.head()"
   ]
  },
  {
   "cell_type": "code",
   "execution_count": 3,
   "metadata": {
    "id": "ZgTnhaT6nnzZ"
   },
   "outputs": [],
   "source": [
    "new_trn_df[\"date\"]=pd.to_datetime(new_trn_df[\"date\"])"
   ]
  },
  {
   "cell_type": "code",
   "execution_count": 1,
   "metadata": {
    "id": "sBpe2gdme1-C"
   },
   "outputs": [],
   "source": [
    "def propht_model(lst):\n",
    "    fin=pd.DataFrame()\n",
    "    count=0\n",
    "    for med in lst:\n",
    "        df=new_trn_df[new_trn_df[\"city_medicine\"]==med]\n",
    "        df.columns = ['ds', 'y',\"city_medicine\"]\n",
    "        df1 = df.loc[df.ds <= '2018-05-31']\n",
    "        print(med)\n",
    "        model = Prophet(interval_width = 0.95)\n",
    "        model.fit(df1)\n",
    "        count=count+1\n",
    "        print(count)\n",
    "        future= model.make_future_dataframe(periods=30)\n",
    "        forecast = model.predict(future[-30:])\n",
    "        forecast[\"city_medicine\"]=med\n",
    "        fin=pd.concat([fin,forecast[[\"ds\",\"yhat\",\"city_medicine\"]]])\n",
    "    return fin"
   ]
  },
  {
   "cell_type": "markdown",
   "metadata": {
    "id": "OxHVqKBMptb-"
   },
   "source": [
    "Let us split the train data till may and make predictions on june and calculate rmse"
   ]
  },
  {
   "cell_type": "code",
   "execution_count": 15,
   "metadata": {
    "id": "QBFrNlchopFg"
   },
   "outputs": [],
   "source": [
    "jun_med_df=trn[(trn[\"date\"]>=\"2018-06-01\")&(trn[\"date\"]<=\"2018-06-30\")][\"city_medicine\"].value_counts().reset_index()"
   ]
  },
  {
   "cell_type": "code",
   "execution_count": 16,
   "metadata": {
    "colab": {
     "base_uri": "https://localhost:8080/",
     "height": 34
    },
    "id": "gWuaFKiKtafw",
    "outputId": "65ece610-509a-4ca7-9697-782fa791cc22"
   },
   "outputs": [
    {
     "data": {
      "text/plain": [
       "(30577, 2)"
      ]
     },
     "execution_count": 16,
     "metadata": {
      "tags": []
     },
     "output_type": "execute_result"
    }
   ],
   "source": [
    "jun_med_df.shape"
   ]
  },
  {
   "cell_type": "code",
   "execution_count": 18,
   "metadata": {
    "id": "tqOMqJ7JrT8_"
   },
   "outputs": [],
   "source": [
    "cmd_med_jun_df=jun_med_df[jun_med_df.index.isin(list(trn[trn[\"date\"]<=\"2018-05-30\"][\"city_medicine\"].values))].reset_index(drop=True)"
   ]
  },
  {
   "cell_type": "code",
   "execution_count": 19,
   "metadata": {
    "colab": {
     "base_uri": "https://localhost:8080/",
     "height": 34
    },
    "id": "GKgMtJp4tKUz",
    "outputId": "0a4b1564-7973-42c2-e0d6-6d800553fae5"
   },
   "outputs": [
    {
     "data": {
      "text/plain": [
       "(14264, 2)"
      ]
     },
     "execution_count": 19,
     "metadata": {
      "tags": []
     },
     "output_type": "execute_result"
    }
   ],
   "source": [
    "cmd_med_jun_df.shape"
   ]
  },
  {
   "cell_type": "code",
   "execution_count": 43,
   "metadata": {
    "id": "STtC4MD5zhOA"
   },
   "outputs": [],
   "source": [
    "ju=cmd_med_jun_df[cmd_med_jun_df.index.isin(list(test.city_medicine.value_counts().index))]"
   ]
  },
  {
   "cell_type": "code",
   "execution_count": 36,
   "metadata": {
    "colab": {
     "base_uri": "https://localhost:8080/",
     "height": 34
    },
    "id": "4olyKH5CvfMY",
    "outputId": "78c94954-cc8a-4acc-e973-b4766029960a"
   },
   "outputs": [
    {
     "data": {
      "text/plain": [
       "(11855, 2)"
      ]
     },
     "execution_count": 36,
     "metadata": {
      "tags": []
     },
     "output_type": "execute_result"
    }
   ],
   "source": [
    "cmd_med_jun_df[cmd_med_jun_df.index.isin(list(test.city_medicine.value_counts().index))].shape"
   ]
  },
  {
   "cell_type": "markdown",
   "metadata": {
    "id": "jsEG2d3kwkiF"
   },
   "source": [
    "so there 11855 common medicines"
   ]
  },
  {
   "cell_type": "code",
   "execution_count": 39,
   "metadata": {
    "id": "731HQ2pVzVtO"
   },
   "outputs": [],
   "source": [
    "df=pd.DataFrame(test[\"city_medicine\"].value_counts(normalize=True))\n",
    "df.rename(columns={\"city_medicine\":\"percent\"},inplace=True)\n",
    "df[\"cumsum\"]=df[\"percent\"].cumsum()*100"
   ]
  },
  {
   "cell_type": "code",
   "execution_count": 51,
   "metadata": {
    "id": "7Jw925dn1Gq-"
   },
   "outputs": [],
   "source": [
    "df[\"valuecount\"]=test[\"city_medicine\"].value_counts().values"
   ]
  },
  {
   "cell_type": "code",
   "execution_count": 53,
   "metadata": {
    "colab": {
     "base_uri": "https://localhost:8080/",
     "height": 34
    },
    "id": "B3A_Xs6T0_YW",
    "outputId": "afc84d69-1c63-4efb-d385-3aaac952412f"
   },
   "outputs": [
    {
     "data": {
      "text/plain": [
       "(10608, 3)"
      ]
     },
     "execution_count": 53,
     "metadata": {
      "tags": []
     },
     "output_type": "execute_result"
    }
   ],
   "source": [
    "df[df[\"valuecount\"]==31].shape"
   ]
  },
  {
   "cell_type": "markdown",
   "metadata": {
    "id": "2P_oyMv30DnV"
   },
   "source": [
    "so all these medicines are avaibale in test data too"
   ]
  },
  {
   "cell_type": "code",
   "execution_count": 22,
   "metadata": {
    "id": "2Fq_ezkhsWMf"
   },
   "outputs": [],
   "source": [
    "jun_lst=list(cmd_med_jun_df[\"index\"])"
   ]
  },
  {
   "cell_type": "code",
   "execution_count": 23,
   "metadata": {
    "colab": {
     "base_uri": "https://localhost:8080/",
     "height": 34
    },
    "id": "65iQC0ZStC0v",
    "outputId": "1df5d8dd-f518-4bf9-f4e8-4eb6fd9f3ca0"
   },
   "outputs": [
    {
     "data": {
      "text/plain": [
       "14264"
      ]
     },
     "execution_count": 23,
     "metadata": {
      "tags": []
     },
     "output_type": "execute_result"
    }
   ],
   "source": [
    "len(jun_lst)"
   ]
  },
  {
   "cell_type": "code",
   "execution_count": 20,
   "metadata": {
    "colab": {
     "base_uri": "https://localhost:8080/",
     "height": 34
    },
    "id": "0phucqWFq7WZ",
    "outputId": "e4a28033-6d5f-4416-a7af-8b4ad81319c8"
   },
   "outputs": [
    {
     "data": {
      "text/plain": [
       "(array([False,  True]), array([16313, 14264]))"
      ]
     },
     "execution_count": 20,
     "metadata": {
      "tags": []
     },
     "output_type": "execute_result"
    }
   ],
   "source": [
    "np.unique(jun_med_df.index.isin(list(trn[trn[\"date\"]<=\"2018-05-30\"][\"city_medicine\"].values)),return_counts=True)"
   ]
  },
  {
   "cell_type": "code",
   "execution_count": 37,
   "metadata": {
    "id": "zUN-E2jye1-J"
   },
   "outputs": [],
   "source": [
    "predj_1=propht_model(jun_lst[:5000])\n",
    "predj_2=propht_model(jun_lst[5000:10000])\n",
    "predj_3=propht_model(jun_lst[10000:14000])\n",
    "predj_4=propht_model(jun_lst[14000:])"
   ]
  },
  {
   "cell_type": "code",
   "execution_count": 38,
   "metadata": {
    "id": "oJMyCbad0cdT"
   },
   "outputs": [],
   "source": [
    "predj=pd.concat([predj_1,predj_2,predj_3,predj_4])"
   ]
  },
  {
   "cell_type": "code",
   "execution_count": 47,
   "metadata": {
    "id": "yFRHeGXf6nc6"
   },
   "outputs": [],
   "source": [
    "predj.to_csv(\"predj.csv\",index=False)"
   ]
  },
  {
   "cell_type": "code",
   "execution_count": 48,
   "metadata": {
    "id": "KslpnjwKl89s"
   },
   "outputs": [],
   "source": [
    "def rmse(city_medlst):\n",
    "    my={}\n",
    "    for med in city_medlst:\n",
    "            df=june_pred[june_pred[\"city_medicine\"]==med].reset_index(drop=True)\n",
    "            my[med]=np.sqrt(mean_squared_error(df[\"sales\"],df[\"yhat\"]))\n",
    "    final=pd.DataFrame(my.items(),columns=[\"city_med\",\"rmse\"])\n",
    "    return final"
   ]
  },
  {
   "cell_type": "code",
   "execution_count": 49,
   "metadata": {
    "id": "NmMV3FBBl6O_"
   },
   "outputs": [],
   "source": [
    "predj.rename(columns={\"ds\":\"date\"},inplace=True)\n",
    "june_pred[\"date\"]=pd.to_datetime(june_pred[\"date\"])\n",
    "trn=trn[[\"date\",\"city_medicine\",\"sales\"]]\n",
    "trn=trn[(trn[\"date\"]>=\"2018-06-01\")&(trn[\"date\"]<=\"2018-06-30\")].reset_index(drop=True)\n",
    "june_pred=june_pred.merge(trn, on=[\"date\",\"city_medicine\"],how=\"right\")\n",
    "june_pred=june_pred[~june_pred[\"yhat\"].isnull()]"
   ]
  },
  {
   "cell_type": "code",
   "execution_count": 2,
   "metadata": {
    "id": "rpM9RP_fl6go"
   },
   "outputs": [],
   "source": [
    "rmse=rmse(rms_lst)"
   ]
  },
  {
   "cell_type": "markdown",
   "metadata": {
    "id": "LrdAdiKI2IA6"
   },
   "source": [
    "we could find rmse is low for al these medicines for prpht model when set a threshold of 50 and these are also part of test data so let us use this propht model on test data"
   ]
  }
 ],
 "metadata": {
  "colab": {
   "collapsed_sections": [],
   "name": "prdj_prophet_experiment.ipynb",
   "provenance": []
  },
  "kernelspec": {
   "display_name": "Python 3",
   "language": "python",
   "name": "python3"
  },
  "language_info": {
   "codemirror_mode": {
    "name": "ipython",
    "version": 3
   },
   "file_extension": ".py",
   "mimetype": "text/x-python",
   "name": "python",
   "nbconvert_exporter": "python",
   "pygments_lexer": "ipython3",
   "version": "3.7.3"
  }
 },
 "nbformat": 4,
 "nbformat_minor": 1
}
