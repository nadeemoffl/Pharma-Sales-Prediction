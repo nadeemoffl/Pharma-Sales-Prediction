{
 "cells": [
  {
   "cell_type": "code",
   "execution_count": 1,
   "metadata": {},
   "outputs": [],
   "source": [
    "import numpy as np\n",
    "import pandas as pd\n",
    "import warnings\n",
    "import os\n",
    "warnings.filterwarnings('ignore')"
   ]
  },
  {
   "cell_type": "code",
   "execution_count": 2,
   "metadata": {},
   "outputs": [
    {
     "data": {
      "text/plain": [
       "'C:\\\\Users\\\\jayam\\\\Downloads\\\\7879phd'"
      ]
     },
     "execution_count": 2,
     "metadata": {},
     "output_type": "execute_result"
    }
   ],
   "source": [
    "path=os.getcwd()\n",
    "path"
   ]
  },
  {
   "cell_type": "code",
   "execution_count": 58,
   "metadata": {},
   "outputs": [],
   "source": [
    "train=pd.read_csv(path +\"\\\\train_finaldata.csv\", sep=\",\", na_values=[\"?\",\",\",\"#\",\"NaN\",\"unknown\",\"\"])"
   ]
  },
  {
   "cell_type": "code",
   "execution_count": 59,
   "metadata": {},
   "outputs": [],
   "source": [
    "test=pd.read_csv(path +\"\\\\test_finaldata.csv\", sep=\",\", na_values=[\"?\",\",\",\"#\",\"NaN\",\"unknown\",\"\"])"
   ]
  },
  {
   "cell_type": "code",
   "execution_count": 1,
   "metadata": {},
   "outputs": [],
   "source": [
    "def split_df(df, col, prefix): ### function for spliting files\n",
    "    df[col]=df[col].astype(\"category\")\n",
    "    for l in list(df[col].cat.categories):\n",
    "        df_fname = prefix + \"_\" + str(l) + \".csv\"\n",
    "        df[df[col] == l].to_csv(df_fname,index=False)"
   ]
  },
  {
   "cell_type": "code",
   "execution_count": 63,
   "metadata": {},
   "outputs": [],
   "source": [
    "split_df(test,\"city\",\"test\")# splitting test file"
   ]
  },
  {
   "cell_type": "code",
   "execution_count": 62,
   "metadata": {},
   "outputs": [],
   "source": [
    "split_df(train,\"city\",\"train\")# splitting train file"
   ]
  },
  {
   "cell_type": "code",
   "execution_count": 3,
   "metadata": {},
   "outputs": [],
   "source": [
    "from statsmodels.tsa.stattools import adfuller\n",
    "def med_city_dict(df,meds):# function  for storing the medicine list and its pvalues\n",
    "    mydict={} \n",
    "    for m in meds:\n",
    "        mydict[m]=adfuller(df[df[\"city_medicine\"]==m][\"sales\"])[1]\n",
    "    df1=pd.DataFrame(mydict.items(),columns=[\"city_medicine\",\"p-value\"])\n",
    "    return df1"
   ]
  },
  {
   "cell_type": "code",
   "execution_count": 26,
   "metadata": {},
   "outputs": [],
   "source": [
    "def read_file(files):# function  for reading the splitted files and then returns p-values\n",
    "    concatp=pd.DataFrame()\n",
    "    for file in files:\n",
    "        file=str(file)\n",
    "        train=pd.read_csv(\"train_\"+file+\".csv\")\n",
    "        train[\"discounted\"]=train[\"discounted\"].fillna(0)\n",
    "        df=pd.DataFrame(train[\"city_medicine\"].value_counts())\n",
    "        df.columns=[\"values\"]\n",
    "        city_med_nopval=list(df[df[\"values\"]>12].index)\n",
    "        length=len(city_med_nopval)\n",
    "        #print(length)\n",
    "        #print(df.index[:length])\n",
    "        pval=med_city_dict(train,list(df.index[:length]))\n",
    "        concatp=pd.concat([concatp,pval])\n",
    "    return concatp"
   ]
  },
  {
   "cell_type": "code",
   "execution_count": 31,
   "metadata": {
    "scrolled": true
   },
   "outputs": [],
   "source": [
    "pvalues=read_file(list(range(1,11)))# storing pvalues"
   ]
  },
  {
   "cell_type": "code",
   "execution_count": 47,
   "metadata": {},
   "outputs": [],
   "source": [
    "city_med_df=pvalues[\"city_medicine\"].str.split(\"_\",expand=True)# splitting city and medicine and storing p values\n",
    "pvalues[\"city\"]=city_med_df[0]\n",
    "pvalues[\"medicine\"]=city_med_df[1]\n",
    "pvalues.to_csv(\"pvalues.csv\",index=False)"
   ]
  },
  {
   "cell_type": "code",
   "execution_count": 53,
   "metadata": {
    "scrolled": true
   },
   "outputs": [
    {
     "data": {
      "text/plain": [
       "5693"
      ]
     },
     "execution_count": 53,
     "metadata": {},
     "output_type": "execute_result"
    }
   ],
   "source": [
    "len(pvalues[pvalues[\"p-value\"]>0.01])"
   ]
  },
  {
   "cell_type": "markdown",
   "metadata": {},
   "source": [
    "- So data is not stationary for 5693 combinations of city and medicine considering at 99% confidence intervals"
   ]
  },
  {
   "cell_type": "code",
   "execution_count": 55,
   "metadata": {
    "scrolled": false
   },
   "outputs": [
    {
     "data": {
      "text/plain": [
       "3063"
      ]
     },
     "execution_count": 55,
     "metadata": {},
     "output_type": "execute_result"
    }
   ],
   "source": [
    "len(pvalues[pvalues[\"p-value\"]>0.05])"
   ]
  },
  {
   "cell_type": "markdown",
   "metadata": {},
   "source": [
    "- So data is not stationary for 3063 combinations of city and medicine considering at 95% confidence intervals"
   ]
  }
 ],
 "metadata": {
  "kernelspec": {
   "display_name": "Python 3",
   "language": "python",
   "name": "python3"
  },
  "language_info": {
   "codemirror_mode": {
    "name": "ipython",
    "version": 3
   },
   "file_extension": ".py",
   "mimetype": "text/x-python",
   "name": "python",
   "nbconvert_exporter": "python",
   "pygments_lexer": "ipython3",
   "version": "3.7.3"
  }
 },
 "nbformat": 4,
 "nbformat_minor": 4
}
