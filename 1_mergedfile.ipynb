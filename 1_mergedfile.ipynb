{
 "cells": [
  {
   "cell_type": "markdown",
   "metadata": {},
   "source": [
    "#### Problem Description : Sales forecasting of a pharmaceutical retail chain\n"
   ]
  },
  {
   "cell_type": "markdown",
   "metadata": {},
   "source": [
    "KioMed, a huge pharmaceutical retailer, operates in in 10+ cities across India. The\n",
    "company has one distribution warehouse in each of the cities it operates in.\n",
    "Unfortunately, the warehouses are not able to consistently meet the demand of the\n",
    "stores in their respective cities. Kio, the parent company, being a data driven\n",
    "corporation wants to solve the stocking / inventory management problem using their\n",
    "in-house data science team.\n",
    "\n",
    "The retailer has provided you with historical sales data and is looking to forecast the\n",
    "sales for the period of one month after the end of the data. These forecasts will be\n",
    "used to ensure that the company is able to stock its supplies of medicines in a\n",
    "warehouse accordingly in each city for a period of one month. \n",
    "\n",
    "The company will also provide you with the footfall data for all the stores across each\n",
    "of its cities. You can use this data, but as in the case of the real world, the footfall data\n",
    "is only available at train time and not at test time\n"
   ]
  },
  {
   "cell_type": "markdown",
   "metadata": {},
   "source": [
    "### Importing  only necessary Libraries for merging all the csv files"
   ]
  },
  {
   "cell_type": "code",
   "execution_count": 1,
   "metadata": {},
   "outputs": [],
   "source": [
    "import numpy as np\n",
    "import pandas as pd\n",
    "import json\n",
    "import math\n",
    "import os\n",
    "import warnings\n",
    "warnings.filterwarnings(\"ignore\")"
   ]
  },
  {
   "cell_type": "code",
   "execution_count": 2,
   "metadata": {},
   "outputs": [
    {
     "data": {
      "text/plain": [
       "'C:\\\\Users\\\\jayam\\\\Downloads\\\\7879phd'"
      ]
     },
     "execution_count": 2,
     "metadata": {},
     "output_type": "execute_result"
    }
   ],
   "source": [
    "path=os.getcwd() # getting the location of current file\n",
    "path"
   ]
  },
  {
   "cell_type": "markdown",
   "metadata": {},
   "source": [
    "#### Let us work with one file at a time to save memory"
   ]
  },
  {
   "cell_type": "code",
   "execution_count": 3,
   "metadata": {},
   "outputs": [],
   "source": [
    "train=pd.read_csv(path +\"\\\\train_data.csv\", sep=\",\", na_values=[\"?\",\",\",\"#\",\"NaN\",\"unknown\",\"\"])# reading train data"
   ]
  },
  {
   "cell_type": "code",
   "execution_count": 4,
   "metadata": {},
   "outputs": [
    {
     "data": {
      "text/plain": [
       "(22624345, 6)"
      ]
     },
     "execution_count": 4,
     "metadata": {},
     "output_type": "execute_result"
    }
   ],
   "source": [
    "train.shape # shape of train data"
   ]
  },
  {
   "cell_type": "markdown",
   "metadata": {},
   "source": [
    "##### Create date column "
   ]
  },
  {
   "cell_type": "code",
   "execution_count": 5,
   "metadata": {},
   "outputs": [],
   "source": [
    "train[\"date\"]=train.apply(lambda row:str(int(row[\"year\"]))+\"-\"+str(int(row[\"month\"]))+\"-\"+str(int(row[\"day\"])),axis=1)"
   ]
  },
  {
   "cell_type": "code",
   "execution_count": 6,
   "metadata": {},
   "outputs": [],
   "source": [
    "train[\"date\"]=pd.to_datetime(train[\"date\"])## converting to date type"
   ]
  },
  {
   "cell_type": "markdown",
   "metadata": {},
   "source": [
    "##### Checking null values"
   ]
  },
  {
   "cell_type": "code",
   "execution_count": 7,
   "metadata": {
    "scrolled": true
   },
   "outputs": [
    {
     "data": {
      "text/plain": [
       "year        0\n",
       "month       0\n",
       "day         0\n",
       "city        0\n",
       "medicine    0\n",
       "sales       0\n",
       "date        0\n",
       "dtype: int64"
      ]
     },
     "execution_count": 7,
     "metadata": {},
     "output_type": "execute_result"
    }
   ],
   "source": [
    "train.isnull().sum()"
   ]
  },
  {
   "cell_type": "code",
   "execution_count": 8,
   "metadata": {
    "scrolled": true
   },
   "outputs": [
    {
     "data": {
      "text/html": [
       "<div>\n",
       "<style scoped>\n",
       "    .dataframe tbody tr th:only-of-type {\n",
       "        vertical-align: middle;\n",
       "    }\n",
       "\n",
       "    .dataframe tbody tr th {\n",
       "        vertical-align: top;\n",
       "    }\n",
       "\n",
       "    .dataframe thead th {\n",
       "        text-align: right;\n",
       "    }\n",
       "</style>\n",
       "<table border=\"1\" class=\"dataframe\">\n",
       "  <thead>\n",
       "    <tr style=\"text-align: right;\">\n",
       "      <th></th>\n",
       "      <th>year</th>\n",
       "      <th>month</th>\n",
       "      <th>day</th>\n",
       "      <th>city</th>\n",
       "      <th>medicine</th>\n",
       "      <th>sales</th>\n",
       "      <th>date</th>\n",
       "    </tr>\n",
       "  </thead>\n",
       "  <tbody>\n",
       "    <tr>\n",
       "      <td>0</td>\n",
       "      <td>2015</td>\n",
       "      <td>1</td>\n",
       "      <td>2</td>\n",
       "      <td>1</td>\n",
       "      <td>1</td>\n",
       "      <td>24.0</td>\n",
       "      <td>2015-01-02</td>\n",
       "    </tr>\n",
       "    <tr>\n",
       "      <td>1</td>\n",
       "      <td>2015</td>\n",
       "      <td>1</td>\n",
       "      <td>2</td>\n",
       "      <td>1</td>\n",
       "      <td>2</td>\n",
       "      <td>144.0</td>\n",
       "      <td>2015-01-02</td>\n",
       "    </tr>\n",
       "  </tbody>\n",
       "</table>\n",
       "</div>"
      ],
      "text/plain": [
       "   year  month  day  city  medicine  sales       date\n",
       "0  2015      1    2     1         1   24.0 2015-01-02\n",
       "1  2015      1    2     1         2  144.0 2015-01-02"
      ]
     },
     "execution_count": 8,
     "metadata": {},
     "output_type": "execute_result"
    }
   ],
   "source": [
    "train.head(2) # see head of the data"
   ]
  },
  {
   "cell_type": "code",
   "execution_count": 9,
   "metadata": {
    "scrolled": true
   },
   "outputs": [
    {
     "data": {
      "text/html": [
       "<div>\n",
       "<style scoped>\n",
       "    .dataframe tbody tr th:only-of-type {\n",
       "        vertical-align: middle;\n",
       "    }\n",
       "\n",
       "    .dataframe tbody tr th {\n",
       "        vertical-align: top;\n",
       "    }\n",
       "\n",
       "    .dataframe thead th {\n",
       "        text-align: right;\n",
       "    }\n",
       "</style>\n",
       "<table border=\"1\" class=\"dataframe\">\n",
       "  <thead>\n",
       "    <tr style=\"text-align: right;\">\n",
       "      <th></th>\n",
       "      <th>year</th>\n",
       "      <th>month</th>\n",
       "      <th>day</th>\n",
       "      <th>city</th>\n",
       "      <th>medicine</th>\n",
       "      <th>sales</th>\n",
       "      <th>date</th>\n",
       "    </tr>\n",
       "  </thead>\n",
       "  <tbody>\n",
       "    <tr>\n",
       "      <td>22624343</td>\n",
       "      <td>2018</td>\n",
       "      <td>6</td>\n",
       "      <td>30</td>\n",
       "      <td>10</td>\n",
       "      <td>3157</td>\n",
       "      <td>4.0</td>\n",
       "      <td>2018-06-30</td>\n",
       "    </tr>\n",
       "    <tr>\n",
       "      <td>22624344</td>\n",
       "      <td>2018</td>\n",
       "      <td>6</td>\n",
       "      <td>30</td>\n",
       "      <td>10</td>\n",
       "      <td>3165</td>\n",
       "      <td>56.0</td>\n",
       "      <td>2018-06-30</td>\n",
       "    </tr>\n",
       "  </tbody>\n",
       "</table>\n",
       "</div>"
      ],
      "text/plain": [
       "          year  month  day  city  medicine  sales       date\n",
       "22624343  2018      6   30    10      3157    4.0 2018-06-30\n",
       "22624344  2018      6   30    10      3165   56.0 2018-06-30"
      ]
     },
     "execution_count": 9,
     "metadata": {},
     "output_type": "execute_result"
    }
   ],
   "source": [
    "train.tail(2) # see tail of data"
   ]
  },
  {
   "cell_type": "markdown",
   "metadata": {},
   "source": [
    "##### Checking duplicates in the experiment file and  we have drawn conclusions about 1827 duplicates in train data "
   ]
  },
  {
   "cell_type": "code",
   "execution_count": 10,
   "metadata": {
    "scrolled": false
   },
   "outputs": [],
   "source": [
    "#trainRowsDF = train[train.duplicated()]\n",
    "#trainRowsDF.shape = (1827, 7)"
   ]
  },
  {
   "cell_type": "markdown",
   "metadata": {},
   "source": [
    "#####  We could see that there are 2 sale prices for a particular a given city and medicine on a given day,so let us group and take the sum of sales and we could see from experiment that these are actually not duplicates"
   ]
  },
  {
   "cell_type": "code",
   "execution_count": 11,
   "metadata": {},
   "outputs": [],
   "source": [
    "train=train.groupby([\"year\",\"month\",\"day\",\"city\",\"medicine\",\"date\"])[\"sales\"].sum().reset_index()"
   ]
  },
  {
   "cell_type": "code",
   "execution_count": 12,
   "metadata": {
    "scrolled": false
   },
   "outputs": [
    {
     "data": {
      "text/plain": [
       "(22601741, 7)"
      ]
     },
     "execution_count": 12,
     "metadata": {},
     "output_type": "execute_result"
    }
   ],
   "source": [
    "train.shape# shape after groupby"
   ]
  },
  {
   "cell_type": "code",
   "execution_count": 13,
   "metadata": {},
   "outputs": [
    {
     "data": {
      "text/plain": [
       "(17277949, 4)"
      ]
     },
     "execution_count": 13,
     "metadata": {},
     "output_type": "execute_result"
    }
   ],
   "source": [
    "discount=pd.read_csv(path +\"\\\\discount_features.csv\", sep=\",\", na_values=[\"?\",\",\",\"#\",\"NaN\",\"unknown\",\"\"])\n",
    "discount.shape #read the file and see the shape "
   ]
  },
  {
   "cell_type": "code",
   "execution_count": 14,
   "metadata": {
    "scrolled": true
   },
   "outputs": [
    {
     "data": {
      "text/html": [
       "<div>\n",
       "<style scoped>\n",
       "    .dataframe tbody tr th:only-of-type {\n",
       "        vertical-align: middle;\n",
       "    }\n",
       "\n",
       "    .dataframe tbody tr th {\n",
       "        vertical-align: top;\n",
       "    }\n",
       "\n",
       "    .dataframe thead th {\n",
       "        text-align: right;\n",
       "    }\n",
       "</style>\n",
       "<table border=\"1\" class=\"dataframe\">\n",
       "  <thead>\n",
       "    <tr style=\"text-align: right;\">\n",
       "      <th></th>\n",
       "      <th>date</th>\n",
       "      <th>city</th>\n",
       "      <th>medicine</th>\n",
       "      <th>discounted</th>\n",
       "    </tr>\n",
       "  </thead>\n",
       "  <tbody>\n",
       "    <tr>\n",
       "      <td>0</td>\n",
       "      <td>2016-04-01</td>\n",
       "      <td>1</td>\n",
       "      <td>1</td>\n",
       "      <td>0</td>\n",
       "    </tr>\n",
       "    <tr>\n",
       "      <td>1</td>\n",
       "      <td>2016-04-01</td>\n",
       "      <td>1</td>\n",
       "      <td>2</td>\n",
       "      <td>0</td>\n",
       "    </tr>\n",
       "  </tbody>\n",
       "</table>\n",
       "</div>"
      ],
      "text/plain": [
       "         date  city  medicine  discounted\n",
       "0  2016-04-01     1         1           0\n",
       "1  2016-04-01     1         2           0"
      ]
     },
     "execution_count": 14,
     "metadata": {},
     "output_type": "execute_result"
    }
   ],
   "source": [
    "discount.head(2)# see head of the data"
   ]
  },
  {
   "cell_type": "code",
   "execution_count": 15,
   "metadata": {},
   "outputs": [
    {
     "data": {
      "text/html": [
       "<div>\n",
       "<style scoped>\n",
       "    .dataframe tbody tr th:only-of-type {\n",
       "        vertical-align: middle;\n",
       "    }\n",
       "\n",
       "    .dataframe tbody tr th {\n",
       "        vertical-align: top;\n",
       "    }\n",
       "\n",
       "    .dataframe thead th {\n",
       "        text-align: right;\n",
       "    }\n",
       "</style>\n",
       "<table border=\"1\" class=\"dataframe\">\n",
       "  <thead>\n",
       "    <tr style=\"text-align: right;\">\n",
       "      <th></th>\n",
       "      <th>date</th>\n",
       "      <th>city</th>\n",
       "      <th>medicine</th>\n",
       "      <th>discounted</th>\n",
       "    </tr>\n",
       "  </thead>\n",
       "  <tbody>\n",
       "    <tr>\n",
       "      <td>17277947</td>\n",
       "      <td>2018-07-31</td>\n",
       "      <td>10</td>\n",
       "      <td>3165</td>\n",
       "      <td>0</td>\n",
       "    </tr>\n",
       "    <tr>\n",
       "      <td>17277948</td>\n",
       "      <td>2018-07-31</td>\n",
       "      <td>10</td>\n",
       "      <td>3057</td>\n",
       "      <td>0</td>\n",
       "    </tr>\n",
       "  </tbody>\n",
       "</table>\n",
       "</div>"
      ],
      "text/plain": [
       "                date  city  medicine  discounted\n",
       "17277947  2018-07-31    10      3165           0\n",
       "17277948  2018-07-31    10      3057           0"
      ]
     },
     "execution_count": 15,
     "metadata": {},
     "output_type": "execute_result"
    }
   ],
   "source": [
    "discount.tail(2)# see tail of the data"
   ]
  },
  {
   "cell_type": "markdown",
   "metadata": {},
   "source": [
    "#### Checking null values"
   ]
  },
  {
   "cell_type": "code",
   "execution_count": 16,
   "metadata": {
    "scrolled": true
   },
   "outputs": [
    {
     "data": {
      "text/plain": [
       "date          0\n",
       "city          0\n",
       "medicine      0\n",
       "discounted    0\n",
       "dtype: int64"
      ]
     },
     "execution_count": 16,
     "metadata": {},
     "output_type": "execute_result"
    }
   ],
   "source": [
    "discount.isnull().sum()"
   ]
  },
  {
   "cell_type": "code",
   "execution_count": 17,
   "metadata": {},
   "outputs": [],
   "source": [
    "discount[\"date\"]=pd.to_datetime(discount[\"date\"])# converting to date format"
   ]
  },
  {
   "cell_type": "code",
   "execution_count": 18,
   "metadata": {},
   "outputs": [],
   "source": [
    "discount[\"year\"]=discount[\"date\"].dt.year# extracting year\n",
    "discount[\"month\"]=discount[\"date\"].dt.month# extracting month\n",
    "discount[\"day\"]=discount[\"date\"].dt.day# extracting day"
   ]
  },
  {
   "cell_type": "code",
   "execution_count": 19,
   "metadata": {},
   "outputs": [
    {
     "data": {
      "text/plain": [
       "0    16478900\n",
       "1      799049\n",
       "Name: discounted, dtype: int64"
      ]
     },
     "execution_count": 19,
     "metadata": {},
     "output_type": "execute_result"
    }
   ],
   "source": [
    "discount[\"discounted\"].value_counts()"
   ]
  },
  {
   "cell_type": "markdown",
   "metadata": {},
   "source": [
    "#### Checking duplicates"
   ]
  },
  {
   "cell_type": "code",
   "execution_count": 20,
   "metadata": {
    "scrolled": true
   },
   "outputs": [
    {
     "data": {
      "text/plain": [
       "(22009, 7)"
      ]
     },
     "execution_count": 20,
     "metadata": {},
     "output_type": "execute_result"
    }
   ],
   "source": [
    "discount[discount.duplicated()].shape"
   ]
  },
  {
   "cell_type": "markdown",
   "metadata": {},
   "source": [
    "#### As discussed in train dataset same thing applies here too in case of duplicates where as in discounts after taking sum let us take replace 2 by 1 as it is a catagorical column"
   ]
  },
  {
   "cell_type": "code",
   "execution_count": 23,
   "metadata": {
    "scrolled": true
   },
   "outputs": [],
   "source": [
    "discount=discount.groupby([\"year\",\"month\",\"day\",\"city\",\"medicine\",\"date\"])[\"discounted\"].sum().reset_index()"
   ]
  },
  {
   "cell_type": "code",
   "execution_count": 24,
   "metadata": {},
   "outputs": [
    {
     "data": {
      "text/plain": [
       "(17255345, 7)"
      ]
     },
     "execution_count": 24,
     "metadata": {},
     "output_type": "execute_result"
    }
   ],
   "source": [
    "discount.shape# shape after groupby"
   ]
  },
  {
   "cell_type": "code",
   "execution_count": 25,
   "metadata": {
    "scrolled": true
   },
   "outputs": [],
   "source": [
    "discount[\"discounted\"].replace(2,1,inplace=True)"
   ]
  },
  {
   "cell_type": "code",
   "execution_count": 26,
   "metadata": {},
   "outputs": [
    {
     "data": {
      "text/plain": [
       "0    16456732\n",
       "1      798613\n",
       "Name: discounted, dtype: int64"
      ]
     },
     "execution_count": 26,
     "metadata": {},
     "output_type": "execute_result"
    }
   ],
   "source": [
    "discount[\"discounted\"].value_counts()"
   ]
  },
  {
   "cell_type": "markdown",
   "metadata": {},
   "source": [
    "#### Let us merge both train and discount data files"
   ]
  },
  {
   "cell_type": "code",
   "execution_count": 27,
   "metadata": {
    "scrolled": true
   },
   "outputs": [],
   "source": [
    "train=train.merge(discount,on=[\"year\",\"month\",\"day\",\"city\",\"medicine\",\"date\"],how=\"left\")"
   ]
  },
  {
   "cell_type": "code",
   "execution_count": 28,
   "metadata": {},
   "outputs": [
    {
     "data": {
      "text/plain": [
       "(22601741, 8)"
      ]
     },
     "execution_count": 28,
     "metadata": {},
     "output_type": "execute_result"
    }
   ],
   "source": [
    "train.shape ## shape of merged file"
   ]
  },
  {
   "cell_type": "code",
   "execution_count": 29,
   "metadata": {
    "scrolled": true
   },
   "outputs": [
    {
     "data": {
      "text/plain": [
       "year                0\n",
       "month               0\n",
       "day                 0\n",
       "city                0\n",
       "medicine            0\n",
       "date                0\n",
       "sales               0\n",
       "discounted    6119931\n",
       "dtype: int64"
      ]
     },
     "execution_count": 29,
     "metadata": {},
     "output_type": "execute_result"
    }
   ],
   "source": [
    "train.isnull().sum() ## checking nulls after merging"
   ]
  },
  {
   "cell_type": "markdown",
   "metadata": {},
   "source": [
    "#### We could see null values in discounted column as the data for discounts is available from 2016 April "
   ]
  },
  {
   "cell_type": "markdown",
   "metadata": {},
   "source": [
    "####  So, either we can drop the rows or we can assume that there is no discount provided for these rows "
   ]
  },
  {
   "cell_type": "code",
   "execution_count": 30,
   "metadata": {},
   "outputs": [],
   "source": [
    "footfall=pd.read_csv(path +\"\\\\foot_fall.csv\", sep=\",\", na_values=[\"?\",\",\",\"#\",\"NaN\",\"unknown\",\"\"])# read footfall data"
   ]
  },
  {
   "cell_type": "code",
   "execution_count": 31,
   "metadata": {},
   "outputs": [
    {
     "data": {
      "text/plain": [
       "(10, 1268)"
      ]
     },
     "execution_count": 31,
     "metadata": {},
     "output_type": "execute_result"
    }
   ],
   "source": [
    "footfall.shape# footfall shape"
   ]
  },
  {
   "cell_type": "code",
   "execution_count": 32,
   "metadata": {},
   "outputs": [
    {
     "data": {
      "text/plain": [
       "city          0\n",
       "2015-01-02    0\n",
       "2015-01-03    0\n",
       "2015-01-04    0\n",
       "2015-01-05    0\n",
       "             ..\n",
       "2018-06-26    0\n",
       "2018-06-27    0\n",
       "2018-06-28    0\n",
       "2018-06-29    0\n",
       "2018-06-30    0\n",
       "Length: 1268, dtype: int64"
      ]
     },
     "execution_count": 32,
     "metadata": {},
     "output_type": "execute_result"
    }
   ],
   "source": [
    "footfall.isnull().sum()# null values in footfall"
   ]
  },
  {
   "cell_type": "code",
   "execution_count": 33,
   "metadata": {},
   "outputs": [
    {
     "data": {
      "text/plain": [
       "0    13500.0\n",
       "1    19868.0\n",
       "2    21024.0\n",
       "3    19360.0\n",
       "4    18296.0\n",
       "5        NaN\n",
       "6        NaN\n",
       "7    14676.0\n",
       "8    18156.0\n",
       "9        NaN\n",
       "Name: 2018-01-02, dtype: float64"
      ]
     },
     "execution_count": 33,
     "metadata": {},
     "output_type": "execute_result"
    }
   ],
   "source": [
    "footfall[\"2018-01-02\"]## there are null values in jan 2nd 2018"
   ]
  },
  {
   "cell_type": "code",
   "execution_count": 34,
   "metadata": {},
   "outputs": [
    {
     "data": {
      "text/plain": [
       "0    15312.0\n",
       "1    21184.0\n",
       "2    20720.0\n",
       "3    17608.0\n",
       "4    17824.0\n",
       "5    14408.0\n",
       "6    17684.0\n",
       "7    11792.0\n",
       "8    21656.0\n",
       "9    13504.0\n",
       "Name: 2017-12-31, dtype: float64"
      ]
     },
     "execution_count": 34,
     "metadata": {},
     "output_type": "execute_result"
    }
   ],
   "source": [
    "footfall[\"2017-12-31\"]### for backward fill"
   ]
  },
  {
   "cell_type": "code",
   "execution_count": 35,
   "metadata": {
    "scrolled": true
   },
   "outputs": [
    {
     "data": {
      "text/plain": [
       "0    11868.0\n",
       "1    16252.0\n",
       "2    13608.0\n",
       "3    14792.0\n",
       "4    11736.0\n",
       "5    11352.0\n",
       "6    12228.0\n",
       "7    10112.0\n",
       "8    16452.0\n",
       "9     7296.0\n",
       "Name: 2018-01-05, dtype: float64"
      ]
     },
     "execution_count": 35,
     "metadata": {},
     "output_type": "execute_result"
    }
   ],
   "source": [
    "footfall[\"2018-01-05\"]### for forward fill"
   ]
  },
  {
   "cell_type": "code",
   "execution_count": 36,
   "metadata": {
    "scrolled": true
   },
   "outputs": [],
   "source": [
    "footfall[\"2018-01-02\"].fillna(footfall[\"2018-01-05\"],inplace=True)## filling nas with forwardfill"
   ]
  },
  {
   "cell_type": "markdown",
   "metadata": {},
   "source": [
    "#### We could observe Jan 3rd and 4th are missing in footfall let us add them into the data"
   ]
  },
  {
   "cell_type": "code",
   "execution_count": 37,
   "metadata": {},
   "outputs": [],
   "source": [
    "footfall[\"2018-01-03\"]=footfall[\"2018-01-05\"]\n",
    "footfall[\"2018-01-04\"]=footfall[\"2018-01-05\"]"
   ]
  },
  {
   "cell_type": "code",
   "execution_count": 38,
   "metadata": {
    "scrolled": true
   },
   "outputs": [
    {
     "data": {
      "text/plain": [
       "1270"
      ]
     },
     "execution_count": 38,
     "metadata": {},
     "output_type": "execute_result"
    }
   ],
   "source": [
    "footfall.columns.nunique() ## finding number of unique columns"
   ]
  },
  {
   "cell_type": "code",
   "execution_count": 39,
   "metadata": {},
   "outputs": [
    {
     "data": {
      "text/html": [
       "<div>\n",
       "<style scoped>\n",
       "    .dataframe tbody tr th:only-of-type {\n",
       "        vertical-align: middle;\n",
       "    }\n",
       "\n",
       "    .dataframe tbody tr th {\n",
       "        vertical-align: top;\n",
       "    }\n",
       "\n",
       "    .dataframe thead th {\n",
       "        text-align: right;\n",
       "    }\n",
       "</style>\n",
       "<table border=\"1\" class=\"dataframe\">\n",
       "  <thead>\n",
       "    <tr style=\"text-align: right;\">\n",
       "      <th></th>\n",
       "      <th>city</th>\n",
       "      <th>2015-01-02</th>\n",
       "      <th>2015-01-03</th>\n",
       "      <th>2015-01-04</th>\n",
       "      <th>2015-01-05</th>\n",
       "      <th>2015-01-06</th>\n",
       "      <th>2015-01-07</th>\n",
       "      <th>2015-01-08</th>\n",
       "      <th>2015-01-09</th>\n",
       "      <th>2015-01-10</th>\n",
       "      <th>...</th>\n",
       "      <th>2018-06-23</th>\n",
       "      <th>2018-06-24</th>\n",
       "      <th>2018-06-25</th>\n",
       "      <th>2018-06-26</th>\n",
       "      <th>2018-06-27</th>\n",
       "      <th>2018-06-28</th>\n",
       "      <th>2018-06-29</th>\n",
       "      <th>2018-06-30</th>\n",
       "      <th>2018-01-03</th>\n",
       "      <th>2018-01-04</th>\n",
       "    </tr>\n",
       "  </thead>\n",
       "  <tbody>\n",
       "    <tr>\n",
       "      <td>0</td>\n",
       "      <td>Ahmedabad</td>\n",
       "      <td>9384.0</td>\n",
       "      <td>6808.0</td>\n",
       "      <td>8064.0</td>\n",
       "      <td>10248.0</td>\n",
       "      <td>11180.0</td>\n",
       "      <td>6876.0</td>\n",
       "      <td>6436.0</td>\n",
       "      <td>7104.0</td>\n",
       "      <td>5924.0</td>\n",
       "      <td>...</td>\n",
       "      <td>9584.0</td>\n",
       "      <td>11940.0</td>\n",
       "      <td>13040.0</td>\n",
       "      <td>12144.0</td>\n",
       "      <td>10164.0</td>\n",
       "      <td>9784.0</td>\n",
       "      <td>10472.0</td>\n",
       "      <td>10040.0</td>\n",
       "      <td>11868.0</td>\n",
       "      <td>11868.0</td>\n",
       "    </tr>\n",
       "    <tr>\n",
       "      <td>1</td>\n",
       "      <td>Bangalore</td>\n",
       "      <td>16644.0</td>\n",
       "      <td>14640.0</td>\n",
       "      <td>15660.0</td>\n",
       "      <td>19056.0</td>\n",
       "      <td>19740.0</td>\n",
       "      <td>14280.0</td>\n",
       "      <td>12740.0</td>\n",
       "      <td>13480.0</td>\n",
       "      <td>11928.0</td>\n",
       "      <td>...</td>\n",
       "      <td>11948.0</td>\n",
       "      <td>13860.0</td>\n",
       "      <td>16384.0</td>\n",
       "      <td>16192.0</td>\n",
       "      <td>12388.0</td>\n",
       "      <td>12124.0</td>\n",
       "      <td>13412.0</td>\n",
       "      <td>12172.0</td>\n",
       "      <td>16252.0</td>\n",
       "      <td>16252.0</td>\n",
       "    </tr>\n",
       "  </tbody>\n",
       "</table>\n",
       "<p>2 rows × 1270 columns</p>\n",
       "</div>"
      ],
      "text/plain": [
       "        city  2015-01-02  2015-01-03  2015-01-04  2015-01-05  2015-01-06  \\\n",
       "0  Ahmedabad      9384.0      6808.0      8064.0     10248.0     11180.0   \n",
       "1  Bangalore     16644.0     14640.0     15660.0     19056.0     19740.0   \n",
       "\n",
       "   2015-01-07  2015-01-08  2015-01-09  2015-01-10  ...  2018-06-23  \\\n",
       "0      6876.0      6436.0      7104.0      5924.0  ...      9584.0   \n",
       "1     14280.0     12740.0     13480.0     11928.0  ...     11948.0   \n",
       "\n",
       "   2018-06-24  2018-06-25  2018-06-26  2018-06-27  2018-06-28  2018-06-29  \\\n",
       "0     11940.0     13040.0     12144.0     10164.0      9784.0     10472.0   \n",
       "1     13860.0     16384.0     16192.0     12388.0     12124.0     13412.0   \n",
       "\n",
       "   2018-06-30  2018-01-03  2018-01-04  \n",
       "0     10040.0     11868.0     11868.0  \n",
       "1     12172.0     16252.0     16252.0  \n",
       "\n",
       "[2 rows x 1270 columns]"
      ]
     },
     "execution_count": 39,
     "metadata": {},
     "output_type": "execute_result"
    }
   ],
   "source": [
    "footfall.head(2)## see head of footfall data"
   ]
  },
  {
   "cell_type": "code",
   "execution_count": 40,
   "metadata": {},
   "outputs": [
    {
     "data": {
      "text/html": [
       "<div>\n",
       "<style scoped>\n",
       "    .dataframe tbody tr th:only-of-type {\n",
       "        vertical-align: middle;\n",
       "    }\n",
       "\n",
       "    .dataframe tbody tr th {\n",
       "        vertical-align: top;\n",
       "    }\n",
       "\n",
       "    .dataframe thead th {\n",
       "        text-align: right;\n",
       "    }\n",
       "</style>\n",
       "<table border=\"1\" class=\"dataframe\">\n",
       "  <thead>\n",
       "    <tr style=\"text-align: right;\">\n",
       "      <th></th>\n",
       "      <th>city</th>\n",
       "      <th>2015-01-02</th>\n",
       "      <th>2015-01-03</th>\n",
       "      <th>2015-01-04</th>\n",
       "      <th>2015-01-05</th>\n",
       "      <th>2015-01-06</th>\n",
       "      <th>2015-01-07</th>\n",
       "      <th>2015-01-08</th>\n",
       "      <th>2015-01-09</th>\n",
       "      <th>2015-01-10</th>\n",
       "      <th>...</th>\n",
       "      <th>2018-06-23</th>\n",
       "      <th>2018-06-24</th>\n",
       "      <th>2018-06-25</th>\n",
       "      <th>2018-06-26</th>\n",
       "      <th>2018-06-27</th>\n",
       "      <th>2018-06-28</th>\n",
       "      <th>2018-06-29</th>\n",
       "      <th>2018-06-30</th>\n",
       "      <th>2018-01-03</th>\n",
       "      <th>2018-01-04</th>\n",
       "    </tr>\n",
       "  </thead>\n",
       "  <tbody>\n",
       "    <tr>\n",
       "      <td>8</td>\n",
       "      <td>Mumbai</td>\n",
       "      <td>19284.0</td>\n",
       "      <td>14472.0</td>\n",
       "      <td>16676.0</td>\n",
       "      <td>19684.0</td>\n",
       "      <td>19700.0</td>\n",
       "      <td>15484.0</td>\n",
       "      <td>14372.0</td>\n",
       "      <td>16024.0</td>\n",
       "      <td>13292.0</td>\n",
       "      <td>...</td>\n",
       "      <td>14088.0</td>\n",
       "      <td>16368.0</td>\n",
       "      <td>18800.0</td>\n",
       "      <td>18640.0</td>\n",
       "      <td>14772.0</td>\n",
       "      <td>14208.0</td>\n",
       "      <td>16044.0</td>\n",
       "      <td>14628.0</td>\n",
       "      <td>16452.0</td>\n",
       "      <td>16452.0</td>\n",
       "    </tr>\n",
       "    <tr>\n",
       "      <td>9</td>\n",
       "      <td>Other</td>\n",
       "      <td>8572.0</td>\n",
       "      <td>7180.0</td>\n",
       "      <td>6716.0</td>\n",
       "      <td>8616.0</td>\n",
       "      <td>9252.0</td>\n",
       "      <td>6852.0</td>\n",
       "      <td>6220.0</td>\n",
       "      <td>6808.0</td>\n",
       "      <td>5688.0</td>\n",
       "      <td>...</td>\n",
       "      <td>6164.0</td>\n",
       "      <td>6980.0</td>\n",
       "      <td>8056.0</td>\n",
       "      <td>8480.0</td>\n",
       "      <td>6480.0</td>\n",
       "      <td>6004.0</td>\n",
       "      <td>7144.0</td>\n",
       "      <td>6040.0</td>\n",
       "      <td>7296.0</td>\n",
       "      <td>7296.0</td>\n",
       "    </tr>\n",
       "  </tbody>\n",
       "</table>\n",
       "<p>2 rows × 1270 columns</p>\n",
       "</div>"
      ],
      "text/plain": [
       "     city  2015-01-02  2015-01-03  2015-01-04  2015-01-05  2015-01-06  \\\n",
       "8  Mumbai     19284.0     14472.0     16676.0     19684.0     19700.0   \n",
       "9   Other      8572.0      7180.0      6716.0      8616.0      9252.0   \n",
       "\n",
       "   2015-01-07  2015-01-08  2015-01-09  2015-01-10  ...  2018-06-23  \\\n",
       "8     15484.0     14372.0     16024.0     13292.0  ...     14088.0   \n",
       "9      6852.0      6220.0      6808.0      5688.0  ...      6164.0   \n",
       "\n",
       "   2018-06-24  2018-06-25  2018-06-26  2018-06-27  2018-06-28  2018-06-29  \\\n",
       "8     16368.0     18800.0     18640.0     14772.0     14208.0     16044.0   \n",
       "9      6980.0      8056.0      8480.0      6480.0      6004.0      7144.0   \n",
       "\n",
       "   2018-06-30  2018-01-03  2018-01-04  \n",
       "8     14628.0     16452.0     16452.0  \n",
       "9      6040.0      7296.0      7296.0  \n",
       "\n",
       "[2 rows x 1270 columns]"
      ]
     },
     "execution_count": 40,
     "metadata": {},
     "output_type": "execute_result"
    }
   ],
   "source": [
    "footfall.tail(2)## see tail of footfall data"
   ]
  },
  {
   "cell_type": "code",
   "execution_count": 41,
   "metadata": {},
   "outputs": [],
   "source": [
    "footfall=footfall.melt(id_vars=[\"city\"],value_name=\"footfall\",var_name=\"date\")## lets change the configuration"
   ]
  },
  {
   "cell_type": "code",
   "execution_count": 42,
   "metadata": {},
   "outputs": [
    {
     "data": {
      "text/html": [
       "<div>\n",
       "<style scoped>\n",
       "    .dataframe tbody tr th:only-of-type {\n",
       "        vertical-align: middle;\n",
       "    }\n",
       "\n",
       "    .dataframe tbody tr th {\n",
       "        vertical-align: top;\n",
       "    }\n",
       "\n",
       "    .dataframe thead th {\n",
       "        text-align: right;\n",
       "    }\n",
       "</style>\n",
       "<table border=\"1\" class=\"dataframe\">\n",
       "  <thead>\n",
       "    <tr style=\"text-align: right;\">\n",
       "      <th></th>\n",
       "      <th>city</th>\n",
       "      <th>date</th>\n",
       "      <th>footfall</th>\n",
       "    </tr>\n",
       "  </thead>\n",
       "  <tbody>\n",
       "    <tr>\n",
       "      <td>0</td>\n",
       "      <td>Ahmedabad</td>\n",
       "      <td>2015-01-02</td>\n",
       "      <td>9384.0</td>\n",
       "    </tr>\n",
       "    <tr>\n",
       "      <td>1</td>\n",
       "      <td>Bangalore</td>\n",
       "      <td>2015-01-02</td>\n",
       "      <td>16644.0</td>\n",
       "    </tr>\n",
       "  </tbody>\n",
       "</table>\n",
       "</div>"
      ],
      "text/plain": [
       "        city        date  footfall\n",
       "0  Ahmedabad  2015-01-02    9384.0\n",
       "1  Bangalore  2015-01-02   16644.0"
      ]
     },
     "execution_count": 42,
     "metadata": {},
     "output_type": "execute_result"
    }
   ],
   "source": [
    "footfall.head(2) ## see head after using melt function"
   ]
  },
  {
   "cell_type": "code",
   "execution_count": 43,
   "metadata": {
    "scrolled": true
   },
   "outputs": [],
   "source": [
    "with open(path+\"\\\\city_dict.json\") as f: ## read json file and get cities in approriate format for mapping\n",
    "      data = json.load(f)\n",
    "city = {value: key for key, value in data.items()}\n",
    "city={k:int(v) for k, v in city.items()}"
   ]
  },
  {
   "cell_type": "code",
   "execution_count": 44,
   "metadata": {
    "scrolled": true
   },
   "outputs": [],
   "source": [
    "footfall[\"city\"]=footfall[\"city\"].map(city)# map cities"
   ]
  },
  {
   "cell_type": "code",
   "execution_count": 45,
   "metadata": {
    "scrolled": true
   },
   "outputs": [],
   "source": [
    "footfall[\"date\"]=pd.to_datetime(footfall[\"date\"]) # convert to date format"
   ]
  },
  {
   "cell_type": "code",
   "execution_count": 46,
   "metadata": {},
   "outputs": [],
   "source": [
    "train =pd.merge(train,footfall,on=[\"date\",\"city\"],how=\"left\") # merge with train data"
   ]
  },
  {
   "cell_type": "code",
   "execution_count": 47,
   "metadata": {},
   "outputs": [
    {
     "data": {
      "text/plain": [
       "(22601741, 9)"
      ]
     },
     "execution_count": 47,
     "metadata": {},
     "output_type": "execute_result"
    }
   ],
   "source": [
    "train.shape # check shape after merge"
   ]
  },
  {
   "cell_type": "code",
   "execution_count": 48,
   "metadata": {
    "scrolled": true
   },
   "outputs": [
    {
     "data": {
      "text/plain": [
       "year                0\n",
       "month               0\n",
       "day                 0\n",
       "city                0\n",
       "medicine            0\n",
       "date                0\n",
       "sales               0\n",
       "discounted    6119931\n",
       "footfall            0\n",
       "dtype: int64"
      ]
     },
     "execution_count": 48,
     "metadata": {},
     "output_type": "execute_result"
    }
   ],
   "source": [
    "train.isnull().sum() # check for nulls"
   ]
  },
  {
   "cell_type": "code",
   "execution_count": 60,
   "metadata": {
    "scrolled": true
   },
   "outputs": [],
   "source": [
    "def get_year_month_str(row):\n",
    "    year_month_str = str(int(row[\"year\"])) + \"_\"\n",
    "    month = int(row[\"month\"])\n",
    "    if month < 10:\n",
    "        year_month_str = year_month_str + \"0\"\n",
    "    year_month_str = year_month_str + str(month)\n",
    "    return year_month_str"
   ]
  },
  {
   "cell_type": "code",
   "execution_count": 61,
   "metadata": {},
   "outputs": [],
   "source": [
    "train[\"year_month\"]=train.apply(get_year_month_str,axis=1)## creating city_medicine combination"
   ]
  },
  {
   "cell_type": "code",
   "execution_count": 53,
   "metadata": {},
   "outputs": [],
   "source": [
    "train[\"city_medicine\"]=train.apply(lambda row:str(int(row[\"city\"]))+\"_\"+str(int(row[\"medicine\"])),axis=1)## creating city_medicine combination"
   ]
  },
  {
   "cell_type": "code",
   "execution_count": 55,
   "metadata": {
    "scrolled": true
   },
   "outputs": [],
   "source": [
    "train[\"week\"]=train[\"date\"].dt.week ## create week number"
   ]
  },
  {
   "cell_type": "code",
   "execution_count": 63,
   "metadata": {
    "scrolled": true
   },
   "outputs": [],
   "source": [
    "train.to_csv(\"train_finaldata.csv\",index=False)# create train  csv file for future reference"
   ]
  },
  {
   "cell_type": "markdown",
   "metadata": {},
   "source": [
    "##### Reading test data set  and merging with other data sets"
   ]
  },
  {
   "cell_type": "code",
   "execution_count": 68,
   "metadata": {},
   "outputs": [],
   "source": [
    "test=pd.read_csv(path +\"\\\\test_data.csv\", sep=\",\", na_values=[\"?\",\",\",\"#\",\"NaN\",\"unknown\",\"\"])# reading test data"
   ]
  },
  {
   "cell_type": "code",
   "execution_count": 73,
   "metadata": {
    "scrolled": true
   },
   "outputs": [],
   "source": [
    "test[\"date\"]=test.apply(lambda row:str(int(row[\"year\"]))+\"-\"+str(int(row[\"month\"]))+\"-\"+str(int(row[\"day\"])),axis=1)# creating date column"
   ]
  },
  {
   "cell_type": "code",
   "execution_count": 75,
   "metadata": {},
   "outputs": [],
   "source": [
    "test[\"date\"]=pd.to_datetime(test[\"date\"])"
   ]
  },
  {
   "cell_type": "code",
   "execution_count": 76,
   "metadata": {
    "scrolled": true
   },
   "outputs": [],
   "source": [
    "test=test.merge(discount,on=[\"year\",\"month\",\"day\",\"city\",\"medicine\",\"date\"],how=\"left\")"
   ]
  },
  {
   "cell_type": "code",
   "execution_count": 79,
   "metadata": {},
   "outputs": [],
   "source": [
    "test =pd.merge(test,footfall,on=[\"date\",\"city\"],how=\"left\")"
   ]
  },
  {
   "cell_type": "code",
   "execution_count": 81,
   "metadata": {},
   "outputs": [],
   "source": [
    "test[\"year_month\"]=test.apply(get_year_month_str,axis=1)## creating year_month combination"
   ]
  },
  {
   "cell_type": "code",
   "execution_count": 83,
   "metadata": {},
   "outputs": [],
   "source": [
    "test[\"city_medicine\"]=test.apply(lambda row:str(int(row[\"city\"]))+\"_\"+str(int(row[\"medicine\"])),axis=1)## creating city_medicine combination"
   ]
  },
  {
   "cell_type": "code",
   "execution_count": 84,
   "metadata": {},
   "outputs": [],
   "source": [
    "test[\"week\"]=test[\"date\"].dt.week ## create week number"
   ]
  },
  {
   "cell_type": "code",
   "execution_count": 86,
   "metadata": {},
   "outputs": [],
   "source": [
    "test.to_csv(\"test_finaldata.csv\",index=False)# create test  csv file for future reference"
   ]
  },
  {
   "cell_type": "code",
   "execution_count": 87,
   "metadata": {},
   "outputs": [],
   "source": [
    "footfall.to_csv(\"footfall_finaldata.csv\",index=False)# create footfall  csv file for future reference"
   ]
  },
  {
   "cell_type": "code",
   "execution_count": 88,
   "metadata": {},
   "outputs": [],
   "source": [
    "discount.to_csv(\"discount_finaldata.csv\",index=False)# create discount  csv file for future reference"
   ]
  },
  {
   "cell_type": "markdown",
   "metadata": {},
   "source": [
    "#### Lets create visulizations in another file"
   ]
  }
 ],
 "metadata": {
  "kernelspec": {
   "display_name": "Python 3",
   "language": "python",
   "name": "python3"
  },
  "language_info": {
   "codemirror_mode": {
    "name": "ipython",
    "version": 3
   },
   "file_extension": ".py",
   "mimetype": "text/x-python",
   "name": "python",
   "nbconvert_exporter": "python",
   "pygments_lexer": "ipython3",
   "version": "3.7.6"
  }
 },
 "nbformat": 4,
 "nbformat_minor": 4
}
