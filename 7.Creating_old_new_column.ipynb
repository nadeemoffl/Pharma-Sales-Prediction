{
 "cells": [
  {
   "cell_type": "markdown",
   "metadata": {},
   "source": [
    "#### Creating old new column in both Train & Test data sets"
   ]
  },
  {
   "cell_type": "markdown",
   "metadata": {},
   "source": [
    "- The strategy is to create a new feature column in the dataset named old_new \n",
    "- So how do we decide old or new ?\n",
    "- we will consider all the first day medicines as old medicines\n",
    "- It will be stored in old_med_dict(dictonary of dictonaries for faster access)\n",
    "- Then if a new medicine is introduced we call it as new medicine only on that first day and update the above dictonary\n",
    "- we check each row of medicine for every city whether it is present in the above old_med_dict\n",
    "- if yes we update it as old\n",
    "- if no we update as new and update that city medicine combination to old_med_dict"
   ]
  },
  {
   "cell_type": "code",
   "execution_count": 1,
   "metadata": {},
   "outputs": [],
   "source": [
    "import numpy as np\n",
    "import pandas as pd\n",
    "import warnings\n",
    "import os\n",
    "warnings.filterwarnings('ignore')"
   ]
  },
  {
   "cell_type": "code",
   "execution_count": 2,
   "metadata": {},
   "outputs": [],
   "source": [
    "path=os.getcwd()\n",
    "path='C:\\\\Users\\\\jayam\\\\Downloads\\\\7879phd\\\\model_building_part_2\\\\'"
   ]
  },
  {
   "cell_type": "code",
   "execution_count": 26,
   "metadata": {},
   "outputs": [],
   "source": [
    "test=pd.read_csv(\"test_finaldata.csv\", sep=\",\", na_values=[\"?\",\",\",\"#\",\"NaN\",\"unknown\",\"\"])# reading test data"
   ]
  },
  {
   "cell_type": "code",
   "execution_count": 4,
   "metadata": {},
   "outputs": [
    {
     "data": {
      "text/html": [
       "<div>\n",
       "<style scoped>\n",
       "    .dataframe tbody tr th:only-of-type {\n",
       "        vertical-align: middle;\n",
       "    }\n",
       "\n",
       "    .dataframe tbody tr th {\n",
       "        vertical-align: top;\n",
       "    }\n",
       "\n",
       "    .dataframe thead th {\n",
       "        text-align: right;\n",
       "    }\n",
       "</style>\n",
       "<table border=\"1\" class=\"dataframe\">\n",
       "  <thead>\n",
       "    <tr style=\"text-align: right;\">\n",
       "      <th></th>\n",
       "      <th>id</th>\n",
       "      <th>year</th>\n",
       "      <th>month</th>\n",
       "      <th>day</th>\n",
       "      <th>city</th>\n",
       "      <th>medicine</th>\n",
       "      <th>date</th>\n",
       "      <th>discounted</th>\n",
       "      <th>footfall</th>\n",
       "      <th>year_month</th>\n",
       "      <th>city_medicine</th>\n",
       "      <th>week</th>\n",
       "    </tr>\n",
       "  </thead>\n",
       "  <tbody>\n",
       "    <tr>\n",
       "      <th>0</th>\n",
       "      <td>1</td>\n",
       "      <td>2018</td>\n",
       "      <td>7</td>\n",
       "      <td>1</td>\n",
       "      <td>1</td>\n",
       "      <td>1292</td>\n",
       "      <td>2018-07-01</td>\n",
       "      <td>0</td>\n",
       "      <td>NaN</td>\n",
       "      <td>2018_07</td>\n",
       "      <td>1_1292</td>\n",
       "      <td>26</td>\n",
       "    </tr>\n",
       "    <tr>\n",
       "      <th>1</th>\n",
       "      <td>2</td>\n",
       "      <td>2018</td>\n",
       "      <td>7</td>\n",
       "      <td>1</td>\n",
       "      <td>1</td>\n",
       "      <td>1</td>\n",
       "      <td>2018-07-01</td>\n",
       "      <td>0</td>\n",
       "      <td>NaN</td>\n",
       "      <td>2018_07</td>\n",
       "      <td>1_1</td>\n",
       "      <td>26</td>\n",
       "    </tr>\n",
       "    <tr>\n",
       "      <th>2</th>\n",
       "      <td>3</td>\n",
       "      <td>2018</td>\n",
       "      <td>7</td>\n",
       "      <td>1</td>\n",
       "      <td>1</td>\n",
       "      <td>2</td>\n",
       "      <td>2018-07-01</td>\n",
       "      <td>1</td>\n",
       "      <td>NaN</td>\n",
       "      <td>2018_07</td>\n",
       "      <td>1_2</td>\n",
       "      <td>26</td>\n",
       "    </tr>\n",
       "    <tr>\n",
       "      <th>3</th>\n",
       "      <td>4</td>\n",
       "      <td>2018</td>\n",
       "      <td>7</td>\n",
       "      <td>1</td>\n",
       "      <td>1</td>\n",
       "      <td>3</td>\n",
       "      <td>2018-07-01</td>\n",
       "      <td>0</td>\n",
       "      <td>NaN</td>\n",
       "      <td>2018_07</td>\n",
       "      <td>1_3</td>\n",
       "      <td>26</td>\n",
       "    </tr>\n",
       "    <tr>\n",
       "      <th>4</th>\n",
       "      <td>5</td>\n",
       "      <td>2018</td>\n",
       "      <td>7</td>\n",
       "      <td>1</td>\n",
       "      <td>1</td>\n",
       "      <td>4</td>\n",
       "      <td>2018-07-01</td>\n",
       "      <td>0</td>\n",
       "      <td>NaN</td>\n",
       "      <td>2018_07</td>\n",
       "      <td>1_4</td>\n",
       "      <td>26</td>\n",
       "    </tr>\n",
       "  </tbody>\n",
       "</table>\n",
       "</div>"
      ],
      "text/plain": [
       "   id  year  month  day  city  medicine        date  discounted  footfall  \\\n",
       "0   1  2018      7    1     1      1292  2018-07-01           0       NaN   \n",
       "1   2  2018      7    1     1         1  2018-07-01           0       NaN   \n",
       "2   3  2018      7    1     1         2  2018-07-01           1       NaN   \n",
       "3   4  2018      7    1     1         3  2018-07-01           0       NaN   \n",
       "4   5  2018      7    1     1         4  2018-07-01           0       NaN   \n",
       "\n",
       "  year_month city_medicine  week  \n",
       "0    2018_07        1_1292    26  \n",
       "1    2018_07           1_1    26  \n",
       "2    2018_07           1_2    26  \n",
       "3    2018_07           1_3    26  \n",
       "4    2018_07           1_4    26  "
      ]
     },
     "execution_count": 4,
     "metadata": {},
     "output_type": "execute_result"
    }
   ],
   "source": [
    "test.head()"
   ]
  },
  {
   "cell_type": "code",
   "execution_count": 21,
   "metadata": {},
   "outputs": [],
   "source": [
    "train=pd.read_csv(\"train_footfalldata.csv\", sep=\",\", na_values=[\"?\",\",\",\"#\",\"NaN\",\"unknown\",\"\"])# reading train data"
   ]
  },
  {
   "cell_type": "code",
   "execution_count": 6,
   "metadata": {
    "scrolled": true
   },
   "outputs": [
    {
     "data": {
      "text/html": [
       "<div>\n",
       "<style scoped>\n",
       "    .dataframe tbody tr th:only-of-type {\n",
       "        vertical-align: middle;\n",
       "    }\n",
       "\n",
       "    .dataframe tbody tr th {\n",
       "        vertical-align: top;\n",
       "    }\n",
       "\n",
       "    .dataframe thead th {\n",
       "        text-align: right;\n",
       "    }\n",
       "</style>\n",
       "<table border=\"1\" class=\"dataframe\">\n",
       "  <thead>\n",
       "    <tr style=\"text-align: right;\">\n",
       "      <th></th>\n",
       "      <th>year</th>\n",
       "      <th>month</th>\n",
       "      <th>day</th>\n",
       "      <th>city</th>\n",
       "      <th>medicine</th>\n",
       "      <th>date</th>\n",
       "      <th>sales</th>\n",
       "      <th>discounted</th>\n",
       "      <th>year_month</th>\n",
       "      <th>city_medicine</th>\n",
       "      <th>week</th>\n",
       "      <th>footfall_perday_permed</th>\n",
       "    </tr>\n",
       "  </thead>\n",
       "  <tbody>\n",
       "    <tr>\n",
       "      <th>0</th>\n",
       "      <td>2015</td>\n",
       "      <td>1</td>\n",
       "      <td>2</td>\n",
       "      <td>1</td>\n",
       "      <td>1</td>\n",
       "      <td>2015-01-02</td>\n",
       "      <td>24.0</td>\n",
       "      <td>0</td>\n",
       "      <td>2015_01</td>\n",
       "      <td>1_1</td>\n",
       "      <td>1</td>\n",
       "      <td>0.385804</td>\n",
       "    </tr>\n",
       "    <tr>\n",
       "      <th>1</th>\n",
       "      <td>2015</td>\n",
       "      <td>1</td>\n",
       "      <td>2</td>\n",
       "      <td>1</td>\n",
       "      <td>2</td>\n",
       "      <td>2015-01-02</td>\n",
       "      <td>144.0</td>\n",
       "      <td>0</td>\n",
       "      <td>2015_01</td>\n",
       "      <td>1_2</td>\n",
       "      <td>1</td>\n",
       "      <td>2.314824</td>\n",
       "    </tr>\n",
       "    <tr>\n",
       "      <th>2</th>\n",
       "      <td>2015</td>\n",
       "      <td>1</td>\n",
       "      <td>2</td>\n",
       "      <td>1</td>\n",
       "      <td>3</td>\n",
       "      <td>2015-01-02</td>\n",
       "      <td>84.0</td>\n",
       "      <td>0</td>\n",
       "      <td>2015_01</td>\n",
       "      <td>1_3</td>\n",
       "      <td>1</td>\n",
       "      <td>1.350314</td>\n",
       "    </tr>\n",
       "    <tr>\n",
       "      <th>3</th>\n",
       "      <td>2015</td>\n",
       "      <td>1</td>\n",
       "      <td>2</td>\n",
       "      <td>1</td>\n",
       "      <td>4</td>\n",
       "      <td>2015-01-02</td>\n",
       "      <td>24.0</td>\n",
       "      <td>0</td>\n",
       "      <td>2015_01</td>\n",
       "      <td>1_4</td>\n",
       "      <td>1</td>\n",
       "      <td>0.385804</td>\n",
       "    </tr>\n",
       "    <tr>\n",
       "      <th>4</th>\n",
       "      <td>2015</td>\n",
       "      <td>1</td>\n",
       "      <td>2</td>\n",
       "      <td>1</td>\n",
       "      <td>5</td>\n",
       "      <td>2015-01-02</td>\n",
       "      <td>8.0</td>\n",
       "      <td>0</td>\n",
       "      <td>2015_01</td>\n",
       "      <td>1_5</td>\n",
       "      <td>1</td>\n",
       "      <td>0.128601</td>\n",
       "    </tr>\n",
       "  </tbody>\n",
       "</table>\n",
       "</div>"
      ],
      "text/plain": [
       "   year  month  day  city  medicine        date  sales  discounted year_month  \\\n",
       "0  2015      1    2     1         1  2015-01-02   24.0           0    2015_01   \n",
       "1  2015      1    2     1         2  2015-01-02  144.0           0    2015_01   \n",
       "2  2015      1    2     1         3  2015-01-02   84.0           0    2015_01   \n",
       "3  2015      1    2     1         4  2015-01-02   24.0           0    2015_01   \n",
       "4  2015      1    2     1         5  2015-01-02    8.0           0    2015_01   \n",
       "\n",
       "  city_medicine  week  footfall_perday_permed  \n",
       "0           1_1     1                0.385804  \n",
       "1           1_2     1                2.314824  \n",
       "2           1_3     1                1.350314  \n",
       "3           1_4     1                0.385804  \n",
       "4           1_5     1                0.128601  "
      ]
     },
     "execution_count": 6,
     "metadata": {},
     "output_type": "execute_result"
    }
   ],
   "source": [
    "train.head()"
   ]
  },
  {
   "cell_type": "code",
   "execution_count": 27,
   "metadata": {},
   "outputs": [],
   "source": [
    "for col in [\"year\",\"month\",\"day\",\"city\",\"medicine\",\"week\"]:\n",
    "    train[col]=train[col].astype(int)"
   ]
  },
  {
   "cell_type": "code",
   "execution_count": 8,
   "metadata": {},
   "outputs": [
    {
     "data": {
      "text/plain": [
       "year                        int32\n",
       "month                       int32\n",
       "day                         int32\n",
       "city                        int32\n",
       "medicine                    int32\n",
       "date                       object\n",
       "sales                     float64\n",
       "discounted                  int64\n",
       "year_month                 object\n",
       "city_medicine              object\n",
       "week                        int32\n",
       "footfall_perday_permed    float64\n",
       "dtype: object"
      ]
     },
     "execution_count": 8,
     "metadata": {},
     "output_type": "execute_result"
    }
   ],
   "source": [
    "train.dtypes# check dtypes"
   ]
  },
  {
   "cell_type": "code",
   "execution_count": 28,
   "metadata": {
    "scrolled": true
   },
   "outputs": [
    {
     "data": {
      "text/plain": [
       "id                 int64\n",
       "year               int64\n",
       "month              int64\n",
       "day                int64\n",
       "city               int64\n",
       "medicine           int64\n",
       "date              object\n",
       "discounted         int64\n",
       "footfall         float64\n",
       "year_month        object\n",
       "city_medicine     object\n",
       "week               int64\n",
       "dtype: object"
      ]
     },
     "execution_count": 28,
     "metadata": {},
     "output_type": "execute_result"
    }
   ],
   "source": [
    "test.dtypes# check dtypes"
   ]
  },
  {
   "cell_type": "code",
   "execution_count": 29,
   "metadata": {},
   "outputs": [],
   "source": [
    "test.rename(columns={\"footfall\":\"footfall_perday_permed\"},inplace=True)"
   ]
  },
  {
   "cell_type": "code",
   "execution_count": 6,
   "metadata": {},
   "outputs": [],
   "source": [
    "def old_med_dict(df,date,cities):# function  for storing the first  day medicine list\n",
    "    mydict={} # creating dictonary\n",
    "    for c in cities:# on the first day we are taking medicines for each city and storing it in temp\n",
    "        temp = list(df[(df[\"date\"]==date)&(df[\"city\"]==c)][\"medicine\"].value_counts().index)\n",
    "        mydict[c]= dict(zip(temp, temp))# creating dictonary of dictonaries for each city as key \n",
    "    return mydict      # and value contains another dictonary having key and value as medicines"
   ]
  },
  {
   "cell_type": "code",
   "execution_count": null,
   "metadata": {},
   "outputs": [],
   "source": [
    "trn_dict=old_med_dict(train,\"2015-01-02\",list(range(1,11)))# calling the above function"
   ]
  },
  {
   "cell_type": "code",
   "execution_count": null,
   "metadata": {},
   "outputs": [],
   "source": [
    "#create old_new column\n",
    "#for every row in the df:\n",
    "    #check for medicine and city in old_meds_dictionary:\n",
    "        #if it is present then:\n",
    "            #update \"old\" in the \"old_new\" column\n",
    "        #else:\n",
    "            #update \"new\" in the \"old_new\" column\n",
    "            #add the medicine in the city dictionary of the \"old_meds_dictionary\"\n",
    "#done"
   ]
  },
  {
   "cell_type": "code",
   "execution_count": 5,
   "metadata": {},
   "outputs": [],
   "source": [
    "#Update Dictionary \n",
    "def check_medicine_city_in_old_meds(medicine, city, old_meds):# checking function if medicine is there or not in old_med_dict\n",
    "    if city in old_meds.keys():# if only city is present\n",
    "        city_dict = old_meds[city]#we are going inside the dictonary of the passed city and storing dictonary of medicnes \n",
    "        if medicine in city_dict.keys():# if medicine is present in dictonary return true else false\n",
    "            return True\n",
    "    return False\n",
    "def create_old_new_column(df, old_meds_dict):# creating a column old or new depending on medicine \n",
    "    df[\"old_new\"] = \"old\"# intially store everyting as old\n",
    "    for index, row in df.iterrows():# iterate on each row\n",
    "        if False == check_medicine_city_in_old_meds(row[\"medicine\"], row[\"city\"], old_meds_dict):# check whether it is present in old med dict\n",
    "            df.loc[df.index == index,\"old_new\"] = \"new\"# we are updating the column as new as it is not in old_med_dict \n",
    "            old_meds_dict[row[\"city\"]][row[\"medicine\"]] = row[\"medicine\"]# updating old_med_dict"
   ]
  },
  {
   "cell_type": "code",
   "execution_count": 12,
   "metadata": {
    "scrolled": true
   },
   "outputs": [],
   "source": [
    "train[\"type\"]=\"train\"\n",
    "test[\"type\"]=\"test\""
   ]
  },
  {
   "cell_type": "markdown",
   "metadata": {},
   "source": [
    "#### Creating separate files as the system has crashed last time for memory optimization as well during run time"
   ]
  },
  {
   "cell_type": "code",
   "execution_count": 18,
   "metadata": {},
   "outputs": [],
   "source": [
    "merge_train=train[[\"city\",\"medicine\",\"date\",\"type\"]]"
   ]
  },
  {
   "cell_type": "code",
   "execution_count": 20,
   "metadata": {},
   "outputs": [],
   "source": [
    "merge_test=test[[\"city\",\"medicine\",\"date\",\"type\"]]"
   ]
  },
  {
   "cell_type": "code",
   "execution_count": 23,
   "metadata": {},
   "outputs": [],
   "source": [
    "merge_train=pd.concat([merge_train,merge_test])# merging train and test with only required columns"
   ]
  },
  {
   "cell_type": "code",
   "execution_count": 25,
   "metadata": {},
   "outputs": [],
   "source": [
    "merge_train.to_csv(\"merged_exp.csv\",index=False)# saving it in csv file to avoid system crashes"
   ]
  },
  {
   "cell_type": "code",
   "execution_count": 3,
   "metadata": {},
   "outputs": [],
   "source": [
    "file=pd.read_csv(\"merged_exp.csv\", sep=\",\", na_values=[\"?\",\",\",\"#\",\"NaN\",\"unknown\",\"\"])# reading the merged file"
   ]
  },
  {
   "cell_type": "code",
   "execution_count": 7,
   "metadata": {},
   "outputs": [],
   "source": [
    "file_dict=old_med_dict(file,\"2015-01-02\",list(range(1,11)))# creating the intial dictonary for old new medicines"
   ]
  },
  {
   "cell_type": "code",
   "execution_count": 10,
   "metadata": {},
   "outputs": [],
   "source": [
    "create_old_new_column(file,file_dict)# running the fuction with required columns"
   ]
  },
  {
   "cell_type": "code",
   "execution_count": 44,
   "metadata": {},
   "outputs": [],
   "source": [
    "file.to_csv(\"file.csv\",index=False)# save the file in case of reference"
   ]
  },
  {
   "cell_type": "code",
   "execution_count": 12,
   "metadata": {
    "scrolled": true
   },
   "outputs": [
    {
     "data": {
      "text/plain": [
       "old    23354243\n",
       "new       21033\n",
       "Name: old_new, dtype: int64"
      ]
     },
     "execution_count": 12,
     "metadata": {},
     "output_type": "execute_result"
    }
   ],
   "source": [
    "file[\"old_new\"].value_counts()"
   ]
  },
  {
   "cell_type": "code",
   "execution_count": 66,
   "metadata": {},
   "outputs": [],
   "source": [
    "test1=test1.reset_index()"
   ]
  },
  {
   "cell_type": "code",
   "execution_count": 16,
   "metadata": {},
   "outputs": [
    {
     "data": {
      "text/plain": [
       "old    773222\n",
       "new       313\n",
       "Name: old_new, dtype: int64"
      ]
     },
     "execution_count": 16,
     "metadata": {},
     "output_type": "execute_result"
    }
   ],
   "source": [
    "file[file[\"type\"]==\"test\"][\"old_new\"].value_counts()"
   ]
  },
  {
   "cell_type": "code",
   "execution_count": 19,
   "metadata": {},
   "outputs": [],
   "source": [
    "train1=file[file[\"type\"]==\"train\"]\n",
    "test1=file[file[\"type\"]==\"test\"]"
   ]
  },
  {
   "cell_type": "code",
   "execution_count": 23,
   "metadata": {},
   "outputs": [],
   "source": [
    "train[\"old_new\"]=train1[\"old_new\"]# adding old new column to train data"
   ]
  },
  {
   "cell_type": "code",
   "execution_count": 41,
   "metadata": {},
   "outputs": [],
   "source": [
    "test[\"old_new\"]=test1[\"old_new\"]# adding old new column to test data"
   ]
  },
  {
   "cell_type": "code",
   "execution_count": 69,
   "metadata": {},
   "outputs": [],
   "source": [
    "train.to_csv(\"train_final.csv\",index=false)# save train file"
   ]
  },
  {
   "cell_type": "code",
   "execution_count": 68,
   "metadata": {},
   "outputs": [],
   "source": [
    "test.to_csv(\"test_final.csv\",index=false)# save test file"
   ]
  }
 ],
 "metadata": {
  "kernelspec": {
   "display_name": "Python 3",
   "language": "python",
   "name": "python3"
  },
  "language_info": {
   "codemirror_mode": {
    "name": "ipython",
    "version": 3
   },
   "file_extension": ".py",
   "mimetype": "text/x-python",
   "name": "python",
   "nbconvert_exporter": "python",
   "pygments_lexer": "ipython3",
   "version": "3.7.3"
  }
 },
 "nbformat": 4,
 "nbformat_minor": 4
}
