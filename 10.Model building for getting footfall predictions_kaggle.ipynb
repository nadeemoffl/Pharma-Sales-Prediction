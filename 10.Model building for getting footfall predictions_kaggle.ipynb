{
 "cells": [
  {
   "cell_type": "code",
   "execution_count": 1,
   "metadata": {
    "_cell_guid": "b1076dfc-b9ad-4769-8c92-a6c4dae69d19",
    "_uuid": "8f2839f25d086af736a60e9eeb907d3b93b6e0e5"
   },
   "outputs": [
    {
     "name": "stdout",
     "output_type": "stream",
     "text": [
      "/kaggle/input/kaggle-train/kaggle_test.csv\n",
      "/kaggle/input/kaggle-train/kaggle_train.csv\n"
     ]
    }
   ],
   "source": [
    "# This Python 3 environment comes with many helpful analytics libraries installed\n",
    "# It is defined by the kaggle/python Docker image: https://github.com/kaggle/docker-python\n",
    "# For example, here's several helpful packages to load\n",
    "\n",
    "import numpy as np # linear algebra\n",
    "import pandas as pd # data processing, CSV file I/O (e.g. pd.read_csv)\n",
    "\n",
    "# Input data files are available in the read-only \"../input/\" directory\n",
    "# For example, running this (by clicking run or pressing Shift+Enter) will list all files under the input directory\n",
    "\n",
    "import os\n",
    "for dirname, _, filenames in os.walk('/kaggle/input'):\n",
    "    for filename in filenames:\n",
    "        print(os.path.join(dirname, filename))\n",
    "\n",
    "# You can write up to 5GB to the current directory (/kaggle/working/) that gets preserved as output when you create a version using \"Save & Run All\" \n",
    "# You can also write temporary files to /kaggle/temp/, but they won't be saved outside of the current session"
   ]
  },
  {
   "cell_type": "code",
   "execution_count": 2,
   "metadata": {},
   "outputs": [],
   "source": [
    "from sklearn.linear_model import LinearRegression\n",
    "from sklearn.preprocessing import StandardScaler\n",
    "from sklearn.model_selection import GridSearchCV\n",
    "import json\n",
    "import math\n",
    "import os\n",
    "from sklearn import tree\n",
    "import warnings\n",
    "warnings.filterwarnings(\"ignore\")\n",
    "from sklearn.metrics import mean_squared_error\n",
    "from sklearn.model_selection import train_test_split\n",
    "from xgboost.sklearn import XGBRegressor\n",
    "from lightgbm import LGBMRegressor\n",
    "from sklearn.ensemble import RandomForestRegressor\n",
    "from sklearn.tree import DecisionTreeRegressor\n",
    "from sklearn.model_selection import StratifiedKFold\n",
    "from sklearn.model_selection import RandomizedSearchCV"
   ]
  },
  {
   "cell_type": "code",
   "execution_count": 3,
   "metadata": {},
   "outputs": [],
   "source": [
    "from sklearn.model_selection import validation_curve\n",
    "from sklearn.pipeline import make_pipeline\n",
    "from sklearn.metrics import make_scorer"
   ]
  },
  {
   "cell_type": "code",
   "execution_count": 4,
   "metadata": {},
   "outputs": [],
   "source": [
    "def mean_absolute_percentage_error(y_true, y_pred): \n",
    "    y_true, y_pred = np.array(y_true), np.array(y_pred)\n",
    "    return np.mean(np.abs((y_true - y_pred) / y_true)) * 100"
   ]
  },
  {
   "cell_type": "markdown",
   "metadata": {},
   "source": [
    "#### Read the data"
   ]
  },
  {
   "cell_type": "code",
   "execution_count": 5,
   "metadata": {
    "_cell_guid": "79c7e3d0-c299-4dcb-8224-4455121ee9b0",
    "_uuid": "d629ff2d2480ee46fbb7e2d37f6b5fab8052498a"
   },
   "outputs": [],
   "source": [
    "test = pd.read_csv('/kaggle/input/kaggle-train/kaggle_test.csv',sep=\",\", na_values=[\"?\",\",\",\"#\",\"NaN\",\"unknown\",\"\"])\n",
    "train=pd.read_csv('/kaggle/input/kaggle-train/kaggle_train.csv', sep=\",\", na_values=[\"?\",\",\",\"#\",\"NaN\",\"unknown\",\"\"])"
   ]
  },
  {
   "cell_type": "code",
   "execution_count": 6,
   "metadata": {},
   "outputs": [
    {
     "data": {
      "text/html": [
       "<div>\n",
       "<style scoped>\n",
       "    .dataframe tbody tr th:only-of-type {\n",
       "        vertical-align: middle;\n",
       "    }\n",
       "\n",
       "    .dataframe tbody tr th {\n",
       "        vertical-align: top;\n",
       "    }\n",
       "\n",
       "    .dataframe thead th {\n",
       "        text-align: right;\n",
       "    }\n",
       "</style>\n",
       "<table border=\"1\" class=\"dataframe\">\n",
       "  <thead>\n",
       "    <tr style=\"text-align: right;\">\n",
       "      <th></th>\n",
       "      <th>year</th>\n",
       "      <th>month</th>\n",
       "      <th>day</th>\n",
       "      <th>medicine</th>\n",
       "      <th>sales</th>\n",
       "      <th>discounted</th>\n",
       "      <th>year_month</th>\n",
       "      <th>city_medicine</th>\n",
       "      <th>week</th>\n",
       "      <th>footfall_perday_permed</th>\n",
       "      <th>old_new</th>\n",
       "      <th>latitude</th>\n",
       "      <th>longitude</th>\n",
       "      <th>weekday</th>\n",
       "      <th>dayofweek</th>\n",
       "    </tr>\n",
       "  </thead>\n",
       "  <tbody>\n",
       "    <tr>\n",
       "      <th>0</th>\n",
       "      <td>2017</td>\n",
       "      <td>1</td>\n",
       "      <td>2</td>\n",
       "      <td>1</td>\n",
       "      <td>28.0</td>\n",
       "      <td>1</td>\n",
       "      <td>2017_01</td>\n",
       "      <td>1_1</td>\n",
       "      <td>1</td>\n",
       "      <td>0.341523</td>\n",
       "      <td>old</td>\n",
       "      <td>22.545412</td>\n",
       "      <td>88.356775</td>\n",
       "      <td>0</td>\n",
       "      <td>0</td>\n",
       "    </tr>\n",
       "    <tr>\n",
       "      <th>1</th>\n",
       "      <td>2017</td>\n",
       "      <td>1</td>\n",
       "      <td>2</td>\n",
       "      <td>2</td>\n",
       "      <td>72.0</td>\n",
       "      <td>0</td>\n",
       "      <td>2017_01</td>\n",
       "      <td>1_2</td>\n",
       "      <td>1</td>\n",
       "      <td>0.878203</td>\n",
       "      <td>old</td>\n",
       "      <td>22.545412</td>\n",
       "      <td>88.356775</td>\n",
       "      <td>0</td>\n",
       "      <td>0</td>\n",
       "    </tr>\n",
       "    <tr>\n",
       "      <th>2</th>\n",
       "      <td>2017</td>\n",
       "      <td>1</td>\n",
       "      <td>2</td>\n",
       "      <td>3</td>\n",
       "      <td>128.0</td>\n",
       "      <td>0</td>\n",
       "      <td>2017_01</td>\n",
       "      <td>1_3</td>\n",
       "      <td>1</td>\n",
       "      <td>1.561250</td>\n",
       "      <td>old</td>\n",
       "      <td>22.545412</td>\n",
       "      <td>88.356775</td>\n",
       "      <td>0</td>\n",
       "      <td>0</td>\n",
       "    </tr>\n",
       "    <tr>\n",
       "      <th>3</th>\n",
       "      <td>2017</td>\n",
       "      <td>1</td>\n",
       "      <td>2</td>\n",
       "      <td>4</td>\n",
       "      <td>20.0</td>\n",
       "      <td>0</td>\n",
       "      <td>2017_01</td>\n",
       "      <td>1_4</td>\n",
       "      <td>1</td>\n",
       "      <td>0.243945</td>\n",
       "      <td>old</td>\n",
       "      <td>22.545412</td>\n",
       "      <td>88.356775</td>\n",
       "      <td>0</td>\n",
       "      <td>0</td>\n",
       "    </tr>\n",
       "    <tr>\n",
       "      <th>4</th>\n",
       "      <td>2017</td>\n",
       "      <td>1</td>\n",
       "      <td>2</td>\n",
       "      <td>5</td>\n",
       "      <td>4.0</td>\n",
       "      <td>0</td>\n",
       "      <td>2017_01</td>\n",
       "      <td>1_5</td>\n",
       "      <td>1</td>\n",
       "      <td>0.048789</td>\n",
       "      <td>old</td>\n",
       "      <td>22.545412</td>\n",
       "      <td>88.356775</td>\n",
       "      <td>0</td>\n",
       "      <td>0</td>\n",
       "    </tr>\n",
       "  </tbody>\n",
       "</table>\n",
       "</div>"
      ],
      "text/plain": [
       "   year  month  day  medicine  sales  discounted year_month city_medicine  \\\n",
       "0  2017      1    2         1   28.0           1    2017_01           1_1   \n",
       "1  2017      1    2         2   72.0           0    2017_01           1_2   \n",
       "2  2017      1    2         3  128.0           0    2017_01           1_3   \n",
       "3  2017      1    2         4   20.0           0    2017_01           1_4   \n",
       "4  2017      1    2         5    4.0           0    2017_01           1_5   \n",
       "\n",
       "   week  footfall_perday_permed old_new   latitude  longitude  weekday  \\\n",
       "0     1                0.341523     old  22.545412  88.356775        0   \n",
       "1     1                0.878203     old  22.545412  88.356775        0   \n",
       "2     1                1.561250     old  22.545412  88.356775        0   \n",
       "3     1                0.243945     old  22.545412  88.356775        0   \n",
       "4     1                0.048789     old  22.545412  88.356775        0   \n",
       "\n",
       "   dayofweek  \n",
       "0          0  \n",
       "1          0  \n",
       "2          0  \n",
       "3          0  \n",
       "4          0  "
      ]
     },
     "execution_count": 6,
     "metadata": {},
     "output_type": "execute_result"
    }
   ],
   "source": [
    "train.head()"
   ]
  },
  {
   "cell_type": "code",
   "execution_count": 7,
   "metadata": {},
   "outputs": [
    {
     "data": {
      "text/html": [
       "<div>\n",
       "<style scoped>\n",
       "    .dataframe tbody tr th:only-of-type {\n",
       "        vertical-align: middle;\n",
       "    }\n",
       "\n",
       "    .dataframe tbody tr th {\n",
       "        vertical-align: top;\n",
       "    }\n",
       "\n",
       "    .dataframe thead th {\n",
       "        text-align: right;\n",
       "    }\n",
       "</style>\n",
       "<table border=\"1\" class=\"dataframe\">\n",
       "  <thead>\n",
       "    <tr style=\"text-align: right;\">\n",
       "      <th></th>\n",
       "      <th>year</th>\n",
       "      <th>month</th>\n",
       "      <th>day</th>\n",
       "      <th>medicine</th>\n",
       "      <th>discounted</th>\n",
       "      <th>year_month</th>\n",
       "      <th>city_medicine</th>\n",
       "      <th>week</th>\n",
       "      <th>old_new</th>\n",
       "      <th>latitude</th>\n",
       "      <th>longitude</th>\n",
       "      <th>weekday</th>\n",
       "      <th>dayofweek</th>\n",
       "    </tr>\n",
       "  </thead>\n",
       "  <tbody>\n",
       "    <tr>\n",
       "      <th>0</th>\n",
       "      <td>2018</td>\n",
       "      <td>7</td>\n",
       "      <td>1</td>\n",
       "      <td>1292</td>\n",
       "      <td>0</td>\n",
       "      <td>2018_07</td>\n",
       "      <td>1_1292</td>\n",
       "      <td>26</td>\n",
       "      <td>old</td>\n",
       "      <td>22.545412</td>\n",
       "      <td>88.356775</td>\n",
       "      <td>1</td>\n",
       "      <td>6</td>\n",
       "    </tr>\n",
       "    <tr>\n",
       "      <th>1</th>\n",
       "      <td>2018</td>\n",
       "      <td>7</td>\n",
       "      <td>1</td>\n",
       "      <td>1</td>\n",
       "      <td>0</td>\n",
       "      <td>2018_07</td>\n",
       "      <td>1_1</td>\n",
       "      <td>26</td>\n",
       "      <td>old</td>\n",
       "      <td>22.545412</td>\n",
       "      <td>88.356775</td>\n",
       "      <td>1</td>\n",
       "      <td>6</td>\n",
       "    </tr>\n",
       "    <tr>\n",
       "      <th>2</th>\n",
       "      <td>2018</td>\n",
       "      <td>7</td>\n",
       "      <td>1</td>\n",
       "      <td>2</td>\n",
       "      <td>1</td>\n",
       "      <td>2018_07</td>\n",
       "      <td>1_2</td>\n",
       "      <td>26</td>\n",
       "      <td>old</td>\n",
       "      <td>22.545412</td>\n",
       "      <td>88.356775</td>\n",
       "      <td>1</td>\n",
       "      <td>6</td>\n",
       "    </tr>\n",
       "    <tr>\n",
       "      <th>3</th>\n",
       "      <td>2018</td>\n",
       "      <td>7</td>\n",
       "      <td>1</td>\n",
       "      <td>3</td>\n",
       "      <td>0</td>\n",
       "      <td>2018_07</td>\n",
       "      <td>1_3</td>\n",
       "      <td>26</td>\n",
       "      <td>old</td>\n",
       "      <td>22.545412</td>\n",
       "      <td>88.356775</td>\n",
       "      <td>1</td>\n",
       "      <td>6</td>\n",
       "    </tr>\n",
       "    <tr>\n",
       "      <th>4</th>\n",
       "      <td>2018</td>\n",
       "      <td>7</td>\n",
       "      <td>1</td>\n",
       "      <td>4</td>\n",
       "      <td>0</td>\n",
       "      <td>2018_07</td>\n",
       "      <td>1_4</td>\n",
       "      <td>26</td>\n",
       "      <td>old</td>\n",
       "      <td>22.545412</td>\n",
       "      <td>88.356775</td>\n",
       "      <td>1</td>\n",
       "      <td>6</td>\n",
       "    </tr>\n",
       "  </tbody>\n",
       "</table>\n",
       "</div>"
      ],
      "text/plain": [
       "   year  month  day  medicine  discounted year_month city_medicine  week  \\\n",
       "0  2018      7    1      1292           0    2018_07        1_1292    26   \n",
       "1  2018      7    1         1           0    2018_07           1_1    26   \n",
       "2  2018      7    1         2           1    2018_07           1_2    26   \n",
       "3  2018      7    1         3           0    2018_07           1_3    26   \n",
       "4  2018      7    1         4           0    2018_07           1_4    26   \n",
       "\n",
       "  old_new   latitude  longitude  weekday  dayofweek  \n",
       "0     old  22.545412  88.356775        1          6  \n",
       "1     old  22.545412  88.356775        1          6  \n",
       "2     old  22.545412  88.356775        1          6  \n",
       "3     old  22.545412  88.356775        1          6  \n",
       "4     old  22.545412  88.356775        1          6  "
      ]
     },
     "execution_count": 7,
     "metadata": {},
     "output_type": "execute_result"
    }
   ],
   "source": [
    "test.head()"
   ]
  },
  {
   "cell_type": "markdown",
   "metadata": {},
   "source": [
    "##### converting the required columns to category type as it saves memory"
   ]
  },
  {
   "cell_type": "code",
   "execution_count": 8,
   "metadata": {},
   "outputs": [],
   "source": [
    "catcols=[\"city_medicine\",\"year_month\",\"medicine\",\"longitude\",\"latitude\",\"year\",\"month\",\"day\",\"week\",\"old_new\"]\n",
    "for col in catcols:\n",
    "    train[col]=train[col].astype(\"category\")\n",
    "    test[col]=test[col].astype(\"category\")"
   ]
  },
  {
   "cell_type": "code",
   "execution_count": 9,
   "metadata": {},
   "outputs": [],
   "source": [
    "for col in [\"discounted\", \"weekday\", \"dayofweek\"]:# converted to int as xgboost model is giving errors\n",
    "    train[col]=train[col].astype(\"int\")\n",
    "    test[col]=test[col].astype(\"int\")"
   ]
  },
  {
   "cell_type": "code",
   "execution_count": 10,
   "metadata": {},
   "outputs": [
    {
     "data": {
      "text/plain": [
       "year                      category\n",
       "month                     category\n",
       "day                       category\n",
       "medicine                  category\n",
       "sales                      float64\n",
       "discounted                   int64\n",
       "year_month                category\n",
       "city_medicine             category\n",
       "week                      category\n",
       "footfall_perday_permed     float64\n",
       "old_new                   category\n",
       "latitude                  category\n",
       "longitude                 category\n",
       "weekday                      int64\n",
       "dayofweek                    int64\n",
       "dtype: object"
      ]
     },
     "execution_count": 10,
     "metadata": {},
     "output_type": "execute_result"
    }
   ],
   "source": [
    "train.dtypes"
   ]
  },
  {
   "cell_type": "code",
   "execution_count": 11,
   "metadata": {},
   "outputs": [],
   "source": [
    "X=train.drop([\"sales\",\"footfall_perday_permed\"],axis=1)\n",
    "y=train[\"footfall_perday_permed\"]"
   ]
  },
  {
   "cell_type": "code",
   "execution_count": 12,
   "metadata": {},
   "outputs": [],
   "source": [
    "X_train, X_test, y_train, y_test = train_test_split(X, y, test_size=0.06,random_state=123,shuffle=False) # train test split"
   ]
  },
  {
   "cell_type": "code",
   "execution_count": 13,
   "metadata": {},
   "outputs": [
    {
     "data": {
      "text/html": [
       "<div>\n",
       "<style scoped>\n",
       "    .dataframe tbody tr th:only-of-type {\n",
       "        vertical-align: middle;\n",
       "    }\n",
       "\n",
       "    .dataframe tbody tr th {\n",
       "        vertical-align: top;\n",
       "    }\n",
       "\n",
       "    .dataframe thead th {\n",
       "        text-align: right;\n",
       "    }\n",
       "</style>\n",
       "<table border=\"1\" class=\"dataframe\">\n",
       "  <thead>\n",
       "    <tr style=\"text-align: right;\">\n",
       "      <th></th>\n",
       "      <th>year</th>\n",
       "      <th>month</th>\n",
       "      <th>day</th>\n",
       "      <th>medicine</th>\n",
       "      <th>discounted</th>\n",
       "      <th>year_month</th>\n",
       "      <th>city_medicine</th>\n",
       "      <th>week</th>\n",
       "      <th>old_new</th>\n",
       "      <th>latitude</th>\n",
       "      <th>longitude</th>\n",
       "      <th>weekday</th>\n",
       "      <th>dayofweek</th>\n",
       "    </tr>\n",
       "  </thead>\n",
       "  <tbody>\n",
       "    <tr>\n",
       "      <th>11016255</th>\n",
       "      <td>2018</td>\n",
       "      <td>6</td>\n",
       "      <td>1</td>\n",
       "      <td>1777</td>\n",
       "      <td>0</td>\n",
       "      <td>2018_06</td>\n",
       "      <td>9_1777</td>\n",
       "      <td>22</td>\n",
       "      <td>old</td>\n",
       "      <td>23.021624</td>\n",
       "      <td>72.579707</td>\n",
       "      <td>0</td>\n",
       "      <td>4</td>\n",
       "    </tr>\n",
       "    <tr>\n",
       "      <th>11016256</th>\n",
       "      <td>2018</td>\n",
       "      <td>6</td>\n",
       "      <td>1</td>\n",
       "      <td>1778</td>\n",
       "      <td>0</td>\n",
       "      <td>2018_06</td>\n",
       "      <td>9_1778</td>\n",
       "      <td>22</td>\n",
       "      <td>old</td>\n",
       "      <td>23.021624</td>\n",
       "      <td>72.579707</td>\n",
       "      <td>0</td>\n",
       "      <td>4</td>\n",
       "    </tr>\n",
       "  </tbody>\n",
       "</table>\n",
       "</div>"
      ],
      "text/plain": [
       "          year month day medicine  discounted year_month city_medicine week  \\\n",
       "11016255  2018     6   1     1777           0    2018_06        9_1777   22   \n",
       "11016256  2018     6   1     1778           0    2018_06        9_1778   22   \n",
       "\n",
       "         old_new   latitude  longitude  weekday  dayofweek  \n",
       "11016255     old  23.021624  72.579707        0          4  \n",
       "11016256     old  23.021624  72.579707        0          4  "
      ]
     },
     "execution_count": 13,
     "metadata": {},
     "output_type": "execute_result"
    }
   ],
   "source": [
    "X_train.tail(2)"
   ]
  },
  {
   "cell_type": "markdown",
   "metadata": {},
   "source": [
    "####  Using Target encoding& label encoding  approach as there is high cardinality in data  we end up getting many columns if we go with one hot encoding"
   ]
  },
  {
   "cell_type": "code",
   "execution_count": 14,
   "metadata": {},
   "outputs": [],
   "source": [
    "from category_encoders import TargetEncoder \n",
    "tarcols=[\"city_medicine\",\"year_month\",\"medicine\",\"longitude\",\"latitude\"]\n",
    "encoder = TargetEncoder()\n",
    "encoder.fit(X_train[tarcols], y_train)\n",
    "X_train[tarcols]=encoder.transform(X_train[tarcols])\n",
    "X_test[tarcols]=encoder.transform(X_test[tarcols])\n",
    "test[tarcols]=encoder.transform(test[tarcols])"
   ]
  },
  {
   "cell_type": "code",
   "execution_count": 15,
   "metadata": {},
   "outputs": [],
   "source": [
    "from sklearn import preprocessing\n",
    "le = preprocessing.LabelEncoder()\n",
    "lecols=[\"year\",\"month\",\"day\",\"week\",\"old_new\"]\n",
    "\n",
    "for col in lecols:\n",
    "    le.fit(X_train[col])\n",
    "    X_train[col]=le.transform(X_train[col])\n",
    "    X_test[col]=le.transform(X_test[col])\n",
    "    test[col]=le.transform(test[col])\n",
    "    "
   ]
  },
  {
   "cell_type": "markdown",
   "metadata": {},
   "source": [
    "### Build  linear regression"
   ]
  },
  {
   "cell_type": "code",
   "execution_count": 16,
   "metadata": {},
   "outputs": [],
   "source": [
    "from sklearn.linear_model import LinearRegression\n",
    "reg= LinearRegression()\n",
    "reg = reg.fit(X_train, y_train)\n",
    "train_pred = reg.predict(X_train)\n",
    "test_pred = reg.predict(X_test)"
   ]
  },
  {
   "cell_type": "code",
   "execution_count": 17,
   "metadata": {},
   "outputs": [
    {
     "name": "stdout",
     "output_type": "stream",
     "text": [
      "RMSE OF LINEAR REGRESSION= 0.8466680305614882\n",
      "MAPE OF LINEAR REGRESSION= 96.99542568643793\n"
     ]
    }
   ],
   "source": [
    "print(\"RMSE OF LINEAR REGRESSION=\",np.sqrt(mean_squared_error(y_train, train_pred)))\n",
    "print(\"MAPE OF LINEAR REGRESSION=\",mean_absolute_percentage_error(y_train,train_pred))"
   ]
  },
  {
   "cell_type": "code",
   "execution_count": 18,
   "metadata": {},
   "outputs": [
    {
     "name": "stdout",
     "output_type": "stream",
     "text": [
      "RMSE OF LINEAR REGRESSION= 0.7009841868205181\n",
      "MAPE OF LINEAR REGRESSION= 99.60300342763374\n"
     ]
    }
   ],
   "source": [
    "print(\"RMSE OF LINEAR REGRESSION=\",np.sqrt(mean_squared_error(y_test, test_pred)))\n",
    "print(\"MAPE OF LINEAR REGRESSION=\",mean_absolute_percentage_error(y_test,test_pred))"
   ]
  },
  {
   "cell_type": "code",
   "execution_count": 19,
   "metadata": {},
   "outputs": [
    {
     "data": {
      "text/plain": [
       "array([0.26624826, 0.22078277, 1.24659563, ..., 0.19636042, 0.39443245,\n",
       "       0.3690044 ])"
      ]
     },
     "execution_count": 19,
     "metadata": {},
     "output_type": "execute_result"
    }
   ],
   "source": [
    "reg.predict(test)"
   ]
  },
  {
   "cell_type": "code",
   "execution_count": 20,
   "metadata": {},
   "outputs": [
    {
     "name": "stdout",
     "output_type": "stream",
     "text": [
      "[13:02:02] WARNING: ../src/gbm/gbtree.cc:139: Tree method is automatically selected to be 'approx' for faster speed. To use old behavior (exact greedy algorithm on single machine), set tree_method to 'exact'.\n"
     ]
    }
   ],
   "source": [
    "xgb=XGBRegressor(random_state=1234)\n",
    "xgb.fit(X_train, y_train)\n",
    "train_pred = xgb.predict(X_train)"
   ]
  },
  {
   "cell_type": "code",
   "execution_count": 21,
   "metadata": {},
   "outputs": [
    {
     "data": {
      "text/plain": [
       "array([0.28892863, 0.25643733, 1.197406  , ..., 0.14364278, 0.36963123,\n",
       "       0.34621066], dtype=float32)"
      ]
     },
     "execution_count": 21,
     "metadata": {},
     "output_type": "execute_result"
    }
   ],
   "source": [
    "test_pred = xgb.predict(X_test)\n",
    "xgb.predict(test)"
   ]
  },
  {
   "cell_type": "code",
   "execution_count": 22,
   "metadata": {},
   "outputs": [
    {
     "name": "stdout",
     "output_type": "stream",
     "text": [
      "RMSE OF XGB REGRESSION= 0.8942860272781777\n",
      "MAPE OF XGB REGRESSION= 78.41816397146474\n"
     ]
    }
   ],
   "source": [
    "print(\"RMSE OF XGB REGRESSION=\",np.sqrt(mean_squared_error(y_train, train_pred)))\n",
    "print(\"MAPE OF XGB REGRESSION=\",mean_absolute_percentage_error(y_train,train_pred))"
   ]
  },
  {
   "cell_type": "code",
   "execution_count": 23,
   "metadata": {},
   "outputs": [
    {
     "name": "stdout",
     "output_type": "stream",
     "text": [
      "RMSE OF XGB REGRESSION= 0.7983437033631\n",
      "MAPE OF XGB REGRESSION= 92.78183756431567\n"
     ]
    }
   ],
   "source": [
    "print(\"RMSE OF XGB REGRESSION=\",np.sqrt(mean_squared_error(y_test, test_pred)))\n",
    "print(\"MAPE OF XGB REGRESSION=\",mean_absolute_percentage_error(y_test,test_pred))"
   ]
  },
  {
   "cell_type": "code",
   "execution_count": 24,
   "metadata": {},
   "outputs": [
    {
     "data": {
      "image/png": "[encoded data removed]",
      "text/plain": [
       "<Figure size 432x288 with 1 Axes>"
      ]
     },
     "metadata": {
      "needs_background": "light"
     },
     "output_type": "display_data"
    }
   ],
   "source": [
    "from matplotlib import pyplot as plt\n",
    "features = X_train.columns\n",
    "importances = xgb.feature_importances_\n",
    "indices = np.argsort(importances)[::-1] # np.argsort returns the indices that would sort an array.\n",
    "pd.DataFrame([X_train.columns[indices],np.sort(importances)[::-1]])\n",
    "plt.title('Feature Importances')\n",
    "plt.barh(range(len(indices)), importances[indices], color='black')\n",
    "plt.yticks(range(len(indices)), [features[i] for i in indices])\n",
    "plt.xlabel('Relative Importance')\n",
    "plt.show()"
   ]
  },
  {
   "cell_type": "code",
   "execution_count": 26,
   "metadata": {},
   "outputs": [
    {
     "data": {
      "text/plain": [
       "array([0.00493342, 0.00786856, 0.0150504 , 0.05195029, 0.02702708,\n",
       "       0.0602251 , 0.75910723, 0.01475332, 0.00255014, 0.02120391,\n",
       "       0.        , 0.00726128, 0.02806927], dtype=float32)"
      ]
     },
     "execution_count": 26,
     "metadata": {},
     "output_type": "execute_result"
    }
   ],
   "source": [
    "xgb.feature_importances_"
   ]
  },
  {
   "cell_type": "code",
   "execution_count": 25,
   "metadata": {},
   "outputs": [
    {
     "name": "stdout",
     "output_type": "stream",
     "text": [
      "best_parameters= <bound method XGBModel.get_xgb_params of XGBRegressor(base_score=0.5, booster='gbtree', colsample_bylevel=1,\n",
      "             colsample_bynode=1, colsample_bytree=1, gamma=0, gpu_id=-1,\n",
      "             importance_type='gain', interaction_constraints='',\n",
      "             learning_rate=0.300000012, max_delta_step=0, max_depth=6,\n",
      "             min_child_weight=1, missing=nan, monotone_constraints='()',\n",
      "             n_estimators=100, n_jobs=0, num_parallel_tree=1, random_state=1234,\n",
      "             reg_alpha=0, reg_lambda=1, scale_pos_weight=1, subsample=1,\n",
      "             tree_method='approx', validate_parameters=1, verbosity=None)>\n"
     ]
    }
   ],
   "source": [
    "print(\"best_parameters=\",xgb.get_xgb_params)"
   ]
  },
  {
   "cell_type": "markdown",
   "metadata": {},
   "source": [
    "we could see that old_new column and logitude has very low importance, let us drop those columns and rebuild the model"
   ]
  },
  {
   "cell_type": "code",
   "execution_count": 28,
   "metadata": {},
   "outputs": [],
   "source": [
    "X_train.drop(['old_new','longitude'],inplace=True,axis=1)\n",
    "X_test.drop(['old_new','longitude'],inplace=True,axis=1)"
   ]
  },
  {
   "cell_type": "code",
   "execution_count": 29,
   "metadata": {},
   "outputs": [
    {
     "name": "stdout",
     "output_type": "stream",
     "text": [
      "[13:35:46] WARNING: ../src/gbm/gbtree.cc:139: Tree method is automatically selected to be 'approx' for faster speed. To use old behavior (exact greedy algorithm on single machine), set tree_method to 'exact'.\n"
     ]
    }
   ],
   "source": [
    "xgb=XGBRegressor(random_state=1234)\n",
    "xgb.fit(X_train, y_train)\n",
    "train_pred = xgb.predict(X_train)"
   ]
  },
  {
   "cell_type": "code",
   "execution_count": 30,
   "metadata": {},
   "outputs": [
    {
     "name": "stdout",
     "output_type": "stream",
     "text": [
      "RMSE OF XGB REGRESSION= 0.8996148409150171\n",
      "MAPE OF XGB REGRESSION= 78.45615756099208\n"
     ]
    }
   ],
   "source": [
    "print(\"RMSE OF XGB REGRESSION=\",np.sqrt(mean_squared_error(y_train, train_pred)))\n",
    "print(\"MAPE OF XGB REGRESSION=\",mean_absolute_percentage_error(y_train,train_pred))"
   ]
  },
  {
   "cell_type": "code",
   "execution_count": 31,
   "metadata": {},
   "outputs": [
    {
     "name": "stdout",
     "output_type": "stream",
     "text": [
      "RMSE OF XGB REGRESSION= 0.7983437033631\n",
      "MAPE OF XGB REGRESSION= 92.78183756431567\n"
     ]
    }
   ],
   "source": [
    "print(\"RMSE OF XGB REGRESSION=\",np.sqrt(mean_squared_error(y_test, test_pred)))\n",
    "print(\"MAPE OF XGB REGRESSION=\",mean_absolute_percentage_error(y_test,test_pred))"
   ]
  },
  {
   "cell_type": "markdown",
   "metadata": {},
   "source": [
    "#### we could clearly see over fit in the data"
   ]
  },
  {
   "cell_type": "code",
   "execution_count": 32,
   "metadata": {},
   "outputs": [
    {
     "data": {
      "image/png": "[encoded data removed]",
      "text/plain": [
       "<Figure size 432x288 with 1 Axes>"
      ]
     },
     "metadata": {
      "needs_background": "light"
     },
     "output_type": "display_data"
    }
   ],
   "source": [
    "from matplotlib import pyplot as plt\n",
    "features = X_train.columns\n",
    "importances = xgb.feature_importances_\n",
    "indices = np.argsort(importances)[::-1] # np.argsort returns the indices that would sort an array.\n",
    "pd.DataFrame([X_train.columns[indices],np.sort(importances)[::-1]])\n",
    "plt.title('Feature Importances')\n",
    "plt.barh(range(len(indices)), importances[indices], color='black')\n",
    "plt.yticks(range(len(indices)), [features[i] for i in indices])\n",
    "plt.xlabel('Relative Importance')\n",
    "plt.show()"
   ]
  },
  {
   "cell_type": "code",
   "execution_count": 33,
   "metadata": {},
   "outputs": [
    {
     "data": {
      "text/plain": [
       "array([0.00332528, 0.00694665, 0.00703207, 0.05152429, 0.02840906,\n",
       "       0.06386723, 0.76744765, 0.01497174, 0.02086586, 0.00778371,\n",
       "       0.02782641], dtype=float32)"
      ]
     },
     "execution_count": 33,
     "metadata": {},
     "output_type": "execute_result"
    }
   ],
   "source": [
    "xgb.feature_importances_"
   ]
  },
  {
   "cell_type": "markdown",
   "metadata": {},
   "source": [
    "So there is not much change in performance in the model,let us extract the footfall data for future models"
   ]
  },
  {
   "cell_type": "code",
   "execution_count": 35,
   "metadata": {},
   "outputs": [],
   "source": [
    "test=test[['year', 'month', 'day', 'medicine', 'discounted', 'year_month', 'city_medicine', 'week', 'latitude', 'weekday', 'dayofweek']]"
   ]
  },
  {
   "cell_type": "code",
   "execution_count": 36,
   "metadata": {},
   "outputs": [],
   "source": [
    "test[\"footfall_perday_permed\"]=xgb.predict(test)"
   ]
  },
  {
   "cell_type": "markdown",
   "metadata": {},
   "source": [
    "Let us make a copy of the merged test data with footfall"
   ]
  },
  {
   "cell_type": "markdown",
   "metadata": {},
   "source": [
    "##### As data is big, The system  was crashing so built these models using Kaggle and could not do hyperparameter tuning as the kaggle was also crashing"
   ]
  },
  {
   "cell_type": "code",
   "execution_count": 37,
   "metadata": {},
   "outputs": [],
   "source": [
    "from IPython.display import HTML\n",
    "import pandas as pd\n",
    "import numpy as np\n",
    "import base64\n",
    "# function that takes in a dataframe and creates a text link to  \n",
    "# download it (will only work for files < 2MB or so)\n",
    "def create_download_link(df, title = \"Download CSV file\", filename = \"data.csv\"):  \n",
    "    csv = test.to_csv(index=False)\n",
    "    b64 = base64.b64encode(csv.encode())\n",
    "    payload = b64.decode()\n",
    "    html = '<a download=\"{filename}\" href=\"data:text/csv;base64,{payload}\" target=\"_blank\">{title}</a>'\n",
    "    html = html.format(payload=payload,title=title,filename=filename)\n",
    "    return HTML(html)\n",
    "\n",
    "# create a random sample dataframe\n",
    "#df = pd.DataFrame(np.random.randn(50, 4), columns=list('ABCD'))\n",
    "\n",
    "# create a link to download the dataframe\n",
    "create_download_link(test)"
   ]
  }
 ],
 "metadata": {
  "kernelspec": {
   "display_name": "Python 3",
   "language": "python",
   "name": "python3"
  },
  "language_info": {
   "codemirror_mode": {
    "name": "ipython",
    "version": 3
   },
   "file_extension": ".py",
   "mimetype": "text/x-python",
   "name": "python",
   "nbconvert_exporter": "python",
   "pygments_lexer": "ipython3",
   "version": "3.7.3"
  }
 },
 "nbformat": 4,
 "nbformat_minor": 4
}
