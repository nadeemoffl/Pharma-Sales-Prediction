{
 "cells": [
  {
   "cell_type": "markdown",
   "metadata": {},
   "source": [
    "#### create new fetaures for test and train datasets for improving model efficiency"
   ]
  },
  {
   "cell_type": "code",
   "execution_count": 1,
   "metadata": {},
   "outputs": [],
   "source": [
    "import numpy as np\n",
    "import pandas as pd\n",
    "from sklearn.linear_model import LinearRegression\n",
    "from xgboost.sklearn import XGBRegressor\n",
    "from sklearn.preprocessing import StandardScaler\n",
    "from category_encoders import TargetEncoder\n",
    "from sklearn import preprocessing\n",
    "import json\n",
    "import math\n",
    "import os\n",
    "from geopy.exc import GeocoderTimedOut \n",
    "from geopy.extra.rate_limiter import RateLimiter\n",
    "from geopy.geocoders import Nominatim\n",
    "import warnings\n",
    "warnings.filterwarnings(\"ignore\")\n",
    "from sklearn.metrics import mean_squared_error"
   ]
  },
  {
   "cell_type": "code",
   "execution_count": 2,
   "metadata": {},
   "outputs": [
    {
     "data": {
      "text/plain": [
       "'C:\\\\Users\\\\jayam\\\\Downloads\\\\7879phd'"
      ]
     },
     "execution_count": 2,
     "metadata": {},
     "output_type": "execute_result"
    }
   ],
   "source": [
    "path=os.getcwd()\n",
    "path"
   ]
  },
  {
   "cell_type": "code",
   "execution_count": 3,
   "metadata": {},
   "outputs": [],
   "source": [
    "with open(path+\"\\\\city_dict.json\") as f: ## read json file and get cities in approriate format for mapping\n",
    "      data = json.load(f)\n",
    "city = {value: key for key, value in data.items()}\n",
    "city={k:int(v) for k, v in city.items()}"
   ]
  },
  {
   "cell_type": "code",
   "execution_count": 4,
   "metadata": {},
   "outputs": [],
   "source": [
    "df=pd.DataFrame(list(city.items()),columns=[\"city\",\"keys\"])"
   ]
  },
  {
   "cell_type": "code",
   "execution_count": 5,
   "metadata": {
    "scrolled": true
   },
   "outputs": [
    {
     "data": {
      "text/html": [
       "<div>\n",
       "<style scoped>\n",
       "    .dataframe tbody tr th:only-of-type {\n",
       "        vertical-align: middle;\n",
       "    }\n",
       "\n",
       "    .dataframe tbody tr th {\n",
       "        vertical-align: top;\n",
       "    }\n",
       "\n",
       "    .dataframe thead th {\n",
       "        text-align: right;\n",
       "    }\n",
       "</style>\n",
       "<table border=\"1\" class=\"dataframe\">\n",
       "  <thead>\n",
       "    <tr style=\"text-align: right;\">\n",
       "      <th></th>\n",
       "      <th>city</th>\n",
       "      <th>keys</th>\n",
       "    </tr>\n",
       "  </thead>\n",
       "  <tbody>\n",
       "    <tr>\n",
       "      <th>0</th>\n",
       "      <td>Mumbai</td>\n",
       "      <td>4</td>\n",
       "    </tr>\n",
       "    <tr>\n",
       "      <th>1</th>\n",
       "      <td>Delhi</td>\n",
       "      <td>5</td>\n",
       "    </tr>\n",
       "  </tbody>\n",
       "</table>\n",
       "</div>"
      ],
      "text/plain": [
       "     city  keys\n",
       "0  Mumbai     4\n",
       "1   Delhi     5"
      ]
     },
     "execution_count": 5,
     "metadata": {},
     "output_type": "execute_result"
    }
   ],
   "source": [
    "df.head(2)"
   ]
  },
  {
   "cell_type": "markdown",
   "metadata": {},
   "source": [
    "##### Creating latitude and logitude features"
   ]
  },
  {
   "cell_type": "code",
   "execution_count": 6,
   "metadata": {},
   "outputs": [],
   "source": [
    "locator = Nominatim(user_agent=\"myGeocoder\")\n",
    "# 1 - conveneint function to delay between geocoding calls\n",
    "geocode = RateLimiter(locator.geocode, min_delay_seconds=1)\n",
    "# 2- - create location column\n",
    "df['location'] = df['city'].apply(geocode)\n",
    "# 3 - create longitude, laatitude and altitude from location column (returns tuple)\n",
    "df['point'] = df['location'].apply(lambda loc: tuple(loc.point) if loc else None)\n",
    "# 4 - split point column into latitude, longitude and altitude columns\n",
    "df[['latitude', 'longitude', 'altitude']] = pd.DataFrame(df['point'].tolist(), index=df.index)"
   ]
  },
  {
   "cell_type": "code",
   "execution_count": 7,
   "metadata": {},
   "outputs": [],
   "source": [
    "df.drop([\"location\",\"point\",\"altitude\"],inplace=True,axis=1)"
   ]
  },
  {
   "cell_type": "code",
   "execution_count": 8,
   "metadata": {},
   "outputs": [
    {
     "data": {
      "text/html": [
       "<div>\n",
       "<style scoped>\n",
       "    .dataframe tbody tr th:only-of-type {\n",
       "        vertical-align: middle;\n",
       "    }\n",
       "\n",
       "    .dataframe tbody tr th {\n",
       "        vertical-align: top;\n",
       "    }\n",
       "\n",
       "    .dataframe thead th {\n",
       "        text-align: right;\n",
       "    }\n",
       "</style>\n",
       "<table border=\"1\" class=\"dataframe\">\n",
       "  <thead>\n",
       "    <tr style=\"text-align: right;\">\n",
       "      <th></th>\n",
       "      <th>city</th>\n",
       "      <th>keys</th>\n",
       "      <th>latitude</th>\n",
       "      <th>longitude</th>\n",
       "    </tr>\n",
       "  </thead>\n",
       "  <tbody>\n",
       "    <tr>\n",
       "      <th>0</th>\n",
       "      <td>Mumbai</td>\n",
       "      <td>4</td>\n",
       "      <td>18.938771</td>\n",
       "      <td>72.835335</td>\n",
       "    </tr>\n",
       "    <tr>\n",
       "      <th>1</th>\n",
       "      <td>Delhi</td>\n",
       "      <td>5</td>\n",
       "      <td>28.651718</td>\n",
       "      <td>77.221939</td>\n",
       "    </tr>\n",
       "    <tr>\n",
       "      <th>2</th>\n",
       "      <td>Bangalore</td>\n",
       "      <td>7</td>\n",
       "      <td>12.979120</td>\n",
       "      <td>77.591300</td>\n",
       "    </tr>\n",
       "    <tr>\n",
       "      <th>3</th>\n",
       "      <td>Kolkata</td>\n",
       "      <td>1</td>\n",
       "      <td>22.545412</td>\n",
       "      <td>88.356775</td>\n",
       "    </tr>\n",
       "    <tr>\n",
       "      <th>4</th>\n",
       "      <td>Chennai</td>\n",
       "      <td>6</td>\n",
       "      <td>13.080172</td>\n",
       "      <td>80.283833</td>\n",
       "    </tr>\n",
       "    <tr>\n",
       "      <th>5</th>\n",
       "      <td>Hyderabad</td>\n",
       "      <td>8</td>\n",
       "      <td>17.388786</td>\n",
       "      <td>78.461065</td>\n",
       "    </tr>\n",
       "    <tr>\n",
       "      <th>6</th>\n",
       "      <td>Ahmedabad</td>\n",
       "      <td>9</td>\n",
       "      <td>23.021624</td>\n",
       "      <td>72.579707</td>\n",
       "    </tr>\n",
       "    <tr>\n",
       "      <th>7</th>\n",
       "      <td>Jaipur</td>\n",
       "      <td>3</td>\n",
       "      <td>26.916194</td>\n",
       "      <td>75.820349</td>\n",
       "    </tr>\n",
       "    <tr>\n",
       "      <th>8</th>\n",
       "      <td>Lucknow</td>\n",
       "      <td>10</td>\n",
       "      <td>26.838100</td>\n",
       "      <td>80.934600</td>\n",
       "    </tr>\n",
       "    <tr>\n",
       "      <th>9</th>\n",
       "      <td>Other</td>\n",
       "      <td>2</td>\n",
       "      <td>60.599136</td>\n",
       "      <td>-134.880251</td>\n",
       "    </tr>\n",
       "  </tbody>\n",
       "</table>\n",
       "</div>"
      ],
      "text/plain": [
       "        city  keys   latitude   longitude\n",
       "0     Mumbai     4  18.938771   72.835335\n",
       "1      Delhi     5  28.651718   77.221939\n",
       "2  Bangalore     7  12.979120   77.591300\n",
       "3    Kolkata     1  22.545412   88.356775\n",
       "4    Chennai     6  13.080172   80.283833\n",
       "5  Hyderabad     8  17.388786   78.461065\n",
       "6  Ahmedabad     9  23.021624   72.579707\n",
       "7     Jaipur     3  26.916194   75.820349\n",
       "8    Lucknow    10  26.838100   80.934600\n",
       "9      Other     2  60.599136 -134.880251"
      ]
     },
     "execution_count": 8,
     "metadata": {},
     "output_type": "execute_result"
    }
   ],
   "source": [
    "df"
   ]
  },
  {
   "cell_type": "code",
   "execution_count": 10,
   "metadata": {},
   "outputs": [],
   "source": [
    "test=pd.read_csv(path +\"\\\\test_final.csv\", sep=\",\", na_values=[\"?\",\",\",\"#\",\"NaN\",\"unknown\",\"\"])# read train data"
   ]
  },
  {
   "cell_type": "code",
   "execution_count": 11,
   "metadata": {},
   "outputs": [],
   "source": [
    "train=pd.read_csv(path +\"\\\\train_final.csv\", sep=\",\", na_values=[\"?\",\",\",\"#\",\"NaN\",\"unknown\",\"\"])# read test data"
   ]
  },
  {
   "cell_type": "code",
   "execution_count": 12,
   "metadata": {},
   "outputs": [],
   "source": [
    "test[\"date\"]=pd.to_datetime(test[\"date\"])\n",
    "train[\"date\"]=pd.to_datetime(train[\"date\"])"
   ]
  },
  {
   "cell_type": "markdown",
   "metadata": {},
   "source": [
    "#### Merge latitude and logitude with test and train datasets"
   ]
  },
  {
   "cell_type": "code",
   "execution_count": 13,
   "metadata": {},
   "outputs": [],
   "source": [
    "df.drop([\"city\"],axis=1,inplace=True)\n",
    "df.rename(columns={\"keys\":\"city\"},inplace=True)\n",
    "train=train.merge(df,on=[\"city\"],how=\"left\")\n",
    "test=test.merge(df,on=[\"city\"],how=\"left\")"
   ]
  },
  {
   "cell_type": "code",
   "execution_count": 14,
   "metadata": {
    "scrolled": true
   },
   "outputs": [
    {
     "data": {
      "text/html": [
       "<div>\n",
       "<style scoped>\n",
       "    .dataframe tbody tr th:only-of-type {\n",
       "        vertical-align: middle;\n",
       "    }\n",
       "\n",
       "    .dataframe tbody tr th {\n",
       "        vertical-align: top;\n",
       "    }\n",
       "\n",
       "    .dataframe thead th {\n",
       "        text-align: right;\n",
       "    }\n",
       "</style>\n",
       "<table border=\"1\" class=\"dataframe\">\n",
       "  <thead>\n",
       "    <tr style=\"text-align: right;\">\n",
       "      <th></th>\n",
       "      <th>year</th>\n",
       "      <th>month</th>\n",
       "      <th>day</th>\n",
       "      <th>city</th>\n",
       "      <th>medicine</th>\n",
       "      <th>date</th>\n",
       "      <th>sales</th>\n",
       "      <th>discounted</th>\n",
       "      <th>year_month</th>\n",
       "      <th>city_medicine</th>\n",
       "      <th>week</th>\n",
       "      <th>footfall_perday_permed</th>\n",
       "      <th>old_new</th>\n",
       "      <th>latitude</th>\n",
       "      <th>longitude</th>\n",
       "    </tr>\n",
       "  </thead>\n",
       "  <tbody>\n",
       "    <tr>\n",
       "      <th>0</th>\n",
       "      <td>2015</td>\n",
       "      <td>1</td>\n",
       "      <td>2</td>\n",
       "      <td>1</td>\n",
       "      <td>1</td>\n",
       "      <td>2015-01-02</td>\n",
       "      <td>24.0</td>\n",
       "      <td>0</td>\n",
       "      <td>2015_01</td>\n",
       "      <td>1_1</td>\n",
       "      <td>1</td>\n",
       "      <td>0.385804</td>\n",
       "      <td>old</td>\n",
       "      <td>22.545412</td>\n",
       "      <td>88.356775</td>\n",
       "    </tr>\n",
       "    <tr>\n",
       "      <th>1</th>\n",
       "      <td>2015</td>\n",
       "      <td>1</td>\n",
       "      <td>2</td>\n",
       "      <td>1</td>\n",
       "      <td>2</td>\n",
       "      <td>2015-01-02</td>\n",
       "      <td>144.0</td>\n",
       "      <td>0</td>\n",
       "      <td>2015_01</td>\n",
       "      <td>1_2</td>\n",
       "      <td>1</td>\n",
       "      <td>2.314824</td>\n",
       "      <td>old</td>\n",
       "      <td>22.545412</td>\n",
       "      <td>88.356775</td>\n",
       "    </tr>\n",
       "  </tbody>\n",
       "</table>\n",
       "</div>"
      ],
      "text/plain": [
       "   year  month  day  city  medicine       date  sales  discounted year_month  \\\n",
       "0  2015      1    2     1         1 2015-01-02   24.0           0    2015_01   \n",
       "1  2015      1    2     1         2 2015-01-02  144.0           0    2015_01   \n",
       "\n",
       "  city_medicine  week  footfall_perday_permed old_new   latitude  longitude  \n",
       "0           1_1     1                0.385804     old  22.545412  88.356775  \n",
       "1           1_2     1                2.314824     old  22.545412  88.356775  "
      ]
     },
     "execution_count": 14,
     "metadata": {},
     "output_type": "execute_result"
    }
   ],
   "source": [
    "train.head(2)"
   ]
  },
  {
   "cell_type": "code",
   "execution_count": 15,
   "metadata": {},
   "outputs": [],
   "source": [
    "train[\"weekday\"]=np.where((train[\"date\"].dt.dayofweek) < 5,0,1)# creating weekend feature\n",
    "test[\"weekday\"]=np.where((test[\"date\"].dt.dayofweek) < 5,0,1)\n",
    "test[\"dayofweek\"]=test[\"date\"].dt.dayofweek # creating day of week feature\n",
    "train[\"dayofweek\"]=train[\"date\"].dt.dayofweek"
   ]
  },
  {
   "cell_type": "code",
   "execution_count": 16,
   "metadata": {},
   "outputs": [],
   "source": [
    "train.drop([\"date\",\"city\"],axis=1,inplace=True)\n",
    "test.drop([\"id\",\"date\",\"footfall_perday_permed\",\"city\"],axis=1,inplace=True)"
   ]
  },
  {
   "cell_type": "code",
   "execution_count": 21,
   "metadata": {},
   "outputs": [],
   "source": [
    "train=train[train[\"year\"]>=2017]"
   ]
  },
  {
   "cell_type": "code",
   "execution_count": 22,
   "metadata": {},
   "outputs": [],
   "source": [
    "train.to_csv(\"kaggle_train.csv\",index=False)# save the train data for running the model in kaggle "
   ]
  },
  {
   "cell_type": "code",
   "execution_count": 23,
   "metadata": {},
   "outputs": [],
   "source": [
    "test.to_csv(\"kaggle_test.csv\",index=False)# save the test data for running the model in kaggle"
   ]
  },
  {
   "cell_type": "code",
   "execution_count": 17,
   "metadata": {
    "scrolled": false
   },
   "outputs": [
    {
     "data": {
      "text/html": [
       "<div>\n",
       "<style scoped>\n",
       "    .dataframe tbody tr th:only-of-type {\n",
       "        vertical-align: middle;\n",
       "    }\n",
       "\n",
       "    .dataframe tbody tr th {\n",
       "        vertical-align: top;\n",
       "    }\n",
       "\n",
       "    .dataframe thead th {\n",
       "        text-align: right;\n",
       "    }\n",
       "</style>\n",
       "<table border=\"1\" class=\"dataframe\">\n",
       "  <thead>\n",
       "    <tr style=\"text-align: right;\">\n",
       "      <th></th>\n",
       "      <th>year</th>\n",
       "      <th>month</th>\n",
       "      <th>day</th>\n",
       "      <th>medicine</th>\n",
       "      <th>discounted</th>\n",
       "      <th>year_month</th>\n",
       "      <th>city_medicine</th>\n",
       "      <th>week</th>\n",
       "      <th>old_new</th>\n",
       "      <th>latitude</th>\n",
       "      <th>longitude</th>\n",
       "      <th>weekday</th>\n",
       "      <th>dayofweek</th>\n",
       "    </tr>\n",
       "  </thead>\n",
       "  <tbody>\n",
       "    <tr>\n",
       "      <th>0</th>\n",
       "      <td>2018</td>\n",
       "      <td>7</td>\n",
       "      <td>1</td>\n",
       "      <td>1292</td>\n",
       "      <td>0</td>\n",
       "      <td>2018_07</td>\n",
       "      <td>1_1292</td>\n",
       "      <td>26</td>\n",
       "      <td>old</td>\n",
       "      <td>22.545412</td>\n",
       "      <td>88.356775</td>\n",
       "      <td>1</td>\n",
       "      <td>6</td>\n",
       "    </tr>\n",
       "    <tr>\n",
       "      <th>1</th>\n",
       "      <td>2018</td>\n",
       "      <td>7</td>\n",
       "      <td>1</td>\n",
       "      <td>1</td>\n",
       "      <td>0</td>\n",
       "      <td>2018_07</td>\n",
       "      <td>1_1</td>\n",
       "      <td>26</td>\n",
       "      <td>old</td>\n",
       "      <td>22.545412</td>\n",
       "      <td>88.356775</td>\n",
       "      <td>1</td>\n",
       "      <td>6</td>\n",
       "    </tr>\n",
       "    <tr>\n",
       "      <th>2</th>\n",
       "      <td>2018</td>\n",
       "      <td>7</td>\n",
       "      <td>1</td>\n",
       "      <td>2</td>\n",
       "      <td>1</td>\n",
       "      <td>2018_07</td>\n",
       "      <td>1_2</td>\n",
       "      <td>26</td>\n",
       "      <td>old</td>\n",
       "      <td>22.545412</td>\n",
       "      <td>88.356775</td>\n",
       "      <td>1</td>\n",
       "      <td>6</td>\n",
       "    </tr>\n",
       "    <tr>\n",
       "      <th>3</th>\n",
       "      <td>2018</td>\n",
       "      <td>7</td>\n",
       "      <td>1</td>\n",
       "      <td>3</td>\n",
       "      <td>0</td>\n",
       "      <td>2018_07</td>\n",
       "      <td>1_3</td>\n",
       "      <td>26</td>\n",
       "      <td>old</td>\n",
       "      <td>22.545412</td>\n",
       "      <td>88.356775</td>\n",
       "      <td>1</td>\n",
       "      <td>6</td>\n",
       "    </tr>\n",
       "    <tr>\n",
       "      <th>4</th>\n",
       "      <td>2018</td>\n",
       "      <td>7</td>\n",
       "      <td>1</td>\n",
       "      <td>4</td>\n",
       "      <td>0</td>\n",
       "      <td>2018_07</td>\n",
       "      <td>1_4</td>\n",
       "      <td>26</td>\n",
       "      <td>old</td>\n",
       "      <td>22.545412</td>\n",
       "      <td>88.356775</td>\n",
       "      <td>1</td>\n",
       "      <td>6</td>\n",
       "    </tr>\n",
       "  </tbody>\n",
       "</table>\n",
       "</div>"
      ],
      "text/plain": [
       "   year  month  day  medicine  discounted year_month city_medicine  week  \\\n",
       "0  2018      7    1      1292           0    2018_07        1_1292    26   \n",
       "1  2018      7    1         1           0    2018_07           1_1    26   \n",
       "2  2018      7    1         2           1    2018_07           1_2    26   \n",
       "3  2018      7    1         3           0    2018_07           1_3    26   \n",
       "4  2018      7    1         4           0    2018_07           1_4    26   \n",
       "\n",
       "  old_new   latitude  longitude  weekday  dayofweek  \n",
       "0     old  22.545412  88.356775        1          6  \n",
       "1     old  22.545412  88.356775        1          6  \n",
       "2     old  22.545412  88.356775        1          6  \n",
       "3     old  22.545412  88.356775        1          6  \n",
       "4     old  22.545412  88.356775        1          6  "
      ]
     },
     "execution_count": 17,
     "metadata": {},
     "output_type": "execute_result"
    }
   ],
   "source": [
    "test.head()"
   ]
  },
  {
   "cell_type": "code",
   "execution_count": 18,
   "metadata": {},
   "outputs": [
    {
     "data": {
      "text/html": [
       "<div>\n",
       "<style scoped>\n",
       "    .dataframe tbody tr th:only-of-type {\n",
       "        vertical-align: middle;\n",
       "    }\n",
       "\n",
       "    .dataframe tbody tr th {\n",
       "        vertical-align: top;\n",
       "    }\n",
       "\n",
       "    .dataframe thead th {\n",
       "        text-align: right;\n",
       "    }\n",
       "</style>\n",
       "<table border=\"1\" class=\"dataframe\">\n",
       "  <thead>\n",
       "    <tr style=\"text-align: right;\">\n",
       "      <th></th>\n",
       "      <th>year</th>\n",
       "      <th>month</th>\n",
       "      <th>day</th>\n",
       "      <th>medicine</th>\n",
       "      <th>sales</th>\n",
       "      <th>discounted</th>\n",
       "      <th>year_month</th>\n",
       "      <th>city_medicine</th>\n",
       "      <th>week</th>\n",
       "      <th>footfall_perday_permed</th>\n",
       "      <th>old_new</th>\n",
       "      <th>latitude</th>\n",
       "      <th>longitude</th>\n",
       "      <th>weekday</th>\n",
       "      <th>dayofweek</th>\n",
       "    </tr>\n",
       "  </thead>\n",
       "  <tbody>\n",
       "    <tr>\n",
       "      <th>0</th>\n",
       "      <td>2015</td>\n",
       "      <td>1</td>\n",
       "      <td>2</td>\n",
       "      <td>1</td>\n",
       "      <td>24.0</td>\n",
       "      <td>0</td>\n",
       "      <td>2015_01</td>\n",
       "      <td>1_1</td>\n",
       "      <td>1</td>\n",
       "      <td>0.385804</td>\n",
       "      <td>old</td>\n",
       "      <td>22.545412</td>\n",
       "      <td>88.356775</td>\n",
       "      <td>0</td>\n",
       "      <td>4</td>\n",
       "    </tr>\n",
       "    <tr>\n",
       "      <th>1</th>\n",
       "      <td>2015</td>\n",
       "      <td>1</td>\n",
       "      <td>2</td>\n",
       "      <td>2</td>\n",
       "      <td>144.0</td>\n",
       "      <td>0</td>\n",
       "      <td>2015_01</td>\n",
       "      <td>1_2</td>\n",
       "      <td>1</td>\n",
       "      <td>2.314824</td>\n",
       "      <td>old</td>\n",
       "      <td>22.545412</td>\n",
       "      <td>88.356775</td>\n",
       "      <td>0</td>\n",
       "      <td>4</td>\n",
       "    </tr>\n",
       "    <tr>\n",
       "      <th>2</th>\n",
       "      <td>2015</td>\n",
       "      <td>1</td>\n",
       "      <td>2</td>\n",
       "      <td>3</td>\n",
       "      <td>84.0</td>\n",
       "      <td>0</td>\n",
       "      <td>2015_01</td>\n",
       "      <td>1_3</td>\n",
       "      <td>1</td>\n",
       "      <td>1.350314</td>\n",
       "      <td>old</td>\n",
       "      <td>22.545412</td>\n",
       "      <td>88.356775</td>\n",
       "      <td>0</td>\n",
       "      <td>4</td>\n",
       "    </tr>\n",
       "    <tr>\n",
       "      <th>3</th>\n",
       "      <td>2015</td>\n",
       "      <td>1</td>\n",
       "      <td>2</td>\n",
       "      <td>4</td>\n",
       "      <td>24.0</td>\n",
       "      <td>0</td>\n",
       "      <td>2015_01</td>\n",
       "      <td>1_4</td>\n",
       "      <td>1</td>\n",
       "      <td>0.385804</td>\n",
       "      <td>old</td>\n",
       "      <td>22.545412</td>\n",
       "      <td>88.356775</td>\n",
       "      <td>0</td>\n",
       "      <td>4</td>\n",
       "    </tr>\n",
       "    <tr>\n",
       "      <th>4</th>\n",
       "      <td>2015</td>\n",
       "      <td>1</td>\n",
       "      <td>2</td>\n",
       "      <td>5</td>\n",
       "      <td>8.0</td>\n",
       "      <td>0</td>\n",
       "      <td>2015_01</td>\n",
       "      <td>1_5</td>\n",
       "      <td>1</td>\n",
       "      <td>0.128601</td>\n",
       "      <td>old</td>\n",
       "      <td>22.545412</td>\n",
       "      <td>88.356775</td>\n",
       "      <td>0</td>\n",
       "      <td>4</td>\n",
       "    </tr>\n",
       "  </tbody>\n",
       "</table>\n",
       "</div>"
      ],
      "text/plain": [
       "   year  month  day  medicine  sales  discounted year_month city_medicine  \\\n",
       "0  2015      1    2         1   24.0           0    2015_01           1_1   \n",
       "1  2015      1    2         2  144.0           0    2015_01           1_2   \n",
       "2  2015      1    2         3   84.0           0    2015_01           1_3   \n",
       "3  2015      1    2         4   24.0           0    2015_01           1_4   \n",
       "4  2015      1    2         5    8.0           0    2015_01           1_5   \n",
       "\n",
       "   week  footfall_perday_permed old_new   latitude  longitude  weekday  \\\n",
       "0     1                0.385804     old  22.545412  88.356775        0   \n",
       "1     1                2.314824     old  22.545412  88.356775        0   \n",
       "2     1                1.350314     old  22.545412  88.356775        0   \n",
       "3     1                0.385804     old  22.545412  88.356775        0   \n",
       "4     1                0.128601     old  22.545412  88.356775        0   \n",
       "\n",
       "   dayofweek  \n",
       "0          4  \n",
       "1          4  \n",
       "2          4  \n",
       "3          4  \n",
       "4          4  "
      ]
     },
     "execution_count": 18,
     "metadata": {},
     "output_type": "execute_result"
    }
   ],
   "source": [
    "train.head()"
   ]
  }
 ],
 "metadata": {
  "kernelspec": {
   "display_name": "Python 3",
   "language": "python",
   "name": "python3"
  },
  "language_info": {
   "codemirror_mode": {
    "name": "ipython",
    "version": 3
   },
   "file_extension": ".py",
   "mimetype": "text/x-python",
   "name": "python",
   "nbconvert_exporter": "python",
   "pygments_lexer": "ipython3",
   "version": "3.7.3"
  }
 },
 "nbformat": 4,
 "nbformat_minor": 4
}
