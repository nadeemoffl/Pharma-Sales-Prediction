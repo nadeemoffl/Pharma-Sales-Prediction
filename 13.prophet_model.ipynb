{
 "cells": [
  {
   "cell_type": "markdown",
   "metadata": {},
   "source": [
    "#### Let us build the propht model for the selected city_medicines "
   ]
  },
  {
   "cell_type": "code",
   "execution_count": 2,
   "metadata": {
    "scrolled": true
   },
   "outputs": [
    {
     "name": "stderr",
     "output_type": "stream",
     "text": [
      "In C:\\Users\\jayam\\Anaconda3\\lib\\site-packages\\matplotlib\\mpl-data\\stylelib\\_classic_test.mplstyle: \n",
      "The text.latex.preview rcparam was deprecated in Matplotlib 3.3 and will be removed two minor releases later.\n",
      "In C:\\Users\\jayam\\Anaconda3\\lib\\site-packages\\matplotlib\\mpl-data\\stylelib\\_classic_test.mplstyle: \n",
      "The mathtext.fallback_to_cm rcparam was deprecated in Matplotlib 3.3 and will be removed two minor releases later.\n",
      "In C:\\Users\\jayam\\Anaconda3\\lib\\site-packages\\matplotlib\\mpl-data\\stylelib\\_classic_test.mplstyle: Support for setting the 'mathtext.fallback_to_cm' rcParam is deprecated since 3.3 and will be removed two minor releases later; use 'mathtext.fallback : 'cm' instead.\n",
      "In C:\\Users\\jayam\\Anaconda3\\lib\\site-packages\\matplotlib\\mpl-data\\stylelib\\_classic_test.mplstyle: \n",
      "The validate_bool_maybe_none function was deprecated in Matplotlib 3.3 and will be removed two minor releases later.\n",
      "In C:\\Users\\jayam\\Anaconda3\\lib\\site-packages\\matplotlib\\mpl-data\\stylelib\\_classic_test.mplstyle: \n",
      "The savefig.jpeg_quality rcparam was deprecated in Matplotlib 3.3 and will be removed two minor releases later.\n",
      "In C:\\Users\\jayam\\Anaconda3\\lib\\site-packages\\matplotlib\\mpl-data\\stylelib\\_classic_test.mplstyle: \n",
      "The keymap.all_axes rcparam was deprecated in Matplotlib 3.3 and will be removed two minor releases later.\n",
      "In C:\\Users\\jayam\\Anaconda3\\lib\\site-packages\\matplotlib\\mpl-data\\stylelib\\_classic_test.mplstyle: \n",
      "The animation.avconv_path rcparam was deprecated in Matplotlib 3.3 and will be removed two minor releases later.\n",
      "In C:\\Users\\jayam\\Anaconda3\\lib\\site-packages\\matplotlib\\mpl-data\\stylelib\\_classic_test.mplstyle: \n",
      "The animation.avconv_args rcparam was deprecated in Matplotlib 3.3 and will be removed two minor releases later.\n"
     ]
    }
   ],
   "source": [
    "import numpy as np\n",
    "import pandas as pd\n",
    "import json\n",
    "import math\n",
    "import os\n",
    "from fbprophet import Prophet\n",
    "import warnings\n",
    "warnings.filterwarnings(\"ignore\")\n",
    "from sklearn.metrics import mean_squared_error"
   ]
  },
  {
   "cell_type": "code",
   "execution_count": 2,
   "metadata": {},
   "outputs": [
    {
     "data": {
      "text/plain": [
       "'C:\\\\Users\\\\jayam\\\\Downloads\\\\7879phd'"
      ]
     },
     "execution_count": 2,
     "metadata": {},
     "output_type": "execute_result"
    }
   ],
   "source": [
    "path=os.getcwd()\n",
    "path"
   ]
  },
  {
   "cell_type": "code",
   "execution_count": 4,
   "metadata": {},
   "outputs": [],
   "source": [
    "test=pd.read_csv(path +\"\\\\test_final.csv\", sep=\",\", na_values=[\"?\",\",\",\"#\",\"NaN\",\"unknown\",\"\"])\n",
    "train=pd.read_csv(path +\"\\\\train_final.csv\", sep=\",\", na_values=[\"?\",\",\",\"#\",\"NaN\",\"unknown\",\"\"])"
   ]
  },
  {
   "cell_type": "code",
   "execution_count": 5,
   "metadata": {},
   "outputs": [
    {
     "data": {
      "text/html": [
       "<div>\n",
       "<style scoped>\n",
       "    .dataframe tbody tr th:only-of-type {\n",
       "        vertical-align: middle;\n",
       "    }\n",
       "\n",
       "    .dataframe tbody tr th {\n",
       "        vertical-align: top;\n",
       "    }\n",
       "\n",
       "    .dataframe thead th {\n",
       "        text-align: right;\n",
       "    }\n",
       "</style>\n",
       "<table border=\"1\" class=\"dataframe\">\n",
       "  <thead>\n",
       "    <tr style=\"text-align: right;\">\n",
       "      <th></th>\n",
       "      <th>year</th>\n",
       "      <th>month</th>\n",
       "      <th>day</th>\n",
       "      <th>city</th>\n",
       "      <th>medicine</th>\n",
       "      <th>date</th>\n",
       "      <th>sales</th>\n",
       "      <th>discounted</th>\n",
       "      <th>year_month</th>\n",
       "      <th>city_medicine</th>\n",
       "      <th>week</th>\n",
       "      <th>footfall_perday_permed</th>\n",
       "      <th>old_new</th>\n",
       "    </tr>\n",
       "  </thead>\n",
       "  <tbody>\n",
       "    <tr>\n",
       "      <th>0</th>\n",
       "      <td>2015</td>\n",
       "      <td>1</td>\n",
       "      <td>2</td>\n",
       "      <td>1</td>\n",
       "      <td>1</td>\n",
       "      <td>2015-01-02</td>\n",
       "      <td>24.0</td>\n",
       "      <td>0</td>\n",
       "      <td>2015_01</td>\n",
       "      <td>1_1</td>\n",
       "      <td>1</td>\n",
       "      <td>0.385804</td>\n",
       "      <td>old</td>\n",
       "    </tr>\n",
       "    <tr>\n",
       "      <th>1</th>\n",
       "      <td>2015</td>\n",
       "      <td>1</td>\n",
       "      <td>2</td>\n",
       "      <td>1</td>\n",
       "      <td>2</td>\n",
       "      <td>2015-01-02</td>\n",
       "      <td>144.0</td>\n",
       "      <td>0</td>\n",
       "      <td>2015_01</td>\n",
       "      <td>1_2</td>\n",
       "      <td>1</td>\n",
       "      <td>2.314824</td>\n",
       "      <td>old</td>\n",
       "    </tr>\n",
       "    <tr>\n",
       "      <th>2</th>\n",
       "      <td>2015</td>\n",
       "      <td>1</td>\n",
       "      <td>2</td>\n",
       "      <td>1</td>\n",
       "      <td>3</td>\n",
       "      <td>2015-01-02</td>\n",
       "      <td>84.0</td>\n",
       "      <td>0</td>\n",
       "      <td>2015_01</td>\n",
       "      <td>1_3</td>\n",
       "      <td>1</td>\n",
       "      <td>1.350314</td>\n",
       "      <td>old</td>\n",
       "    </tr>\n",
       "    <tr>\n",
       "      <th>3</th>\n",
       "      <td>2015</td>\n",
       "      <td>1</td>\n",
       "      <td>2</td>\n",
       "      <td>1</td>\n",
       "      <td>4</td>\n",
       "      <td>2015-01-02</td>\n",
       "      <td>24.0</td>\n",
       "      <td>0</td>\n",
       "      <td>2015_01</td>\n",
       "      <td>1_4</td>\n",
       "      <td>1</td>\n",
       "      <td>0.385804</td>\n",
       "      <td>old</td>\n",
       "    </tr>\n",
       "    <tr>\n",
       "      <th>4</th>\n",
       "      <td>2015</td>\n",
       "      <td>1</td>\n",
       "      <td>2</td>\n",
       "      <td>1</td>\n",
       "      <td>5</td>\n",
       "      <td>2015-01-02</td>\n",
       "      <td>8.0</td>\n",
       "      <td>0</td>\n",
       "      <td>2015_01</td>\n",
       "      <td>1_5</td>\n",
       "      <td>1</td>\n",
       "      <td>0.128601</td>\n",
       "      <td>old</td>\n",
       "    </tr>\n",
       "  </tbody>\n",
       "</table>\n",
       "</div>"
      ],
      "text/plain": [
       "   year  month  day  city  medicine        date  sales  discounted year_month  \\\n",
       "0  2015      1    2     1         1  2015-01-02   24.0           0    2015_01   \n",
       "1  2015      1    2     1         2  2015-01-02  144.0           0    2015_01   \n",
       "2  2015      1    2     1         3  2015-01-02   84.0           0    2015_01   \n",
       "3  2015      1    2     1         4  2015-01-02   24.0           0    2015_01   \n",
       "4  2015      1    2     1         5  2015-01-02    8.0           0    2015_01   \n",
       "\n",
       "  city_medicine  week  footfall_perday_permed old_new  \n",
       "0           1_1     1                0.385804     old  \n",
       "1           1_2     1                2.314824     old  \n",
       "2           1_3     1                1.350314     old  \n",
       "3           1_4     1                0.385804     old  \n",
       "4           1_5     1                0.128601     old  "
      ]
     },
     "execution_count": 5,
     "metadata": {},
     "output_type": "execute_result"
    }
   ],
   "source": [
    "train.head()"
   ]
  },
  {
   "cell_type": "code",
   "execution_count": 6,
   "metadata": {},
   "outputs": [],
   "source": [
    "df=pd.DataFrame(test[\"city_medicine\"].value_counts(normalize=True))\n",
    "df.rename(columns={\"city_medicine\":\"percent\"},inplace=True)\n",
    "df[\"cumsum\"]=df[\"percent\"].cumsum()*100\n",
    "df[\"valuecount\"]=test[\"city_medicine\"].value_counts().values"
   ]
  },
  {
   "cell_type": "code",
   "execution_count": 10,
   "metadata": {},
   "outputs": [
    {
     "data": {
      "text/html": [
       "<div>\n",
       "<style scoped>\n",
       "    .dataframe tbody tr th:only-of-type {\n",
       "        vertical-align: middle;\n",
       "    }\n",
       "\n",
       "    .dataframe tbody tr th {\n",
       "        vertical-align: top;\n",
       "    }\n",
       "\n",
       "    .dataframe thead th {\n",
       "        text-align: right;\n",
       "    }\n",
       "</style>\n",
       "<table border=\"1\" class=\"dataframe\">\n",
       "  <thead>\n",
       "    <tr style=\"text-align: right;\">\n",
       "      <th></th>\n",
       "      <th>percent</th>\n",
       "      <th>cumsum</th>\n",
       "      <th>valuecount</th>\n",
       "    </tr>\n",
       "  </thead>\n",
       "  <tbody>\n",
       "    <tr>\n",
       "      <th>6_1937</th>\n",
       "      <td>0.00004</td>\n",
       "      <td>42.496332</td>\n",
       "      <td>31</td>\n",
       "    </tr>\n",
       "    <tr>\n",
       "      <th>5_371</th>\n",
       "      <td>0.00004</td>\n",
       "      <td>42.500339</td>\n",
       "      <td>31</td>\n",
       "    </tr>\n",
       "    <tr>\n",
       "      <th>6_1102</th>\n",
       "      <td>0.00004</td>\n",
       "      <td>42.504347</td>\n",
       "      <td>31</td>\n",
       "    </tr>\n",
       "    <tr>\n",
       "      <th>4_1315</th>\n",
       "      <td>0.00004</td>\n",
       "      <td>42.508355</td>\n",
       "      <td>31</td>\n",
       "    </tr>\n",
       "    <tr>\n",
       "      <th>4_2009</th>\n",
       "      <td>0.00004</td>\n",
       "      <td>42.512362</td>\n",
       "      <td>31</td>\n",
       "    </tr>\n",
       "  </tbody>\n",
       "</table>\n",
       "</div>"
      ],
      "text/plain": [
       "        percent     cumsum  valuecount\n",
       "6_1937  0.00004  42.496332          31\n",
       "5_371   0.00004  42.500339          31\n",
       "6_1102  0.00004  42.504347          31\n",
       "4_1315  0.00004  42.508355          31\n",
       "4_2009  0.00004  42.512362          31"
      ]
     },
     "execution_count": 10,
     "metadata": {},
     "output_type": "execute_result"
    }
   ],
   "source": [
    "df[df[\"valuecount\"]==31].tail()"
   ]
  },
  {
   "cell_type": "code",
   "execution_count": 11,
   "metadata": {},
   "outputs": [
    {
     "data": {
      "text/plain": [
       "(10608, 3)"
      ]
     },
     "execution_count": 11,
     "metadata": {},
     "output_type": "execute_result"
    }
   ],
   "source": [
    "df[df[\"valuecount\"]==31].shape"
   ]
  },
  {
   "cell_type": "markdown",
   "metadata": {},
   "source": [
    "#### Let us build the propht model for all these 10608 medicines as they contribute to 42 percent of the rows in test dataset "
   ]
  },
  {
   "cell_type": "code",
   "execution_count": 12,
   "metadata": {},
   "outputs": [],
   "source": [
    "top_42=list(df[df[\"valuecount\"]==31].index)"
   ]
  },
  {
   "cell_type": "code",
   "execution_count": 13,
   "metadata": {},
   "outputs": [],
   "source": [
    "top_42_df=df.iloc[:10608,]"
   ]
  },
  {
   "cell_type": "code",
   "execution_count": 15,
   "metadata": {},
   "outputs": [
    {
     "data": {
      "text/html": [
       "<div>\n",
       "<style scoped>\n",
       "    .dataframe tbody tr th:only-of-type {\n",
       "        vertical-align: middle;\n",
       "    }\n",
       "\n",
       "    .dataframe tbody tr th {\n",
       "        vertical-align: top;\n",
       "    }\n",
       "\n",
       "    .dataframe thead th {\n",
       "        text-align: right;\n",
       "    }\n",
       "</style>\n",
       "<table border=\"1\" class=\"dataframe\">\n",
       "  <thead>\n",
       "    <tr style=\"text-align: right;\">\n",
       "      <th></th>\n",
       "      <th>percent</th>\n",
       "      <th>cumsum</th>\n",
       "      <th>valuecount</th>\n",
       "    </tr>\n",
       "  </thead>\n",
       "  <tbody>\n",
       "    <tr>\n",
       "      <th>6_1937</th>\n",
       "      <td>0.00004</td>\n",
       "      <td>42.496332</td>\n",
       "      <td>31</td>\n",
       "    </tr>\n",
       "    <tr>\n",
       "      <th>5_371</th>\n",
       "      <td>0.00004</td>\n",
       "      <td>42.500339</td>\n",
       "      <td>31</td>\n",
       "    </tr>\n",
       "    <tr>\n",
       "      <th>6_1102</th>\n",
       "      <td>0.00004</td>\n",
       "      <td>42.504347</td>\n",
       "      <td>31</td>\n",
       "    </tr>\n",
       "    <tr>\n",
       "      <th>4_1315</th>\n",
       "      <td>0.00004</td>\n",
       "      <td>42.508355</td>\n",
       "      <td>31</td>\n",
       "    </tr>\n",
       "    <tr>\n",
       "      <th>4_2009</th>\n",
       "      <td>0.00004</td>\n",
       "      <td>42.512362</td>\n",
       "      <td>31</td>\n",
       "    </tr>\n",
       "  </tbody>\n",
       "</table>\n",
       "</div>"
      ],
      "text/plain": [
       "        percent     cumsum  valuecount\n",
       "6_1937  0.00004  42.496332          31\n",
       "5_371   0.00004  42.500339          31\n",
       "6_1102  0.00004  42.504347          31\n",
       "4_1315  0.00004  42.508355          31\n",
       "4_2009  0.00004  42.512362          31"
      ]
     },
     "execution_count": 15,
     "metadata": {},
     "output_type": "execute_result"
    }
   ],
   "source": [
    "top_42_df.tail()"
   ]
  },
  {
   "cell_type": "markdown",
   "metadata": {},
   "source": [
    "- In general propht model requires 1 year data gives good modelling results \n",
    "- so let us consider the data from 2017"
   ]
  },
  {
   "cell_type": "code",
   "execution_count": 16,
   "metadata": {},
   "outputs": [],
   "source": [
    "trn=train[train[\"year\"]>=2017]"
   ]
  },
  {
   "cell_type": "code",
   "execution_count": 17,
   "metadata": {
    "scrolled": true
   },
   "outputs": [
    {
     "data": {
      "text/plain": [
       "(array([False,  True]), array([    3, 10605], dtype=int64))"
      ]
     },
     "execution_count": 17,
     "metadata": {},
     "output_type": "execute_result"
    }
   ],
   "source": [
    "np.unique(top_42_df.index.isin(list(trn[\"city_medicine\"].values)),return_counts=True)"
   ]
  },
  {
   "cell_type": "code",
   "execution_count": 18,
   "metadata": {},
   "outputs": [
    {
     "data": {
      "text/plain": [
       "(array([False,  True]), array([    3, 10605], dtype=int64))"
      ]
     },
     "execution_count": 18,
     "metadata": {},
     "output_type": "execute_result"
    }
   ],
   "source": [
    "np.unique(top_42_df.index.isin(list(train[\"city_medicine\"].values)),return_counts=True)"
   ]
  },
  {
   "cell_type": "markdown",
   "metadata": {},
   "source": [
    "- so out of 10608 which are contributing to 42% of rows in test data there are 3 medicines which are not available in both the from 2017 data and entire  train dataset"
   ]
  },
  {
   "cell_type": "code",
   "execution_count": 26,
   "metadata": {},
   "outputs": [],
   "source": [
    "cmn_meds_df=top_42_df[top_42_df.index.isin(list(trn[\"city_medicine\"].values))]"
   ]
  },
  {
   "cell_type": "code",
   "execution_count": 27,
   "metadata": {},
   "outputs": [
    {
     "data": {
      "text/plain": [
       "(10605, 3)"
      ]
     },
     "execution_count": 27,
     "metadata": {},
     "output_type": "execute_result"
    }
   ],
   "source": [
    "cmn_meds_df.shape"
   ]
  },
  {
   "cell_type": "code",
   "execution_count": 28,
   "metadata": {},
   "outputs": [],
   "source": [
    "cmn_trn_df=trn[trn[\"city_medicine\"].isin(cmn_meds_df.index)]"
   ]
  },
  {
   "cell_type": "code",
   "execution_count": 29,
   "metadata": {},
   "outputs": [
    {
     "data": {
      "text/html": [
       "<div>\n",
       "<style scoped>\n",
       "    .dataframe tbody tr th:only-of-type {\n",
       "        vertical-align: middle;\n",
       "    }\n",
       "\n",
       "    .dataframe tbody tr th {\n",
       "        vertical-align: top;\n",
       "    }\n",
       "\n",
       "    .dataframe thead th {\n",
       "        text-align: right;\n",
       "    }\n",
       "</style>\n",
       "<table border=\"1\" class=\"dataframe\">\n",
       "  <thead>\n",
       "    <tr style=\"text-align: right;\">\n",
       "      <th></th>\n",
       "      <th>year</th>\n",
       "      <th>month</th>\n",
       "      <th>day</th>\n",
       "      <th>city</th>\n",
       "      <th>medicine</th>\n",
       "      <th>date</th>\n",
       "      <th>sales</th>\n",
       "      <th>discounted</th>\n",
       "      <th>year_month</th>\n",
       "      <th>city_medicine</th>\n",
       "      <th>week</th>\n",
       "      <th>footfall_perday_permed</th>\n",
       "      <th>old_new</th>\n",
       "    </tr>\n",
       "  </thead>\n",
       "  <tbody>\n",
       "    <tr>\n",
       "      <th>10882319</th>\n",
       "      <td>2017</td>\n",
       "      <td>1</td>\n",
       "      <td>2</td>\n",
       "      <td>1</td>\n",
       "      <td>2</td>\n",
       "      <td>2017-01-02</td>\n",
       "      <td>72.000</td>\n",
       "      <td>0</td>\n",
       "      <td>2017_01</td>\n",
       "      <td>1_2</td>\n",
       "      <td>1</td>\n",
       "      <td>0.878203</td>\n",
       "      <td>old</td>\n",
       "    </tr>\n",
       "    <tr>\n",
       "      <th>10882320</th>\n",
       "      <td>2017</td>\n",
       "      <td>1</td>\n",
       "      <td>2</td>\n",
       "      <td>1</td>\n",
       "      <td>3</td>\n",
       "      <td>2017-01-02</td>\n",
       "      <td>128.000</td>\n",
       "      <td>0</td>\n",
       "      <td>2017_01</td>\n",
       "      <td>1_3</td>\n",
       "      <td>1</td>\n",
       "      <td>1.561250</td>\n",
       "      <td>old</td>\n",
       "    </tr>\n",
       "    <tr>\n",
       "      <th>10882323</th>\n",
       "      <td>2017</td>\n",
       "      <td>1</td>\n",
       "      <td>2</td>\n",
       "      <td>1</td>\n",
       "      <td>8</td>\n",
       "      <td>2017-01-02</td>\n",
       "      <td>64.000</td>\n",
       "      <td>0</td>\n",
       "      <td>2017_01</td>\n",
       "      <td>1_8</td>\n",
       "      <td>1</td>\n",
       "      <td>0.780625</td>\n",
       "      <td>old</td>\n",
       "    </tr>\n",
       "    <tr>\n",
       "      <th>10882327</th>\n",
       "      <td>2017</td>\n",
       "      <td>1</td>\n",
       "      <td>2</td>\n",
       "      <td>1</td>\n",
       "      <td>13</td>\n",
       "      <td>2017-01-02</td>\n",
       "      <td>52.000</td>\n",
       "      <td>0</td>\n",
       "      <td>2017_01</td>\n",
       "      <td>1_13</td>\n",
       "      <td>1</td>\n",
       "      <td>0.634258</td>\n",
       "      <td>old</td>\n",
       "    </tr>\n",
       "    <tr>\n",
       "      <th>10882328</th>\n",
       "      <td>2017</td>\n",
       "      <td>1</td>\n",
       "      <td>2</td>\n",
       "      <td>1</td>\n",
       "      <td>14</td>\n",
       "      <td>2017-01-02</td>\n",
       "      <td>47.692</td>\n",
       "      <td>1</td>\n",
       "      <td>2017_01</td>\n",
       "      <td>1_14</td>\n",
       "      <td>1</td>\n",
       "      <td>0.581712</td>\n",
       "      <td>old</td>\n",
       "    </tr>\n",
       "  </tbody>\n",
       "</table>\n",
       "</div>"
      ],
      "text/plain": [
       "          year  month  day  city  medicine        date    sales  discounted  \\\n",
       "10882319  2017      1    2     1         2  2017-01-02   72.000           0   \n",
       "10882320  2017      1    2     1         3  2017-01-02  128.000           0   \n",
       "10882323  2017      1    2     1         8  2017-01-02   64.000           0   \n",
       "10882327  2017      1    2     1        13  2017-01-02   52.000           0   \n",
       "10882328  2017      1    2     1        14  2017-01-02   47.692           1   \n",
       "\n",
       "         year_month city_medicine  week  footfall_perday_permed old_new  \n",
       "10882319    2017_01           1_2     1                0.878203     old  \n",
       "10882320    2017_01           1_3     1                1.561250     old  \n",
       "10882323    2017_01           1_8     1                0.780625     old  \n",
       "10882327    2017_01          1_13     1                0.634258     old  \n",
       "10882328    2017_01          1_14     1                0.581712     old  "
      ]
     },
     "execution_count": 29,
     "metadata": {},
     "output_type": "execute_result"
    }
   ],
   "source": [
    "cmn_trn_df.head()"
   ]
  },
  {
   "cell_type": "code",
   "execution_count": 31,
   "metadata": {},
   "outputs": [],
   "source": [
    "sub_set=cmn_trn_df[[\"date\",\"sales\",\"city_medicine\"]]"
   ]
  },
  {
   "cell_type": "code",
   "execution_count": 32,
   "metadata": {},
   "outputs": [],
   "source": [
    "lst=list(cmn_trn_df[\"city_medicine\"].value_counts().index)"
   ]
  },
  {
   "cell_type": "code",
   "execution_count": 34,
   "metadata": {},
   "outputs": [],
   "source": [
    "sub_set.reset_index(inplace=True,drop=True)"
   ]
  },
  {
   "cell_type": "code",
   "execution_count": 36,
   "metadata": {},
   "outputs": [
    {
     "data": {
      "text/html": [
       "<div>\n",
       "<style scoped>\n",
       "    .dataframe tbody tr th:only-of-type {\n",
       "        vertical-align: middle;\n",
       "    }\n",
       "\n",
       "    .dataframe tbody tr th {\n",
       "        vertical-align: top;\n",
       "    }\n",
       "\n",
       "    .dataframe thead th {\n",
       "        text-align: right;\n",
       "    }\n",
       "</style>\n",
       "<table border=\"1\" class=\"dataframe\">\n",
       "  <thead>\n",
       "    <tr style=\"text-align: right;\">\n",
       "      <th></th>\n",
       "      <th>date</th>\n",
       "      <th>sales</th>\n",
       "      <th>city_medicine</th>\n",
       "    </tr>\n",
       "  </thead>\n",
       "  <tbody>\n",
       "    <tr>\n",
       "      <th>0</th>\n",
       "      <td>2017-01-02</td>\n",
       "      <td>72.000</td>\n",
       "      <td>1_2</td>\n",
       "    </tr>\n",
       "    <tr>\n",
       "      <th>1</th>\n",
       "      <td>2017-01-02</td>\n",
       "      <td>128.000</td>\n",
       "      <td>1_3</td>\n",
       "    </tr>\n",
       "    <tr>\n",
       "      <th>2</th>\n",
       "      <td>2017-01-02</td>\n",
       "      <td>64.000</td>\n",
       "      <td>1_8</td>\n",
       "    </tr>\n",
       "    <tr>\n",
       "      <th>3</th>\n",
       "      <td>2017-01-02</td>\n",
       "      <td>52.000</td>\n",
       "      <td>1_13</td>\n",
       "    </tr>\n",
       "    <tr>\n",
       "      <th>4</th>\n",
       "      <td>2017-01-02</td>\n",
       "      <td>47.692</td>\n",
       "      <td>1_14</td>\n",
       "    </tr>\n",
       "  </tbody>\n",
       "</table>\n",
       "</div>"
      ],
      "text/plain": [
       "         date    sales city_medicine\n",
       "0  2017-01-02   72.000           1_2\n",
       "1  2017-01-02  128.000           1_3\n",
       "2  2017-01-02   64.000           1_8\n",
       "3  2017-01-02   52.000          1_13\n",
       "4  2017-01-02   47.692          1_14"
      ]
     },
     "execution_count": 36,
     "metadata": {},
     "output_type": "execute_result"
    }
   ],
   "source": [
    "sub_set.head()"
   ]
  },
  {
   "cell_type": "code",
   "execution_count": 37,
   "metadata": {},
   "outputs": [],
   "source": [
    "def add_dates(lst):# adding missing dates to the data\n",
    "    final=pd.DataFrame()\n",
    "    count=0\n",
    "    for med in lst:\n",
    "        df=sub_set[sub_set[\"city_medicine\"]==med]# subset the data frame\n",
    "        df[\"date\"]=pd.to_datetime(df[\"date\"])# converting to date time\n",
    "        start_date1=pd.to_datetime(\"2017-01-02\")# selecting the starting date\n",
    "        end_date = pd.to_datetime(\"2018-06-30\")# selecting the end date\n",
    "        dates=pd.DataFrame()# creating dates data frame\n",
    "        dates[\"date\"]=pd.date_range(start=start_date1,end=end_date,freq=\"d\")# generating date range\n",
    "        dates=dates.merge(df,on=[\"date\"],how=\"left\")# merging dates dataframe with df \n",
    "        dates[\"city_medicine\"]=med\n",
    "        dates[\"sales\"]=dates[\"sales\"].fillna(0)# fill na values of sales with zero\n",
    "        #print(dates.head())\n",
    "        final=pd.concat([final,dates])\n",
    "    return final"
   ]
  },
  {
   "cell_type": "code",
   "execution_count": 38,
   "metadata": {},
   "outputs": [],
   "source": [
    "new_trn_df=add_dates(lst)"
   ]
  },
  {
   "cell_type": "code",
   "execution_count": 39,
   "metadata": {},
   "outputs": [],
   "source": [
    "new_trn_df.to_csv(\"new_trn_df.csv\",index=False)"
   ]
  },
  {
   "cell_type": "code",
   "execution_count": 40,
   "metadata": {},
   "outputs": [],
   "source": [
    "def propht_model(lst):# creating a fuction for running the model on each city_medicine\n",
    "    fin=pd.DataFrame()\n",
    "    for med in lst:\n",
    "        df=new_trn_df[new_trn_df[\"city_medicine\"]==med]# subset the data frame\n",
    "        df.columns = ['ds', 'y',\"city_medicine\"]# rename columns as it is a requiremnt for propht model\n",
    "        #print(med)\n",
    "        model = Prophet(interval_width = 0.95)# we can also get confidence interval for each of our predictions (95% confidence interval)\n",
    "        model.fit(df)\n",
    "        future= model.make_future_dataframe(periods=31)# we need predictions for next 31 days\n",
    "        forecast = model.predict(future[-31:])# we are storing only last 31 days of predictions \n",
    "        forecast[\"city_medicine\"]=med\n",
    "        fin=pd.concat([fin,forecast[[\"ds\",\"yhat\",\"city_medicine\"]]])\n",
    "    return fin"
   ]
  },
  {
   "cell_type": "code",
   "execution_count": 41,
   "metadata": {},
   "outputs": [],
   "source": [
    "pred=propht_model(lst)"
   ]
  },
  {
   "cell_type": "code",
   "execution_count": 58,
   "metadata": {
    "scrolled": true
   },
   "outputs": [],
   "source": [
    "pred.to_csv(\"pred_to_testmerg.csv\",index=False)"
   ]
  },
  {
   "cell_type": "code",
   "execution_count": 146,
   "metadata": {
    "scrolled": true
   },
   "outputs": [
    {
     "data": {
      "text/plain": [
       "Index(['yhat', 'ds', 'city_medicine'], dtype='object')"
      ]
     },
     "execution_count": 146,
     "metadata": {},
     "output_type": "execute_result"
    }
   ],
   "source": [
    "prds.columns"
   ]
  },
  {
   "cell_type": "markdown",
   "metadata": {},
   "source": [
    "#### Let us merge the predictions with our best model, this is is the best model which has scored 50.52 in SCT and also combining with new city medicine average predictions"
   ]
  },
  {
   "cell_type": "markdown",
   "metadata": {},
   "source": [
    "Conclusion : we can fruther improve the model by strategically selecting the the city medicine combinations with p-values for which we can run propht model"
   ]
  }
 ],
 "metadata": {
  "kernelspec": {
   "display_name": "Python 3",
   "language": "python",
   "name": "python3"
  },
  "language_info": {
   "codemirror_mode": {
    "name": "ipython",
    "version": 3
   },
   "file_extension": ".py",
   "mimetype": "text/x-python",
   "name": "python",
   "nbconvert_exporter": "python",
   "pygments_lexer": "ipython3",
   "version": "3.7.3"
  }
 },
 "nbformat": 4,
 "nbformat_minor": 4
}
