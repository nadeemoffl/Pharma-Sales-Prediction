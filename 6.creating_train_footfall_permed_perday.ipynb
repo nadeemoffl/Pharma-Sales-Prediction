{
 "cells": [
  {
   "cell_type": "markdown",
   "metadata": {},
   "source": [
    "### Creating footfall data per day per medicine for train dataset"
   ]
  },
  {
   "cell_type": "markdown",
   "metadata": {},
   "source": [
    "- The strategy is to find the footfall per day per medicine\n",
    "- So how do we find it ?\n",
    "- we do  groupby w.r.t date and take sum of sales\n",
    "- we get a dataframe containing total sales per day\n",
    "- we merge it with actual dataframe\n",
    "- we create a column by diving actual sales with total sales per day\n",
    "- we get sales contribution of each day sales\n",
    "- we multiply sales contibution with footfall and we get footfall per day per medicine"
   ]
  },
  {
   "cell_type": "code",
   "execution_count": 11,
   "metadata": {},
   "outputs": [],
   "source": [
    "import numpy as np\n",
    "import pandas as pd\n",
    "import warnings\n",
    "import os\n",
    "warnings.filterwarnings('ignore')"
   ]
  },
  {
   "cell_type": "code",
   "execution_count": 32,
   "metadata": {},
   "outputs": [],
   "source": [
    "path=os.getcwd()"
   ]
  },
  {
   "cell_type": "code",
   "execution_count": 13,
   "metadata": {},
   "outputs": [],
   "source": [
    "train=pd.read_csv(\"train_finaldata.csv\", sep=\",\", na_values=[\"?\",\",\",\"#\",\"NaN\",\"unknown\",\"\"])\n",
    "train[\"discounted\"]=train[\"discounted\"].fillna(0)"
   ]
  },
  {
   "cell_type": "code",
   "execution_count": 14,
   "metadata": {},
   "outputs": [],
   "source": [
    "train.discounted=train.discounted.astype(\"int\")"
   ]
  },
  {
   "cell_type": "code",
   "execution_count": 15,
   "metadata": {
    "scrolled": false
   },
   "outputs": [
    {
     "data": {
      "text/html": [
       "<div>\n",
       "<style scoped>\n",
       "    .dataframe tbody tr th:only-of-type {\n",
       "        vertical-align: middle;\n",
       "    }\n",
       "\n",
       "    .dataframe tbody tr th {\n",
       "        vertical-align: top;\n",
       "    }\n",
       "\n",
       "    .dataframe thead th {\n",
       "        text-align: right;\n",
       "    }\n",
       "</style>\n",
       "<table border=\"1\" class=\"dataframe\">\n",
       "  <thead>\n",
       "    <tr style=\"text-align: right;\">\n",
       "      <th></th>\n",
       "      <th>year</th>\n",
       "      <th>month</th>\n",
       "      <th>day</th>\n",
       "      <th>city</th>\n",
       "      <th>medicine</th>\n",
       "      <th>date</th>\n",
       "      <th>sales</th>\n",
       "      <th>discounted</th>\n",
       "      <th>footfall</th>\n",
       "      <th>year_month</th>\n",
       "      <th>city_medicine</th>\n",
       "      <th>week</th>\n",
       "    </tr>\n",
       "  </thead>\n",
       "  <tbody>\n",
       "    <tr>\n",
       "      <th>0</th>\n",
       "      <td>2015</td>\n",
       "      <td>1</td>\n",
       "      <td>2</td>\n",
       "      <td>1</td>\n",
       "      <td>1</td>\n",
       "      <td>2015-01-02</td>\n",
       "      <td>24.0</td>\n",
       "      <td>0</td>\n",
       "      <td>13948.0</td>\n",
       "      <td>2015_01</td>\n",
       "      <td>1_1</td>\n",
       "      <td>1</td>\n",
       "    </tr>\n",
       "    <tr>\n",
       "      <th>1</th>\n",
       "      <td>2015</td>\n",
       "      <td>1</td>\n",
       "      <td>2</td>\n",
       "      <td>1</td>\n",
       "      <td>2</td>\n",
       "      <td>2015-01-02</td>\n",
       "      <td>144.0</td>\n",
       "      <td>0</td>\n",
       "      <td>13948.0</td>\n",
       "      <td>2015_01</td>\n",
       "      <td>1_2</td>\n",
       "      <td>1</td>\n",
       "    </tr>\n",
       "    <tr>\n",
       "      <th>2</th>\n",
       "      <td>2015</td>\n",
       "      <td>1</td>\n",
       "      <td>2</td>\n",
       "      <td>1</td>\n",
       "      <td>3</td>\n",
       "      <td>2015-01-02</td>\n",
       "      <td>84.0</td>\n",
       "      <td>0</td>\n",
       "      <td>13948.0</td>\n",
       "      <td>2015_01</td>\n",
       "      <td>1_3</td>\n",
       "      <td>1</td>\n",
       "    </tr>\n",
       "    <tr>\n",
       "      <th>3</th>\n",
       "      <td>2015</td>\n",
       "      <td>1</td>\n",
       "      <td>2</td>\n",
       "      <td>1</td>\n",
       "      <td>4</td>\n",
       "      <td>2015-01-02</td>\n",
       "      <td>24.0</td>\n",
       "      <td>0</td>\n",
       "      <td>13948.0</td>\n",
       "      <td>2015_01</td>\n",
       "      <td>1_4</td>\n",
       "      <td>1</td>\n",
       "    </tr>\n",
       "    <tr>\n",
       "      <th>4</th>\n",
       "      <td>2015</td>\n",
       "      <td>1</td>\n",
       "      <td>2</td>\n",
       "      <td>1</td>\n",
       "      <td>5</td>\n",
       "      <td>2015-01-02</td>\n",
       "      <td>8.0</td>\n",
       "      <td>0</td>\n",
       "      <td>13948.0</td>\n",
       "      <td>2015_01</td>\n",
       "      <td>1_5</td>\n",
       "      <td>1</td>\n",
       "    </tr>\n",
       "  </tbody>\n",
       "</table>\n",
       "</div>"
      ],
      "text/plain": [
       "   year  month  day  city  medicine        date  sales  discounted  footfall  \\\n",
       "0  2015      1    2     1         1  2015-01-02   24.0           0   13948.0   \n",
       "1  2015      1    2     1         2  2015-01-02  144.0           0   13948.0   \n",
       "2  2015      1    2     1         3  2015-01-02   84.0           0   13948.0   \n",
       "3  2015      1    2     1         4  2015-01-02   24.0           0   13948.0   \n",
       "4  2015      1    2     1         5  2015-01-02    8.0           0   13948.0   \n",
       "\n",
       "  year_month city_medicine  week  \n",
       "0    2015_01           1_1     1  \n",
       "1    2015_01           1_2     1  \n",
       "2    2015_01           1_3     1  \n",
       "3    2015_01           1_4     1  \n",
       "4    2015_01           1_5     1  "
      ]
     },
     "execution_count": 15,
     "metadata": {},
     "output_type": "execute_result"
    }
   ],
   "source": [
    "train.head()"
   ]
  },
  {
   "cell_type": "code",
   "execution_count": 16,
   "metadata": {},
   "outputs": [],
   "source": [
    "trn_grp_date=train.groupby([\"date\"])[\"sales\"].sum().reset_index()# groupby date and take sum of sales"
   ]
  },
  {
   "cell_type": "code",
   "execution_count": 17,
   "metadata": {
    "scrolled": true
   },
   "outputs": [],
   "source": [
    "trn_grp_date.rename(columns={\"sales\":\"total_sales_per_day\"},inplace=True)# rename sales to total_sales_per_day"
   ]
  },
  {
   "cell_type": "code",
   "execution_count": 18,
   "metadata": {
    "scrolled": true
   },
   "outputs": [
    {
     "data": {
      "text/html": [
       "<div>\n",
       "<style scoped>\n",
       "    .dataframe tbody tr th:only-of-type {\n",
       "        vertical-align: middle;\n",
       "    }\n",
       "\n",
       "    .dataframe tbody tr th {\n",
       "        vertical-align: top;\n",
       "    }\n",
       "\n",
       "    .dataframe thead th {\n",
       "        text-align: right;\n",
       "    }\n",
       "</style>\n",
       "<table border=\"1\" class=\"dataframe\">\n",
       "  <thead>\n",
       "    <tr style=\"text-align: right;\">\n",
       "      <th></th>\n",
       "      <th>date</th>\n",
       "      <th>total_sales_per_day</th>\n",
       "    </tr>\n",
       "  </thead>\n",
       "  <tbody>\n",
       "    <tr>\n",
       "      <th>0</th>\n",
       "      <td>2015-01-02</td>\n",
       "      <td>867673.604</td>\n",
       "    </tr>\n",
       "    <tr>\n",
       "      <th>1</th>\n",
       "      <td>2015-01-03</td>\n",
       "      <td>586097.240</td>\n",
       "    </tr>\n",
       "  </tbody>\n",
       "</table>\n",
       "</div>"
      ],
      "text/plain": [
       "         date  total_sales_per_day\n",
       "0  2015-01-02           867673.604\n",
       "1  2015-01-03           586097.240"
      ]
     },
     "execution_count": 18,
     "metadata": {},
     "output_type": "execute_result"
    }
   ],
   "source": [
    "trn_grp_date.head(2)"
   ]
  },
  {
   "cell_type": "code",
   "execution_count": 19,
   "metadata": {},
   "outputs": [
    {
     "data": {
      "text/plain": [
       "(1269, 2)"
      ]
     },
     "execution_count": 19,
     "metadata": {},
     "output_type": "execute_result"
    }
   ],
   "source": [
    "trn_grp_date.shape"
   ]
  },
  {
   "cell_type": "code",
   "execution_count": 20,
   "metadata": {
    "scrolled": true
   },
   "outputs": [],
   "source": [
    "train=train.merge(trn_grp_date,on=[\"date\"],how=\"left\")"
   ]
  },
  {
   "cell_type": "code",
   "execution_count": 21,
   "metadata": {},
   "outputs": [
    {
     "data": {
      "text/plain": [
       "(22601741, 13)"
      ]
     },
     "execution_count": 21,
     "metadata": {},
     "output_type": "execute_result"
    }
   ],
   "source": [
    "train.shape"
   ]
  },
  {
   "cell_type": "code",
   "execution_count": 22,
   "metadata": {},
   "outputs": [
    {
     "data": {
      "text/html": [
       "<div>\n",
       "<style scoped>\n",
       "    .dataframe tbody tr th:only-of-type {\n",
       "        vertical-align: middle;\n",
       "    }\n",
       "\n",
       "    .dataframe tbody tr th {\n",
       "        vertical-align: top;\n",
       "    }\n",
       "\n",
       "    .dataframe thead th {\n",
       "        text-align: right;\n",
       "    }\n",
       "</style>\n",
       "<table border=\"1\" class=\"dataframe\">\n",
       "  <thead>\n",
       "    <tr style=\"text-align: right;\">\n",
       "      <th></th>\n",
       "      <th>year</th>\n",
       "      <th>month</th>\n",
       "      <th>day</th>\n",
       "      <th>city</th>\n",
       "      <th>medicine</th>\n",
       "      <th>date</th>\n",
       "      <th>sales</th>\n",
       "      <th>discounted</th>\n",
       "      <th>footfall</th>\n",
       "      <th>year_month</th>\n",
       "      <th>city_medicine</th>\n",
       "      <th>week</th>\n",
       "      <th>total_sales_per_day</th>\n",
       "    </tr>\n",
       "  </thead>\n",
       "  <tbody>\n",
       "    <tr>\n",
       "      <th>0</th>\n",
       "      <td>2015</td>\n",
       "      <td>1</td>\n",
       "      <td>2</td>\n",
       "      <td>1</td>\n",
       "      <td>1</td>\n",
       "      <td>2015-01-02</td>\n",
       "      <td>24.0</td>\n",
       "      <td>0</td>\n",
       "      <td>13948.0</td>\n",
       "      <td>2015_01</td>\n",
       "      <td>1_1</td>\n",
       "      <td>1</td>\n",
       "      <td>867673.604</td>\n",
       "    </tr>\n",
       "    <tr>\n",
       "      <th>1</th>\n",
       "      <td>2015</td>\n",
       "      <td>1</td>\n",
       "      <td>2</td>\n",
       "      <td>1</td>\n",
       "      <td>2</td>\n",
       "      <td>2015-01-02</td>\n",
       "      <td>144.0</td>\n",
       "      <td>0</td>\n",
       "      <td>13948.0</td>\n",
       "      <td>2015_01</td>\n",
       "      <td>1_2</td>\n",
       "      <td>1</td>\n",
       "      <td>867673.604</td>\n",
       "    </tr>\n",
       "  </tbody>\n",
       "</table>\n",
       "</div>"
      ],
      "text/plain": [
       "   year  month  day  city  medicine        date  sales  discounted  footfall  \\\n",
       "0  2015      1    2     1         1  2015-01-02   24.0           0   13948.0   \n",
       "1  2015      1    2     1         2  2015-01-02  144.0           0   13948.0   \n",
       "\n",
       "  year_month city_medicine  week  total_sales_per_day  \n",
       "0    2015_01           1_1     1           867673.604  \n",
       "1    2015_01           1_2     1           867673.604  "
      ]
     },
     "execution_count": 22,
     "metadata": {},
     "output_type": "execute_result"
    }
   ],
   "source": [
    "train.head(2)"
   ]
  },
  {
   "cell_type": "code",
   "execution_count": 23,
   "metadata": {},
   "outputs": [],
   "source": [
    "train[\"sales_contribution\"]=train[\"sales\"]/train[\"total_sales_per_day\"]"
   ]
  },
  {
   "cell_type": "code",
   "execution_count": 24,
   "metadata": {},
   "outputs": [
    {
     "data": {
      "text/html": [
       "<div>\n",
       "<style scoped>\n",
       "    .dataframe tbody tr th:only-of-type {\n",
       "        vertical-align: middle;\n",
       "    }\n",
       "\n",
       "    .dataframe tbody tr th {\n",
       "        vertical-align: top;\n",
       "    }\n",
       "\n",
       "    .dataframe thead th {\n",
       "        text-align: right;\n",
       "    }\n",
       "</style>\n",
       "<table border=\"1\" class=\"dataframe\">\n",
       "  <thead>\n",
       "    <tr style=\"text-align: right;\">\n",
       "      <th></th>\n",
       "      <th>year</th>\n",
       "      <th>month</th>\n",
       "      <th>day</th>\n",
       "      <th>city</th>\n",
       "      <th>medicine</th>\n",
       "      <th>date</th>\n",
       "      <th>sales</th>\n",
       "      <th>discounted</th>\n",
       "      <th>footfall</th>\n",
       "      <th>year_month</th>\n",
       "      <th>city_medicine</th>\n",
       "      <th>week</th>\n",
       "      <th>total_sales_per_day</th>\n",
       "      <th>sales_contribution</th>\n",
       "    </tr>\n",
       "  </thead>\n",
       "  <tbody>\n",
       "    <tr>\n",
       "      <th>0</th>\n",
       "      <td>2015</td>\n",
       "      <td>1</td>\n",
       "      <td>2</td>\n",
       "      <td>1</td>\n",
       "      <td>1</td>\n",
       "      <td>2015-01-02</td>\n",
       "      <td>24.0</td>\n",
       "      <td>0</td>\n",
       "      <td>13948.0</td>\n",
       "      <td>2015_01</td>\n",
       "      <td>1_1</td>\n",
       "      <td>1</td>\n",
       "      <td>867673.604</td>\n",
       "      <td>0.000028</td>\n",
       "    </tr>\n",
       "    <tr>\n",
       "      <th>1</th>\n",
       "      <td>2015</td>\n",
       "      <td>1</td>\n",
       "      <td>2</td>\n",
       "      <td>1</td>\n",
       "      <td>2</td>\n",
       "      <td>2015-01-02</td>\n",
       "      <td>144.0</td>\n",
       "      <td>0</td>\n",
       "      <td>13948.0</td>\n",
       "      <td>2015_01</td>\n",
       "      <td>1_2</td>\n",
       "      <td>1</td>\n",
       "      <td>867673.604</td>\n",
       "      <td>0.000166</td>\n",
       "    </tr>\n",
       "  </tbody>\n",
       "</table>\n",
       "</div>"
      ],
      "text/plain": [
       "   year  month  day  city  medicine        date  sales  discounted  footfall  \\\n",
       "0  2015      1    2     1         1  2015-01-02   24.0           0   13948.0   \n",
       "1  2015      1    2     1         2  2015-01-02  144.0           0   13948.0   \n",
       "\n",
       "  year_month city_medicine  week  total_sales_per_day  sales_contribution  \n",
       "0    2015_01           1_1     1           867673.604            0.000028  \n",
       "1    2015_01           1_2     1           867673.604            0.000166  "
      ]
     },
     "execution_count": 24,
     "metadata": {},
     "output_type": "execute_result"
    }
   ],
   "source": [
    "train.head(2)"
   ]
  },
  {
   "cell_type": "code",
   "execution_count": 25,
   "metadata": {},
   "outputs": [],
   "source": [
    "train[\"footfall_perday_permed\"]=train[\"sales_contribution\"]*train[\"footfall\"]# creating footfall per day per medicine"
   ]
  },
  {
   "cell_type": "code",
   "execution_count": 26,
   "metadata": {},
   "outputs": [],
   "source": [
    "for col in [\"year\",\"month\",\"day\",\"city\",\"medicine\",\"week\"]:\n",
    "    train[col]=train[col].astype(int)"
   ]
  },
  {
   "cell_type": "code",
   "execution_count": 27,
   "metadata": {},
   "outputs": [
    {
     "data": {
      "text/plain": [
       "year                        int32\n",
       "month                       int32\n",
       "day                         int32\n",
       "city                        int32\n",
       "medicine                    int32\n",
       "date                       object\n",
       "sales                     float64\n",
       "discounted                  int32\n",
       "footfall                  float64\n",
       "year_month                 object\n",
       "city_medicine              object\n",
       "week                        int32\n",
       "total_sales_per_day       float64\n",
       "sales_contribution        float64\n",
       "footfall_perday_permed    float64\n",
       "dtype: object"
      ]
     },
     "execution_count": 27,
     "metadata": {},
     "output_type": "execute_result"
    }
   ],
   "source": [
    "train.dtypes"
   ]
  },
  {
   "cell_type": "code",
   "execution_count": 28,
   "metadata": {},
   "outputs": [],
   "source": [
    "train.drop([\"total_sales_per_day\",\"sales_contribution\",\"footfall\"],inplace=True,axis=1)"
   ]
  },
  {
   "cell_type": "code",
   "execution_count": 30,
   "metadata": {},
   "outputs": [
    {
     "data": {
      "text/html": [
       "<div>\n",
       "<style scoped>\n",
       "    .dataframe tbody tr th:only-of-type {\n",
       "        vertical-align: middle;\n",
       "    }\n",
       "\n",
       "    .dataframe tbody tr th {\n",
       "        vertical-align: top;\n",
       "    }\n",
       "\n",
       "    .dataframe thead th {\n",
       "        text-align: right;\n",
       "    }\n",
       "</style>\n",
       "<table border=\"1\" class=\"dataframe\">\n",
       "  <thead>\n",
       "    <tr style=\"text-align: right;\">\n",
       "      <th></th>\n",
       "      <th>year</th>\n",
       "      <th>month</th>\n",
       "      <th>day</th>\n",
       "      <th>city</th>\n",
       "      <th>medicine</th>\n",
       "      <th>date</th>\n",
       "      <th>sales</th>\n",
       "      <th>discounted</th>\n",
       "      <th>year_month</th>\n",
       "      <th>city_medicine</th>\n",
       "      <th>week</th>\n",
       "      <th>footfall_perday_permed</th>\n",
       "    </tr>\n",
       "  </thead>\n",
       "  <tbody>\n",
       "    <tr>\n",
       "      <th>0</th>\n",
       "      <td>2015</td>\n",
       "      <td>1</td>\n",
       "      <td>2</td>\n",
       "      <td>1</td>\n",
       "      <td>1</td>\n",
       "      <td>2015-01-02</td>\n",
       "      <td>24.0</td>\n",
       "      <td>0</td>\n",
       "      <td>2015_01</td>\n",
       "      <td>1_1</td>\n",
       "      <td>1</td>\n",
       "      <td>0.385804</td>\n",
       "    </tr>\n",
       "    <tr>\n",
       "      <th>1</th>\n",
       "      <td>2015</td>\n",
       "      <td>1</td>\n",
       "      <td>2</td>\n",
       "      <td>1</td>\n",
       "      <td>2</td>\n",
       "      <td>2015-01-02</td>\n",
       "      <td>144.0</td>\n",
       "      <td>0</td>\n",
       "      <td>2015_01</td>\n",
       "      <td>1_2</td>\n",
       "      <td>1</td>\n",
       "      <td>2.314824</td>\n",
       "    </tr>\n",
       "    <tr>\n",
       "      <th>2</th>\n",
       "      <td>2015</td>\n",
       "      <td>1</td>\n",
       "      <td>2</td>\n",
       "      <td>1</td>\n",
       "      <td>3</td>\n",
       "      <td>2015-01-02</td>\n",
       "      <td>84.0</td>\n",
       "      <td>0</td>\n",
       "      <td>2015_01</td>\n",
       "      <td>1_3</td>\n",
       "      <td>1</td>\n",
       "      <td>1.350314</td>\n",
       "    </tr>\n",
       "    <tr>\n",
       "      <th>3</th>\n",
       "      <td>2015</td>\n",
       "      <td>1</td>\n",
       "      <td>2</td>\n",
       "      <td>1</td>\n",
       "      <td>4</td>\n",
       "      <td>2015-01-02</td>\n",
       "      <td>24.0</td>\n",
       "      <td>0</td>\n",
       "      <td>2015_01</td>\n",
       "      <td>1_4</td>\n",
       "      <td>1</td>\n",
       "      <td>0.385804</td>\n",
       "    </tr>\n",
       "    <tr>\n",
       "      <th>4</th>\n",
       "      <td>2015</td>\n",
       "      <td>1</td>\n",
       "      <td>2</td>\n",
       "      <td>1</td>\n",
       "      <td>5</td>\n",
       "      <td>2015-01-02</td>\n",
       "      <td>8.0</td>\n",
       "      <td>0</td>\n",
       "      <td>2015_01</td>\n",
       "      <td>1_5</td>\n",
       "      <td>1</td>\n",
       "      <td>0.128601</td>\n",
       "    </tr>\n",
       "  </tbody>\n",
       "</table>\n",
       "</div>"
      ],
      "text/plain": [
       "   year  month  day  city  medicine        date  sales  discounted year_month  \\\n",
       "0  2015      1    2     1         1  2015-01-02   24.0           0    2015_01   \n",
       "1  2015      1    2     1         2  2015-01-02  144.0           0    2015_01   \n",
       "2  2015      1    2     1         3  2015-01-02   84.0           0    2015_01   \n",
       "3  2015      1    2     1         4  2015-01-02   24.0           0    2015_01   \n",
       "4  2015      1    2     1         5  2015-01-02    8.0           0    2015_01   \n",
       "\n",
       "  city_medicine  week  footfall_perday_permed  \n",
       "0           1_1     1                0.385804  \n",
       "1           1_2     1                2.314824  \n",
       "2           1_3     1                1.350314  \n",
       "3           1_4     1                0.385804  \n",
       "4           1_5     1                0.128601  "
      ]
     },
     "execution_count": 30,
     "metadata": {},
     "output_type": "execute_result"
    }
   ],
   "source": [
    "train.head()"
   ]
  },
  {
   "cell_type": "code",
   "execution_count": 31,
   "metadata": {},
   "outputs": [],
   "source": [
    "train.to_csv(\"train_footfalldata.csv\",index=False)# saving train along with footfall data"
   ]
  }
 ],
 "metadata": {
  "kernelspec": {
   "display_name": "Python 3",
   "language": "python",
   "name": "python3"
  },
  "language_info": {
   "codemirror_mode": {
    "name": "ipython",
    "version": 3
   },
   "file_extension": ".py",
   "mimetype": "text/x-python",
   "name": "python",
   "nbconvert_exporter": "python",
   "pygments_lexer": "ipython3",
   "version": "3.7.3"
  }
 },
 "nbformat": 4,
 "nbformat_minor": 4
}
